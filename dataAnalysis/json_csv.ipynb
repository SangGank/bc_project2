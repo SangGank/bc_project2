{
 "cells": [
  {
   "cell_type": "code",
   "execution_count": 34,
   "metadata": {},
   "outputs": [],
   "source": [
    "import pandas as pd"
   ]
  },
  {
   "cell_type": "code",
   "execution_count": 35,
   "metadata": {},
   "outputs": [],
   "source": [
    "import json\n",
    "\n",
    "with open(\"../data/dataset/test/klue-re-v1.1_dev.json\", \"r\") as f:\n",
    "\tdata = json.load(f)\n",
    "    \n",
    "# print(data)"
   ]
  },
  {
   "cell_type": "code",
   "execution_count": 36,
   "metadata": {},
   "outputs": [],
   "source": [
    "dev = pd.read_csv('../data/dataset/test/test_data.csv')\n",
    "data = pd.DataFrame(data)\n"
   ]
  },
  {
   "cell_type": "code",
   "execution_count": null,
   "metadata": {},
   "outputs": [],
   "source": [
    "# dev['subject_entity'] = dev['subject_entity'].astype(str)\n",
    "# dev['object_entity'] = dev['object_entity'].astype(str)"
   ]
  },
  {
   "cell_type": "code",
   "execution_count": 37,
   "metadata": {},
   "outputs": [],
   "source": [
    "\n",
    "data['subject_entity'] = data['subject_entity'].astype(str)\n",
    "data['object_entity'] = data['object_entity'].astype(str)\n",
    "result = pd.merge(left = dev[['id','sentence','subject_entity','object_entity']], right = data.loc[:, 'sentence':], on = ['sentence','subject_entity','object_entity'])\n",
    "result.to_csv('../data/dataset/test/dev_final.csv')\n"
   ]
  },
  {
   "cell_type": "code",
   "execution_count": null,
   "metadata": {},
   "outputs": [],
   "source": []
  }
 ],
 "metadata": {
  "kernelspec": {
   "display_name": "base",
   "language": "python",
   "name": "python3"
  },
  "language_info": {
   "codemirror_mode": {
    "name": "ipython",
    "version": 3
   },
   "file_extension": ".py",
   "mimetype": "text/x-python",
   "name": "python",
   "nbconvert_exporter": "python",
   "pygments_lexer": "ipython3",
   "version": "3.8.5"
  }
 },
 "nbformat": 4,
 "nbformat_minor": 2
}
