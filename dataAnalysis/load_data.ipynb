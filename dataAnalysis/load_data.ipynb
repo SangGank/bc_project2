{
 "cells": [
  {
   "cell_type": "code",
   "execution_count": 2,
   "metadata": {},
   "outputs": [],
   "source": [
    "import re\n",
    "import pandas as pd"
   ]
  },
  {
   "cell_type": "code",
   "execution_count": 3,
   "metadata": {},
   "outputs": [],
   "source": [
    "\n",
    "def preprocessing_dataset(dataset):\n",
    "  \"\"\" 처음 불러온 csv 파일을 원하는 형태의 DataFrame으로 변경 시켜줍니다.\"\"\"\n",
    "  subject_entity = []\n",
    "  object_entity = []\n",
    "  subject_type= []\n",
    "  object_type= []\n",
    "  subject_start= []\n",
    "  object_start= []\n",
    "  subject_end= []\n",
    "  object_end= []\n",
    "  \n",
    "\n",
    "  for i,j in zip(dataset['subject_entity'], dataset['object_entity']):\n",
    "    # i = i[1:-1].split(',')[0].split(':')[1]\n",
    "    sub_entity = eval(i)\n",
    "    ob_entity = eval(j)\n",
    "    sub_word= sub_entity['word']\n",
    "    sub_type = sub_entity['type']\n",
    "    # j = j[1:-1].split(',')[0].split(':')[1]\n",
    "    ob_word = ob_entity['word']\n",
    "    ob_type = ob_entity['type']\n",
    "\n",
    "    ob_start = ob_entity['start_idx']\n",
    "    sub_start = sub_entity['start_idx']\n",
    "\n",
    "    ob_end = ob_entity['end_idx']\n",
    "    sub_end = sub_entity['end_idx']\n",
    "\n",
    "\n",
    "    subject_entity.append(sub_word)\n",
    "    object_entity.append(ob_word)\n",
    "    subject_type.append(sub_type)\n",
    "    object_type.append(ob_type)\n",
    "    subject_start.append(sub_start)\n",
    "    object_start.append(ob_start)\n",
    "    subject_end.append(sub_end)\n",
    "    object_end.append(ob_end)\n",
    "  \n",
    "  out_dataset = pd.DataFrame({'id':dataset['id'], 'sentence':dataset['sentence'],'subject_entity':subject_entity,'object_entity':object_entity,'label':dataset['label'],\n",
    "                              'subject_type' : subject_type, 'object_type': object_type,'sub_start' : subject_start,'ob_start':object_start,'sub_end' :subject_end ,'ob_end': object_end})\n",
    "  out_dataset.id = out_dataset.index\n",
    "  return out_dataset\n",
    "\n",
    "\n",
    "  \n",
    "def load_data(dataset_dir):\n",
    "  \"\"\" csv 파일을 경로에 맡게 불러 옵니다. \"\"\"\n",
    "  pd_dataset = pd.read_csv(dataset_dir)\n",
    "  dataset = preprocessing_dataset(pd_dataset)\n",
    "  \n",
    "  return dataset"
   ]
  },
  {
   "cell_type": "markdown",
   "metadata": {},
   "source": [
    "### 1. 기본 베이스 모델"
   ]
  },
  {
   "cell_type": "code",
   "execution_count": 4,
   "metadata": {},
   "outputs": [
    {
     "name": "stdout",
     "output_type": "stream",
     "text": [
      "['Runch Randa [SEP] 방탄소년단', '위키백과 [SEP] 위키미디어 재단', '임재범 [SEP] 송남영', '산청군 [SEP] 이재근', '유신정우회 [SEP] 한국국민당']\n",
      "0    방탄소년단 멤버로 데뷔하기 전에 그는 《Runch Randa》라는 이름인 언더 래퍼였다.\n",
      "1    위키백과를 운영하고 있는 위키미디어 재단은 매년 세계적인 컨퍼런스인 위키마니아 행사...\n",
      "2    그는 이화여대 미대 출신의 한국 여성 정재은씨와 결혼해 두 딸을 두고 있고, 임재범...\n",
      "3    경남 산청군 산청군청에서 열린 협약식에는 최재호 무학그룹 회장과 이재근 산청군수 외...\n",
      "4    1980년 구 민주공화당 인사들과 유신정우회 인사들이 한국국민당을 창당하였고, 19...\n",
      "Name: sentence, dtype: object\n"
     ]
    }
   ],
   "source": [
    "def tokenized_dataset(dataset):\n",
    "  \"\"\" tokenizer에 따라 sentence를 tokenizing 합니다.\"\"\"\n",
    "  concat_entity = []\n",
    "  for e01, e02 in zip(dataset['subject_entity'], dataset['object_entity']):\n",
    "    temp = ''\n",
    "    temp = e01 + ' [SEP] ' + e02\n",
    "    concat_entity.append(temp)\n",
    "  \n",
    "  print(concat_entity[:5])\n",
    "  print(dataset['sentence'].head())\n",
    "  # dataset['sentence'] = dataset['id'].apply(lambda x: change_word(dataset.sentence.loc[x],dataset.subject_entity.loc[x],\n",
    "  #  \n",
    "train_dataset = load_data(\"../data/dataset/train/train_totalX3.csv\")\n",
    "tokenized_train = tokenized_dataset(train_dataset)"
   ]
  },
  {
   "cell_type": "code",
   "execution_count": null,
   "metadata": {},
   "outputs": [],
   "source": [
    "\n"
   ]
  },
  {
   "cell_type": "markdown",
   "metadata": {},
   "source": [
    "### 2. 단어를 토큰으로 바꾸기\n"
   ]
  },
  {
   "cell_type": "code",
   "execution_count": 5,
   "metadata": {},
   "outputs": [
    {
     "name": "stdout",
     "output_type": "stream",
     "text": [
      "['Runch Randa [SEP] 방탄소년단', '위키백과 [SEP] 위키미디어 재단', '임재범 [SEP] 송남영', '산청군 [SEP] 이재근', '유신정우회 [SEP] 한국국민당']\n",
      "0          <PER> 멤버로 데뷔하기 전에 그는 《<PER>》라는 이름인 언더 래퍼였다.\n",
      "1    <ORG>를 운영하고 있는 <ORG>은 매년 세계적인 컨퍼런스인 위키마니아 행사를 ...\n",
      "2    그는 이화여대 미대 출신의 한국 여성 정재은씨와 결혼해 두 딸을 두고 있고, <PE...\n",
      "3    경남 <ORG> <ORG>청에서 열린 협약식에는 최재호 무학그룹 회장과 <PER> ...\n",
      "4    1980년 구 민주공화당 인사들과 <ORG> 인사들이 <ORG>을 창당하였고, 19...\n",
      "Name: sentence, dtype: object\n"
     ]
    }
   ],
   "source": [
    "\n",
    "def change_word(sentence, sub_word, sub_type , ob_word, ob_type):\n",
    "  sentence = re.sub(rf'{sub_word}',f'<{sub_type}>',sentence)\n",
    "  sentence = re.sub(rf'{ob_word}',f'<{ob_type}>',sentence)\n",
    "\n",
    "  return sentence\n",
    "\n",
    "def tokenized_dataset(dataset):\n",
    "  \"\"\" tokenizer에 따라 sentence를 tokenizing 합니다.\"\"\"\n",
    "  concat_entity = []\n",
    "  for e01, e02 in zip(dataset['subject_entity'], dataset['object_entity']):\n",
    "    temp = ''\n",
    "    temp = e01 + ' [SEP] ' + e02\n",
    "    concat_entity.append(temp)\n",
    "  \n",
    "  dataset['sentence'] = dataset['id'].apply(lambda x: change_word(dataset.sentence.loc[x],dataset.subject_entity.loc[x],\n",
    "                                                                  dataset.subject_type.loc[x],dataset.object_entity.loc[x], dataset.object_type.loc[x]))\n",
    "  \n",
    "  print(concat_entity[:5])\n",
    "  print(dataset['sentence'].head())\n",
    "                                  \n",
    "train_dataset = load_data(\"../data/dataset/train/train_totalX3.csv\")\n",
    "tokenized_train = tokenized_dataset(train_dataset)                                "
   ]
  },
  {
   "cell_type": "markdown",
   "metadata": {},
   "source": [
    "### 3. 인덱스 스타트 번호 넣기"
   ]
  },
  {
   "cell_type": "code",
   "execution_count": 6,
   "metadata": {},
   "outputs": [
    {
     "name": "stdout",
     "output_type": "stream",
     "text": [
      "['Runch Randa [SEP] 22 [SEP] 방탄소년단 [SEP] 0', '위키백과 [SEP] 0 [SEP] 위키미디어 재단 [SEP] 14', '임재범 [SEP] 43 [SEP] 송남영 [SEP] 52', '산청군 [SEP] 7 [SEP] 이재근 [SEP] 36', '유신정우회 [SEP] 19 [SEP] 한국국민당 [SEP] 30']\n",
      "0    방탄소년단 멤버로 데뷔하기 전에 그는 《Runch Randa》라는 이름인 언더 래퍼였다.\n",
      "1    위키백과를 운영하고 있는 위키미디어 재단은 매년 세계적인 컨퍼런스인 위키마니아 행사...\n",
      "2    그는 이화여대 미대 출신의 한국 여성 정재은씨와 결혼해 두 딸을 두고 있고, 임재범...\n",
      "3    경남 산청군 산청군청에서 열린 협약식에는 최재호 무학그룹 회장과 이재근 산청군수 외...\n",
      "4    1980년 구 민주공화당 인사들과 유신정우회 인사들이 한국국민당을 창당하였고, 19...\n",
      "Name: sentence, dtype: object\n"
     ]
    }
   ],
   "source": [
    "\n",
    "def change_word(sentence, sub_word, sub_type , ob_word, ob_type):\n",
    "  sentence = re.sub(rf'{sub_word}',f'<{sub_type}>',sentence)\n",
    "  sentence = re.sub(rf'{ob_word}',f'<{ob_type}>',sentence)\n",
    "\n",
    "  return sentence\n",
    "\n",
    "def tokenized_dataset(dataset):\n",
    "  \"\"\" tokenizer에 따라 sentence를 tokenizing 합니다.\"\"\"\n",
    "  concat_entity = []\n",
    "  for e01, e02, s01, s02 in zip(dataset['subject_entity'], dataset['object_entity'], dataset['sub_start'], dataset['ob_start']):\n",
    "    temp = ''\n",
    "    temp = e01 + ' [SEP] '+ f'{s01}' + ' [SEP] ' + e02+ ' [SEP] '+ f'{s02}'\n",
    "    concat_entity.append(temp)\n",
    "  \n",
    "  # dataset['sentence'] = dataset['id'].apply(lambda x: change_word(dataset.sentence.loc[x],dataset.subject_entity.loc[x],\n",
    "  #                                                                 dataset.subject_type.loc[x],dataset.object_entity.loc[x], dataset.object_type.loc[x]))\n",
    "  \n",
    "  print(concat_entity[:5])\n",
    "  print(dataset['sentence'].head())\n",
    "                                  \n",
    "train_dataset = load_data(\"../data/dataset/train/train_totalX3.csv\")\n",
    "tokenized_train = tokenized_dataset(train_dataset)                                "
   ]
  },
  {
   "cell_type": "markdown",
   "metadata": {},
   "source": [
    "### 4. 스타트 번호, 끝번호 둘다 넣기"
   ]
  },
  {
   "cell_type": "code",
   "execution_count": 7,
   "metadata": {},
   "outputs": [
    {
     "name": "stdout",
     "output_type": "stream",
     "text": [
      "['Runch Randa [SEP] 22 32 [SEP] 방탄소년단 [SEP] 0 4', '위키백과 [SEP] 0 3 [SEP] 위키미디어 재단 [SEP] 14 21', '임재범 [SEP] 43 45 [SEP] 송남영 [SEP] 52 54', '산청군 [SEP] 7 9 [SEP] 이재근 [SEP] 36 38', '유신정우회 [SEP] 19 23 [SEP] 한국국민당 [SEP] 30 34']\n",
      "0    방탄소년단 멤버로 데뷔하기 전에 그는 《Runch Randa》라는 이름인 언더 래퍼였다.\n",
      "1    위키백과를 운영하고 있는 위키미디어 재단은 매년 세계적인 컨퍼런스인 위키마니아 행사...\n",
      "2    그는 이화여대 미대 출신의 한국 여성 정재은씨와 결혼해 두 딸을 두고 있고, 임재범...\n",
      "3    경남 산청군 산청군청에서 열린 협약식에는 최재호 무학그룹 회장과 이재근 산청군수 외...\n",
      "4    1980년 구 민주공화당 인사들과 유신정우회 인사들이 한국국민당을 창당하였고, 19...\n",
      "Name: sentence, dtype: object\n"
     ]
    }
   ],
   "source": [
    "\n",
    "def change_word(sentence, sub_word, sub_type , ob_word, ob_type):\n",
    "  sentence = re.sub(rf'{sub_word}',f'<{sub_type}>',sentence)\n",
    "  sentence = re.sub(rf'{ob_word}',f'<{ob_type}>',sentence)\n",
    "\n",
    "  return sentence\n",
    "\n",
    "def tokenized_dataset(dataset):\n",
    "  \"\"\" tokenizer에 따라 sentence를 tokenizing 합니다.\"\"\"\n",
    "  concat_entity = []\n",
    "  for e01, e02, s01, s02, d01, d02 in zip(dataset['subject_entity'], dataset['object_entity'], dataset['sub_start'], dataset['ob_start'], dataset['sub_end'], dataset['ob_end']):\n",
    "    temp = ''\n",
    "    temp = e01 + ' [SEP] '+ f'{s01} {d01}' + ' [SEP] ' + e02+ ' [SEP] '+ f'{s02} {d02}'\n",
    "    concat_entity.append(temp)\n",
    "  \n",
    "  # dataset['sentence'] = dataset['id'].apply(lambda x: change_word(dataset.sentence.loc[x],dataset.subject_entity.loc[x],\n",
    "  #                                                                 dataset.subject_type.loc[x],dataset.object_entity.loc[x], dataset.object_type.loc[x]))\n",
    "  \n",
    "  print(concat_entity[:5])\n",
    "  print(dataset['sentence'].head())\n",
    "                                  \n",
    "train_dataset = load_data(\"../data/dataset/train/train_totalX3.csv\")\n",
    "tokenized_train = tokenized_dataset(train_dataset)                                "
   ]
  },
  {
   "cell_type": "markdown",
   "metadata": {},
   "source": [
    "### 5. object이랑 subject 각각 표시"
   ]
  },
  {
   "cell_type": "code",
   "execution_count": 8,
   "metadata": {},
   "outputs": [
    {
     "name": "stdout",
     "output_type": "stream",
     "text": [
      "['<ob> Runch Randa [SEP] <sub> 방탄소년단', '<ob> 위키백과 [SEP] <sub> 위키미디어 재단', '<ob> 임재범 [SEP] <sub> 송남영', '<ob> 산청군 [SEP] <sub> 이재근', '<ob> 유신정우회 [SEP] <sub> 한국국민당']\n",
      "0    방탄소년단 멤버로 데뷔하기 전에 그는 《Runch Randa》라는 이름인 언더 래퍼였다.\n",
      "1    위키백과를 운영하고 있는 위키미디어 재단은 매년 세계적인 컨퍼런스인 위키마니아 행사...\n",
      "2    그는 이화여대 미대 출신의 한국 여성 정재은씨와 결혼해 두 딸을 두고 있고, 임재범...\n",
      "3    경남 산청군 산청군청에서 열린 협약식에는 최재호 무학그룹 회장과 이재근 산청군수 외...\n",
      "4    1980년 구 민주공화당 인사들과 유신정우회 인사들이 한국국민당을 창당하였고, 19...\n",
      "Name: sentence, dtype: object\n"
     ]
    }
   ],
   "source": [
    "def tokenized_dataset(dataset):\n",
    "  \"\"\" tokenizer에 따라 sentence를 tokenizing 합니다.\"\"\"\n",
    "  concat_entity = []\n",
    "  for e01, e02 in zip(dataset['subject_entity'], dataset['object_entity']):\n",
    "    temp = ''\n",
    "    temp = '<ob> ' + e01 + ' [SEP] ' + '<sub> ' + e02\n",
    "    concat_entity.append(temp)\n",
    "  \n",
    "  print(concat_entity[:5])\n",
    "  print(dataset['sentence'].head())\n",
    "  # dataset['sentence'] = dataset['id'].apply(lambda x: change_word(dataset.sentence.loc[x],dataset.subject_entity.loc[x],\n",
    "  #  \n",
    "train_dataset = load_data(\"../data/dataset/train/train_totalX3.csv\")\n",
    "tokenized_train = tokenized_dataset(train_dataset)"
   ]
  }
 ],
 "metadata": {
  "kernelspec": {
   "display_name": "base",
   "language": "python",
   "name": "python3"
  },
  "language_info": {
   "codemirror_mode": {
    "name": "ipython",
    "version": 3
   },
   "file_extension": ".py",
   "mimetype": "text/x-python",
   "name": "python",
   "nbconvert_exporter": "python",
   "pygments_lexer": "ipython3",
   "version": "3.8.5"
  }
 },
 "nbformat": 4,
 "nbformat_minor": 2
}
