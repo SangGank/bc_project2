{
 "cells": [
  {
   "cell_type": "code",
   "execution_count": 5,
   "metadata": {},
   "outputs": [],
   "source": [
    "import pandas as pd"
   ]
  },
  {
   "cell_type": "code",
   "execution_count": 15,
   "metadata": {},
   "outputs": [
    {
     "data": {
      "text/html": [
       "<div>\n",
       "<style scoped>\n",
       "    .dataframe tbody tr th:only-of-type {\n",
       "        vertical-align: middle;\n",
       "    }\n",
       "\n",
       "    .dataframe tbody tr th {\n",
       "        vertical-align: top;\n",
       "    }\n",
       "\n",
       "    .dataframe thead th {\n",
       "        text-align: right;\n",
       "    }\n",
       "</style>\n",
       "<table border=\"1\" class=\"dataframe\">\n",
       "  <thead>\n",
       "    <tr style=\"text-align: right;\">\n",
       "      <th></th>\n",
       "      <th>id</th>\n",
       "      <th>source</th>\n",
       "      <th>pred_label</th>\n",
       "      <th>probs</th>\n",
       "    </tr>\n",
       "  </thead>\n",
       "  <tbody>\n",
       "    <tr>\n",
       "      <th>0</th>\n",
       "      <td>0</td>\n",
       "      <td>wikitree</td>\n",
       "      <td>org:product</td>\n",
       "      <td>[0.008137032389640808, 0.001768831629306078, 0...</td>\n",
       "    </tr>\n",
       "    <tr>\n",
       "      <th>1</th>\n",
       "      <td>1</td>\n",
       "      <td>wikipedia</td>\n",
       "      <td>per:title</td>\n",
       "      <td>[0.001582783879712224, 9.086904901778325e-05, ...</td>\n",
       "    </tr>\n",
       "    <tr>\n",
       "      <th>2</th>\n",
       "      <td>2</td>\n",
       "      <td>wikipedia</td>\n",
       "      <td>no_relation</td>\n",
       "      <td>[0.9991855025291443, 2.857174513337668e-05, 2....</td>\n",
       "    </tr>\n",
       "    <tr>\n",
       "      <th>3</th>\n",
       "      <td>3</td>\n",
       "      <td>wikipedia</td>\n",
       "      <td>no_relation</td>\n",
       "      <td>[0.9695386290550232, 0.0004900097264908254, 0....</td>\n",
       "    </tr>\n",
       "    <tr>\n",
       "      <th>4</th>\n",
       "      <td>4</td>\n",
       "      <td>wikitree</td>\n",
       "      <td>no_relation</td>\n",
       "      <td>[0.8111861348152161, 0.1833547204732895, 0.000...</td>\n",
       "    </tr>\n",
       "  </tbody>\n",
       "</table>\n",
       "</div>"
      ],
      "text/plain": [
       "   id     source   pred_label  \\\n",
       "0   0   wikitree  org:product   \n",
       "1   1  wikipedia    per:title   \n",
       "2   2  wikipedia  no_relation   \n",
       "3   3  wikipedia  no_relation   \n",
       "4   4   wikitree  no_relation   \n",
       "\n",
       "                                               probs  \n",
       "0  [0.008137032389640808, 0.001768831629306078, 0...  \n",
       "1  [0.001582783879712224, 9.086904901778325e-05, ...  \n",
       "2  [0.9991855025291443, 2.857174513337668e-05, 2....  \n",
       "3  [0.9695386290550232, 0.0004900097264908254, 0....  \n",
       "4  [0.8111861348152161, 0.1833547204732895, 0.000...  "
      ]
     },
     "execution_count": 15,
     "metadata": {},
     "output_type": "execute_result"
    }
   ],
   "source": [
    "prob = pd.read_csv('./save_best/soft__14_rob_seo_02_13_rob_19_rob_sub_69_seo_01.csv')\n",
    "label = pd.read_csv('./save_best/hard_corrected.csv')\n",
    "label.head()"
   ]
  },
  {
   "cell_type": "code",
   "execution_count": 22,
   "metadata": {},
   "outputs": [
    {
     "data": {
      "text/html": [
       "<div>\n",
       "<style scoped>\n",
       "    .dataframe tbody tr th:only-of-type {\n",
       "        vertical-align: middle;\n",
       "    }\n",
       "\n",
       "    .dataframe tbody tr th {\n",
       "        vertical-align: top;\n",
       "    }\n",
       "\n",
       "    .dataframe thead th {\n",
       "        text-align: right;\n",
       "    }\n",
       "</style>\n",
       "<table border=\"1\" class=\"dataframe\">\n",
       "  <thead>\n",
       "    <tr style=\"text-align: right;\">\n",
       "      <th></th>\n",
       "      <th>id</th>\n",
       "      <th>pred_label</th>\n",
       "      <th>probs</th>\n",
       "    </tr>\n",
       "  </thead>\n",
       "  <tbody>\n",
       "    <tr>\n",
       "      <th>0</th>\n",
       "      <td>0</td>\n",
       "      <td>org:product</td>\n",
       "      <td>[0.13305990537628531, 0.005279046648259585, 0....</td>\n",
       "    </tr>\n",
       "    <tr>\n",
       "      <th>1</th>\n",
       "      <td>1</td>\n",
       "      <td>per:alternate_names</td>\n",
       "      <td>[0.02045540763841321, 0.000317363203066634, 0....</td>\n",
       "    </tr>\n",
       "    <tr>\n",
       "      <th>2</th>\n",
       "      <td>2</td>\n",
       "      <td>no_relation</td>\n",
       "      <td>[0.9989557464917501, 3.1409064225348025e-05, 5...</td>\n",
       "    </tr>\n",
       "    <tr>\n",
       "      <th>3</th>\n",
       "      <td>3</td>\n",
       "      <td>no_relation</td>\n",
       "      <td>[0.9597246646881104, 0.0003704661479180989, 0....</td>\n",
       "    </tr>\n",
       "    <tr>\n",
       "      <th>4</th>\n",
       "      <td>4</td>\n",
       "      <td>no_relation</td>\n",
       "      <td>[0.7763742556174597, 0.21718524732083702, 0.00...</td>\n",
       "    </tr>\n",
       "  </tbody>\n",
       "</table>\n",
       "</div>"
      ],
      "text/plain": [
       "   id           pred_label                                              probs\n",
       "0   0          org:product  [0.13305990537628531, 0.005279046648259585, 0....\n",
       "1   1  per:alternate_names  [0.02045540763841321, 0.000317363203066634, 0....\n",
       "2   2          no_relation  [0.9989557464917501, 3.1409064225348025e-05, 5...\n",
       "3   3          no_relation  [0.9597246646881104, 0.0003704661479180989, 0....\n",
       "4   4          no_relation  [0.7763742556174597, 0.21718524732083702, 0.00..."
      ]
     },
     "execution_count": 22,
     "metadata": {},
     "output_type": "execute_result"
    }
   ],
   "source": [
    "prob.head()"
   ]
  },
  {
   "cell_type": "code",
   "execution_count": 16,
   "metadata": {},
   "outputs": [
    {
     "data": {
      "text/plain": [
       "Index(['id', 'pred_label', 'probs'], dtype='object')"
      ]
     },
     "execution_count": 16,
     "metadata": {},
     "output_type": "execute_result"
    }
   ],
   "source": [
    "prob.columns"
   ]
  },
  {
   "cell_type": "code",
   "execution_count": 17,
   "metadata": {},
   "outputs": [],
   "source": [
    "label.probs= prob.probs"
   ]
  },
  {
   "cell_type": "code",
   "execution_count": 18,
   "metadata": {},
   "outputs": [
    {
     "data": {
      "text/html": [
       "<div>\n",
       "<style scoped>\n",
       "    .dataframe tbody tr th:only-of-type {\n",
       "        vertical-align: middle;\n",
       "    }\n",
       "\n",
       "    .dataframe tbody tr th {\n",
       "        vertical-align: top;\n",
       "    }\n",
       "\n",
       "    .dataframe thead th {\n",
       "        text-align: right;\n",
       "    }\n",
       "</style>\n",
       "<table border=\"1\" class=\"dataframe\">\n",
       "  <thead>\n",
       "    <tr style=\"text-align: right;\">\n",
       "      <th></th>\n",
       "      <th>id</th>\n",
       "      <th>source</th>\n",
       "      <th>pred_label</th>\n",
       "      <th>probs</th>\n",
       "    </tr>\n",
       "  </thead>\n",
       "  <tbody>\n",
       "    <tr>\n",
       "      <th>0</th>\n",
       "      <td>0</td>\n",
       "      <td>wikitree</td>\n",
       "      <td>org:product</td>\n",
       "      <td>[0.13305990537628531, 0.005279046648259585, 0....</td>\n",
       "    </tr>\n",
       "    <tr>\n",
       "      <th>1</th>\n",
       "      <td>1</td>\n",
       "      <td>wikipedia</td>\n",
       "      <td>per:title</td>\n",
       "      <td>[0.02045540763841321, 0.000317363203066634, 0....</td>\n",
       "    </tr>\n",
       "    <tr>\n",
       "      <th>2</th>\n",
       "      <td>2</td>\n",
       "      <td>wikipedia</td>\n",
       "      <td>no_relation</td>\n",
       "      <td>[0.9989557464917501, 3.1409064225348025e-05, 5...</td>\n",
       "    </tr>\n",
       "    <tr>\n",
       "      <th>3</th>\n",
       "      <td>3</td>\n",
       "      <td>wikipedia</td>\n",
       "      <td>no_relation</td>\n",
       "      <td>[0.9597246646881104, 0.0003704661479180989, 0....</td>\n",
       "    </tr>\n",
       "    <tr>\n",
       "      <th>4</th>\n",
       "      <td>4</td>\n",
       "      <td>wikitree</td>\n",
       "      <td>no_relation</td>\n",
       "      <td>[0.7763742556174597, 0.21718524732083702, 0.00...</td>\n",
       "    </tr>\n",
       "  </tbody>\n",
       "</table>\n",
       "</div>"
      ],
      "text/plain": [
       "   id     source   pred_label  \\\n",
       "0   0   wikitree  org:product   \n",
       "1   1  wikipedia    per:title   \n",
       "2   2  wikipedia  no_relation   \n",
       "3   3  wikipedia  no_relation   \n",
       "4   4   wikitree  no_relation   \n",
       "\n",
       "                                               probs  \n",
       "0  [0.13305990537628531, 0.005279046648259585, 0....  \n",
       "1  [0.02045540763841321, 0.000317363203066634, 0....  \n",
       "2  [0.9989557464917501, 3.1409064225348025e-05, 5...  \n",
       "3  [0.9597246646881104, 0.0003704661479180989, 0....  \n",
       "4  [0.7763742556174597, 0.21718524732083702, 0.00...  "
      ]
     },
     "execution_count": 18,
     "metadata": {},
     "output_type": "execute_result"
    }
   ],
   "source": [
    "label.head()"
   ]
  },
  {
   "cell_type": "code",
   "execution_count": 25,
   "metadata": {},
   "outputs": [
    {
     "data": {
      "text/html": [
       "<div>\n",
       "<style scoped>\n",
       "    .dataframe tbody tr th:only-of-type {\n",
       "        vertical-align: middle;\n",
       "    }\n",
       "\n",
       "    .dataframe tbody tr th {\n",
       "        vertical-align: top;\n",
       "    }\n",
       "\n",
       "    .dataframe thead th {\n",
       "        text-align: right;\n",
       "    }\n",
       "</style>\n",
       "<table border=\"1\" class=\"dataframe\">\n",
       "  <thead>\n",
       "    <tr style=\"text-align: right;\">\n",
       "      <th></th>\n",
       "      <th>id</th>\n",
       "      <th>pred_label</th>\n",
       "      <th>probs</th>\n",
       "    </tr>\n",
       "  </thead>\n",
       "  <tbody>\n",
       "    <tr>\n",
       "      <th>0</th>\n",
       "      <td>0</td>\n",
       "      <td>org:product</td>\n",
       "      <td>[0.13305990537628531, 0.005279046648259585, 0....</td>\n",
       "    </tr>\n",
       "    <tr>\n",
       "      <th>1</th>\n",
       "      <td>1</td>\n",
       "      <td>per:title</td>\n",
       "      <td>[0.02045540763841321, 0.000317363203066634, 0....</td>\n",
       "    </tr>\n",
       "    <tr>\n",
       "      <th>2</th>\n",
       "      <td>2</td>\n",
       "      <td>no_relation</td>\n",
       "      <td>[0.9989557464917501, 3.1409064225348025e-05, 5...</td>\n",
       "    </tr>\n",
       "    <tr>\n",
       "      <th>3</th>\n",
       "      <td>3</td>\n",
       "      <td>no_relation</td>\n",
       "      <td>[0.9597246646881104, 0.0003704661479180989, 0....</td>\n",
       "    </tr>\n",
       "    <tr>\n",
       "      <th>4</th>\n",
       "      <td>4</td>\n",
       "      <td>no_relation</td>\n",
       "      <td>[0.7763742556174597, 0.21718524732083702, 0.00...</td>\n",
       "    </tr>\n",
       "  </tbody>\n",
       "</table>\n",
       "</div>"
      ],
      "text/plain": [
       "   id   pred_label                                              probs\n",
       "0   0  org:product  [0.13305990537628531, 0.005279046648259585, 0....\n",
       "1   1    per:title  [0.02045540763841321, 0.000317363203066634, 0....\n",
       "2   2  no_relation  [0.9989557464917501, 3.1409064225348025e-05, 5...\n",
       "3   3  no_relation  [0.9597246646881104, 0.0003704661479180989, 0....\n",
       "4   4  no_relation  [0.7763742556174597, 0.21718524732083702, 0.00..."
      ]
     },
     "execution_count": 25,
     "metadata": {},
     "output_type": "execute_result"
    }
   ],
   "source": [
    "label = label[['id', 'pred_label', 'probs']]\n",
    "label.head()"
   ]
  },
  {
   "cell_type": "code",
   "execution_count": 26,
   "metadata": {},
   "outputs": [],
   "source": [
    "label.to_csv('./save_best/mix.csv')"
   ]
  },
  {
   "cell_type": "code",
   "execution_count": null,
   "metadata": {},
   "outputs": [],
   "source": []
  }
 ],
 "metadata": {
  "kernelspec": {
   "display_name": "base",
   "language": "python",
   "name": "python3"
  },
  "language_info": {
   "codemirror_mode": {
    "name": "ipython",
    "version": 3
   },
   "file_extension": ".py",
   "mimetype": "text/x-python",
   "name": "python",
   "nbconvert_exporter": "python",
   "pygments_lexer": "ipython3",
   "version": "3.8.5"
  }
 },
 "nbformat": 4,
 "nbformat_minor": 2
}
