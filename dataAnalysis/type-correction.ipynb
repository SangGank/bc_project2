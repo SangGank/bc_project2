{
 "cells": [
  {
   "cell_type": "code",
   "execution_count": 32,
   "metadata": {},
   "outputs": [],
   "source": [
    "import pandas as pd\n",
    "import pickle"
   ]
  },
  {
   "cell_type": "code",
   "execution_count": 33,
   "metadata": {},
   "outputs": [],
   "source": [
    "# train = pd.read_csv('./dataset/train/train.csv')\n",
    "test = pd.read_csv('../data/dataset/test/test_data.csv')\n",
    "pred = pd.read_csv('./save_best/hard__21_see_14_rob_seo_02_13_rob_sub_69_seo_01.csv')"
   ]
  },
  {
   "cell_type": "code",
   "execution_count": null,
   "metadata": {},
   "outputs": [],
   "source": []
  },
  {
   "cell_type": "code",
   "execution_count": null,
   "metadata": {},
   "outputs": [],
   "source": []
  },
  {
   "cell_type": "code",
   "execution_count": 34,
   "metadata": {},
   "outputs": [
    {
     "data": {
      "text/html": [
       "<div>\n",
       "<style scoped>\n",
       "    .dataframe tbody tr th:only-of-type {\n",
       "        vertical-align: middle;\n",
       "    }\n",
       "\n",
       "    .dataframe tbody tr th {\n",
       "        vertical-align: top;\n",
       "    }\n",
       "\n",
       "    .dataframe thead th {\n",
       "        text-align: right;\n",
       "    }\n",
       "</style>\n",
       "<table border=\"1\" class=\"dataframe\">\n",
       "  <thead>\n",
       "    <tr style=\"text-align: right;\">\n",
       "      <th></th>\n",
       "      <th>id</th>\n",
       "      <th>pred_label</th>\n",
       "      <th>probs</th>\n",
       "    </tr>\n",
       "  </thead>\n",
       "  <tbody>\n",
       "    <tr>\n",
       "      <th>0</th>\n",
       "      <td>0</td>\n",
       "      <td>org:product</td>\n",
       "      <td>[0.008137032389640808, 0.001768831629306078, 0...</td>\n",
       "    </tr>\n",
       "    <tr>\n",
       "      <th>1</th>\n",
       "      <td>1</td>\n",
       "      <td>per:title</td>\n",
       "      <td>[0.001582783879712224, 9.086904901778325e-05, ...</td>\n",
       "    </tr>\n",
       "    <tr>\n",
       "      <th>2</th>\n",
       "      <td>2</td>\n",
       "      <td>no_relation</td>\n",
       "      <td>[0.9991855025291443, 2.857174513337668e-05, 2....</td>\n",
       "    </tr>\n",
       "    <tr>\n",
       "      <th>3</th>\n",
       "      <td>3</td>\n",
       "      <td>no_relation</td>\n",
       "      <td>[0.9695386290550232, 0.0004900097264908254, 0....</td>\n",
       "    </tr>\n",
       "    <tr>\n",
       "      <th>4</th>\n",
       "      <td>4</td>\n",
       "      <td>no_relation</td>\n",
       "      <td>[0.8111861348152161, 0.1833547204732895, 0.000...</td>\n",
       "    </tr>\n",
       "    <tr>\n",
       "      <th>...</th>\n",
       "      <td>...</td>\n",
       "      <td>...</td>\n",
       "      <td>...</td>\n",
       "    </tr>\n",
       "    <tr>\n",
       "      <th>7760</th>\n",
       "      <td>7760</td>\n",
       "      <td>org:place_of_headquarters</td>\n",
       "      <td>[0.03805125132203102, 0.001047163619659841, 0....</td>\n",
       "    </tr>\n",
       "    <tr>\n",
       "      <th>7761</th>\n",
       "      <td>7761</td>\n",
       "      <td>no_relation</td>\n",
       "      <td>[0.9983550906181335, 5.95265555602964e-05, 5.1...</td>\n",
       "    </tr>\n",
       "    <tr>\n",
       "      <th>7762</th>\n",
       "      <td>7762</td>\n",
       "      <td>org:top_members/employees</td>\n",
       "      <td>[4.933789750793949e-05, 0.9991931319236755, 2....</td>\n",
       "    </tr>\n",
       "    <tr>\n",
       "      <th>7763</th>\n",
       "      <td>7763</td>\n",
       "      <td>no_relation</td>\n",
       "      <td>[0.9950843453407288, 6.866411422379315e-05, 4....</td>\n",
       "    </tr>\n",
       "    <tr>\n",
       "      <th>7764</th>\n",
       "      <td>7764</td>\n",
       "      <td>no_relation</td>\n",
       "      <td>[0.9984822869300842, 8.631144009996206e-05, 3....</td>\n",
       "    </tr>\n",
       "  </tbody>\n",
       "</table>\n",
       "<p>7765 rows × 3 columns</p>\n",
       "</div>"
      ],
      "text/plain": [
       "        id                 pred_label  \\\n",
       "0        0                org:product   \n",
       "1        1                  per:title   \n",
       "2        2                no_relation   \n",
       "3        3                no_relation   \n",
       "4        4                no_relation   \n",
       "...    ...                        ...   \n",
       "7760  7760  org:place_of_headquarters   \n",
       "7761  7761                no_relation   \n",
       "7762  7762  org:top_members/employees   \n",
       "7763  7763                no_relation   \n",
       "7764  7764                no_relation   \n",
       "\n",
       "                                                  probs  \n",
       "0     [0.008137032389640808, 0.001768831629306078, 0...  \n",
       "1     [0.001582783879712224, 9.086904901778325e-05, ...  \n",
       "2     [0.9991855025291443, 2.857174513337668e-05, 2....  \n",
       "3     [0.9695386290550232, 0.0004900097264908254, 0....  \n",
       "4     [0.8111861348152161, 0.1833547204732895, 0.000...  \n",
       "...                                                 ...  \n",
       "7760  [0.03805125132203102, 0.001047163619659841, 0....  \n",
       "7761  [0.9983550906181335, 5.95265555602964e-05, 5.1...  \n",
       "7762  [4.933789750793949e-05, 0.9991931319236755, 2....  \n",
       "7763  [0.9950843453407288, 6.866411422379315e-05, 4....  \n",
       "7764  [0.9984822869300842, 8.631144009996206e-05, 3....  \n",
       "\n",
       "[7765 rows x 3 columns]"
      ]
     },
     "execution_count": 34,
     "metadata": {},
     "output_type": "execute_result"
    }
   ],
   "source": [
    "pred"
   ]
  },
  {
   "cell_type": "code",
   "execution_count": 35,
   "metadata": {},
   "outputs": [
    {
     "data": {
      "text/html": [
       "<div>\n",
       "<style scoped>\n",
       "    .dataframe tbody tr th:only-of-type {\n",
       "        vertical-align: middle;\n",
       "    }\n",
       "\n",
       "    .dataframe tbody tr th {\n",
       "        vertical-align: top;\n",
       "    }\n",
       "\n",
       "    .dataframe thead th {\n",
       "        text-align: right;\n",
       "    }\n",
       "</style>\n",
       "<table border=\"1\" class=\"dataframe\">\n",
       "  <thead>\n",
       "    <tr style=\"text-align: right;\">\n",
       "      <th></th>\n",
       "      <th>id</th>\n",
       "      <th>sentence</th>\n",
       "      <th>subject_entity</th>\n",
       "      <th>object_entity</th>\n",
       "      <th>label</th>\n",
       "      <th>source</th>\n",
       "      <th>pred_label</th>\n",
       "      <th>probs</th>\n",
       "    </tr>\n",
       "  </thead>\n",
       "  <tbody>\n",
       "    <tr>\n",
       "      <th>0</th>\n",
       "      <td>0</td>\n",
       "      <td>지난 15일 MBC '탐사기획 스트레이트'가 이 사실을 보도했다.</td>\n",
       "      <td>{'word': 'MBC', 'start_idx': 7, 'end_idx': 9, ...</td>\n",
       "      <td>{'word': '탐사기획 스트레이트', 'start_idx': 12, 'end_i...</td>\n",
       "      <td>100</td>\n",
       "      <td>wikitree</td>\n",
       "      <td>org:product</td>\n",
       "      <td>[0.008137032389640808, 0.001768831629306078, 0...</td>\n",
       "    </tr>\n",
       "    <tr>\n",
       "      <th>1</th>\n",
       "      <td>1</td>\n",
       "      <td>사랑스러운 ‘프린세스 프링’의 이름은 봄의 공주님: Princess(s)Pring이...</td>\n",
       "      <td>{'word': '프린세스 프링', 'start_idx': 7, 'end_idx':...</td>\n",
       "      <td>{'word': '공주', 'start_idx': 84, 'end_idx': 85,...</td>\n",
       "      <td>100</td>\n",
       "      <td>wikipedia</td>\n",
       "      <td>per:title</td>\n",
       "      <td>[0.001582783879712224, 9.086904901778325e-05, ...</td>\n",
       "    </tr>\n",
       "    <tr>\n",
       "      <th>2</th>\n",
       "      <td>2</td>\n",
       "      <td>한편, 본인(이근안)을 모델로 한 MBC 특집드라마 가 1995년 6.25 특집극으...</td>\n",
       "      <td>{'word': '경찰', 'start_idx': 121, 'end_idx': 12...</td>\n",
       "      <td>{'word': '1995년', 'start_idx': 31, 'end_idx': ...</td>\n",
       "      <td>100</td>\n",
       "      <td>wikipedia</td>\n",
       "      <td>no_relation</td>\n",
       "      <td>[0.9991855025291443, 2.857174513337668e-05, 2....</td>\n",
       "    </tr>\n",
       "    <tr>\n",
       "      <th>3</th>\n",
       "      <td>3</td>\n",
       "      <td>정창손은 김질과 같이 대궐로 달려가 고변하며 '신은 실로 모르고 김질만 혼자 참여하...</td>\n",
       "      <td>{'word': '세조', 'start_idx': 78, 'end_idx': 79,...</td>\n",
       "      <td>{'word': '정창손', 'start_idx': 0, 'end_idx': 2, ...</td>\n",
       "      <td>100</td>\n",
       "      <td>wikipedia</td>\n",
       "      <td>no_relation</td>\n",
       "      <td>[0.9695386290550232, 0.0004900097264908254, 0....</td>\n",
       "    </tr>\n",
       "    <tr>\n",
       "      <th>4</th>\n",
       "      <td>4</td>\n",
       "      <td>당시 민주당 이진련 시의원은 권영진 시장에게 \"긴급 생계자금을 왜 현금으로 지원하지...</td>\n",
       "      <td>{'word': '민주당', 'start_idx': 3, 'end_idx': 5, ...</td>\n",
       "      <td>{'word': '권영진', 'start_idx': 16, 'end_idx': 18...</td>\n",
       "      <td>100</td>\n",
       "      <td>wikitree</td>\n",
       "      <td>no_relation</td>\n",
       "      <td>[0.8111861348152161, 0.1833547204732895, 0.000...</td>\n",
       "    </tr>\n",
       "    <tr>\n",
       "      <th>...</th>\n",
       "      <td>...</td>\n",
       "      <td>...</td>\n",
       "      <td>...</td>\n",
       "      <td>...</td>\n",
       "      <td>...</td>\n",
       "      <td>...</td>\n",
       "      <td>...</td>\n",
       "      <td>...</td>\n",
       "    </tr>\n",
       "    <tr>\n",
       "      <th>7760</th>\n",
       "      <td>7760</td>\n",
       "      <td>코로나19 방역 조치의 일환으로 국민의 움직임을 통제하려는 정부의 시도를 이탈리아 ...</td>\n",
       "      <td>{'word': '정부', 'start_idx': 33, 'end_idx': 34,...</td>\n",
       "      <td>{'word': '이탈리아', 'start_idx': 41, 'end_idx': 4...</td>\n",
       "      <td>100</td>\n",
       "      <td>wikitree</td>\n",
       "      <td>org:place_of_headquarters</td>\n",
       "      <td>[0.03805125132203102, 0.001047163619659841, 0....</td>\n",
       "    </tr>\n",
       "    <tr>\n",
       "      <th>7761</th>\n",
       "      <td>7761</td>\n",
       "      <td>선 연구원은 “위식도역류질환치료제인 케이캡이 92억원 판매되면서 2019년 연간 3...</td>\n",
       "      <td>{'word': '종근당', 'start_idx': 133, 'end_idx': 1...</td>\n",
       "      <td>{'word': '전년', 'start_idx': 143, 'end_idx': 14...</td>\n",
       "      <td>100</td>\n",
       "      <td>wikitree</td>\n",
       "      <td>no_relation</td>\n",
       "      <td>[0.9983550906181335, 5.95265555602964e-05, 5.1...</td>\n",
       "    </tr>\n",
       "    <tr>\n",
       "      <th>7762</th>\n",
       "      <td>7762</td>\n",
       "      <td>한국전기안전공사(사장 조성완)는 8월 1일부로, 3급 간부직원에 대한 승진·이동 인...</td>\n",
       "      <td>{'word': '한국전기안전공사', 'start_idx': 0, 'end_idx'...</td>\n",
       "      <td>{'word': '조성완', 'start_idx': 12, 'end_idx': 14...</td>\n",
       "      <td>100</td>\n",
       "      <td>wikitree</td>\n",
       "      <td>org:top_members/employees</td>\n",
       "      <td>[4.933789750793949e-05, 0.9991931319236755, 2....</td>\n",
       "    </tr>\n",
       "    <tr>\n",
       "      <th>7763</th>\n",
       "      <td>7763</td>\n",
       "      <td>1987년 B. 슈나이더(B. Schneider)에 의해 만들어졌다.</td>\n",
       "      <td>{'word': 'B. 슈나이더', 'start_idx': 6, 'end_idx':...</td>\n",
       "      <td>{'word': '1987년', 'start_idx': 0, 'end_idx': 4...</td>\n",
       "      <td>100</td>\n",
       "      <td>wikipedia</td>\n",
       "      <td>no_relation</td>\n",
       "      <td>[0.9950843453407288, 6.866411422379315e-05, 4....</td>\n",
       "    </tr>\n",
       "    <tr>\n",
       "      <th>7764</th>\n",
       "      <td>7764</td>\n",
       "      <td>이승옥 강진군수는 2일 NH농협은행 강진군지부(지부장 강대형)를 방문해 부품·소재·...</td>\n",
       "      <td>{'word': '이승옥', 'start_idx': 0, 'end_idx': 2, ...</td>\n",
       "      <td>{'word': '2일', 'start_idx': 10, 'end_idx': 11,...</td>\n",
       "      <td>100</td>\n",
       "      <td>wikitree</td>\n",
       "      <td>no_relation</td>\n",
       "      <td>[0.9984822869300842, 8.631144009996206e-05, 3....</td>\n",
       "    </tr>\n",
       "  </tbody>\n",
       "</table>\n",
       "<p>7765 rows × 8 columns</p>\n",
       "</div>"
      ],
      "text/plain": [
       "        id                                           sentence  \\\n",
       "0        0               지난 15일 MBC '탐사기획 스트레이트'가 이 사실을 보도했다.   \n",
       "1        1  사랑스러운 ‘프린세스 프링’의 이름은 봄의 공주님: Princess(s)Pring이...   \n",
       "2        2  한편, 본인(이근안)을 모델로 한 MBC 특집드라마 가 1995년 6.25 특집극으...   \n",
       "3        3  정창손은 김질과 같이 대궐로 달려가 고변하며 '신은 실로 모르고 김질만 혼자 참여하...   \n",
       "4        4  당시 민주당 이진련 시의원은 권영진 시장에게 \"긴급 생계자금을 왜 현금으로 지원하지...   \n",
       "...    ...                                                ...   \n",
       "7760  7760  코로나19 방역 조치의 일환으로 국민의 움직임을 통제하려는 정부의 시도를 이탈리아 ...   \n",
       "7761  7761  선 연구원은 “위식도역류질환치료제인 케이캡이 92억원 판매되면서 2019년 연간 3...   \n",
       "7762  7762  한국전기안전공사(사장 조성완)는 8월 1일부로, 3급 간부직원에 대한 승진·이동 인...   \n",
       "7763  7763             1987년 B. 슈나이더(B. Schneider)에 의해 만들어졌다.   \n",
       "7764  7764  이승옥 강진군수는 2일 NH농협은행 강진군지부(지부장 강대형)를 방문해 부품·소재·...   \n",
       "\n",
       "                                         subject_entity  \\\n",
       "0     {'word': 'MBC', 'start_idx': 7, 'end_idx': 9, ...   \n",
       "1     {'word': '프린세스 프링', 'start_idx': 7, 'end_idx':...   \n",
       "2     {'word': '경찰', 'start_idx': 121, 'end_idx': 12...   \n",
       "3     {'word': '세조', 'start_idx': 78, 'end_idx': 79,...   \n",
       "4     {'word': '민주당', 'start_idx': 3, 'end_idx': 5, ...   \n",
       "...                                                 ...   \n",
       "7760  {'word': '정부', 'start_idx': 33, 'end_idx': 34,...   \n",
       "7761  {'word': '종근당', 'start_idx': 133, 'end_idx': 1...   \n",
       "7762  {'word': '한국전기안전공사', 'start_idx': 0, 'end_idx'...   \n",
       "7763  {'word': 'B. 슈나이더', 'start_idx': 6, 'end_idx':...   \n",
       "7764  {'word': '이승옥', 'start_idx': 0, 'end_idx': 2, ...   \n",
       "\n",
       "                                          object_entity  label     source  \\\n",
       "0     {'word': '탐사기획 스트레이트', 'start_idx': 12, 'end_i...    100   wikitree   \n",
       "1     {'word': '공주', 'start_idx': 84, 'end_idx': 85,...    100  wikipedia   \n",
       "2     {'word': '1995년', 'start_idx': 31, 'end_idx': ...    100  wikipedia   \n",
       "3     {'word': '정창손', 'start_idx': 0, 'end_idx': 2, ...    100  wikipedia   \n",
       "4     {'word': '권영진', 'start_idx': 16, 'end_idx': 18...    100   wikitree   \n",
       "...                                                 ...    ...        ...   \n",
       "7760  {'word': '이탈리아', 'start_idx': 41, 'end_idx': 4...    100   wikitree   \n",
       "7761  {'word': '전년', 'start_idx': 143, 'end_idx': 14...    100   wikitree   \n",
       "7762  {'word': '조성완', 'start_idx': 12, 'end_idx': 14...    100   wikitree   \n",
       "7763  {'word': '1987년', 'start_idx': 0, 'end_idx': 4...    100  wikipedia   \n",
       "7764  {'word': '2일', 'start_idx': 10, 'end_idx': 11,...    100   wikitree   \n",
       "\n",
       "                     pred_label  \\\n",
       "0                   org:product   \n",
       "1                     per:title   \n",
       "2                   no_relation   \n",
       "3                   no_relation   \n",
       "4                   no_relation   \n",
       "...                         ...   \n",
       "7760  org:place_of_headquarters   \n",
       "7761                no_relation   \n",
       "7762  org:top_members/employees   \n",
       "7763                no_relation   \n",
       "7764                no_relation   \n",
       "\n",
       "                                                  probs  \n",
       "0     [0.008137032389640808, 0.001768831629306078, 0...  \n",
       "1     [0.001582783879712224, 9.086904901778325e-05, ...  \n",
       "2     [0.9991855025291443, 2.857174513337668e-05, 2....  \n",
       "3     [0.9695386290550232, 0.0004900097264908254, 0....  \n",
       "4     [0.8111861348152161, 0.1833547204732895, 0.000...  \n",
       "...                                                 ...  \n",
       "7760  [0.03805125132203102, 0.001047163619659841, 0....  \n",
       "7761  [0.9983550906181335, 5.95265555602964e-05, 5.1...  \n",
       "7762  [4.933789750793949e-05, 0.9991931319236755, 2....  \n",
       "7763  [0.9950843453407288, 6.866411422379315e-05, 4....  \n",
       "7764  [0.9984822869300842, 8.631144009996206e-05, 3....  \n",
       "\n",
       "[7765 rows x 8 columns]"
      ]
     },
     "execution_count": 35,
     "metadata": {},
     "output_type": "execute_result"
    }
   ],
   "source": [
    "test['pred_label'] = pred.pred_label\n",
    "test['probs'] = pred.probs\n",
    "\n",
    "test"
   ]
  },
  {
   "cell_type": "code",
   "execution_count": 36,
   "metadata": {},
   "outputs": [
    {
     "name": "stderr",
     "output_type": "stream",
     "text": [
      "<ipython-input-36-eec189caa3d0>:1: UserWarning: Boolean Series key will be reindexed to match DataFrame index.\n",
      "  len(test[test.subject_entity.str.contains('ORG')][test.pred_label.str.startswith('per')])\n"
     ]
    },
    {
     "data": {
      "text/plain": [
       "1"
      ]
     },
     "execution_count": 36,
     "metadata": {},
     "output_type": "execute_result"
    }
   ],
   "source": [
    "len(test[test.subject_entity.str.contains('ORG')][test.pred_label.str.startswith('per')])"
   ]
  },
  {
   "cell_type": "code",
   "execution_count": 37,
   "metadata": {},
   "outputs": [
    {
     "name": "stderr",
     "output_type": "stream",
     "text": [
      "<ipython-input-37-7853a782044f>:1: UserWarning: Boolean Series key will be reindexed to match DataFrame index.\n",
      "  len(test[test.subject_entity.str.contains('PER')][test.pred_label.str.startswith('org')])\n"
     ]
    },
    {
     "data": {
      "text/plain": [
       "2"
      ]
     },
     "execution_count": 37,
     "metadata": {},
     "output_type": "execute_result"
    }
   ],
   "source": [
    "len(test[test.subject_entity.str.contains('PER')][test.pred_label.str.startswith('org')])"
   ]
  },
  {
   "cell_type": "code",
   "execution_count": 38,
   "metadata": {},
   "outputs": [
    {
     "data": {
      "text/plain": [
       "7765"
      ]
     },
     "execution_count": 38,
     "metadata": {},
     "output_type": "execute_result"
    }
   ],
   "source": [
    "len(test)"
   ]
  },
  {
   "cell_type": "code",
   "execution_count": 39,
   "metadata": {},
   "outputs": [],
   "source": [
    "with open('../code/dict_num_to_label.pkl', 'rb') as f:\n",
    "    dict_num_to_label = pickle.load(f)"
   ]
  },
  {
   "cell_type": "code",
   "execution_count": 40,
   "metadata": {},
   "outputs": [],
   "source": [
    "def convert_probs_to_label(row, dict_num_to_label=dict_num_to_label):\n",
    "    is_per = row.subject_entity.split('type')[1].split(':')[1].replace('\\'', '').replace('}', '').replace(' ', '')\n",
    "\n",
    "    probs = row.probs\n",
    "    probs = probs.replace('[', '').replace(']', '').split(', ')\n",
    "    probs = [float(p) for p in probs]\n",
    "\n",
    "    if is_per == 'PER':\n",
    "        for a in range(len(dict_num_to_label)):\n",
    "            if not dict_num_to_label[a].startswith('per'):\n",
    "                probs[a] = 0\n",
    "    else:\n",
    "        for a in range(len(dict_num_to_label)):\n",
    "            if dict_num_to_label[a].startswith('per'):\n",
    "                probs[a] = 0\n",
    "    \n",
    "    # return top\n",
    "    return dict_num_to_label[probs.index(max(probs))]"
   ]
  },
  {
   "cell_type": "code",
   "execution_count": 41,
   "metadata": {},
   "outputs": [
    {
     "name": "stderr",
     "output_type": "stream",
     "text": [
      "<ipython-input-41-adb507473328>:1: UserWarning: Boolean Series key will be reindexed to match DataFrame index.\n",
      "  orgper = test[test.subject_entity.str.contains('ORG')][test.pred_label.str.startswith('per')].copy()\n",
      "<ipython-input-41-adb507473328>:2: UserWarning: Boolean Series key will be reindexed to match DataFrame index.\n",
      "  perorg = test[test.subject_entity.str.contains('PER')][test.pred_label.str.startswith('org')].copy()\n"
     ]
    }
   ],
   "source": [
    "orgper = test[test.subject_entity.str.contains('ORG')][test.pred_label.str.startswith('per')].copy()\n",
    "perorg = test[test.subject_entity.str.contains('PER')][test.pred_label.str.startswith('org')].copy()"
   ]
  },
  {
   "cell_type": "code",
   "execution_count": 42,
   "metadata": {},
   "outputs": [
    {
     "data": {
      "text/plain": [
       "(1, 2)"
      ]
     },
     "execution_count": 42,
     "metadata": {},
     "output_type": "execute_result"
    }
   ],
   "source": [
    "len(orgper), len(perorg)"
   ]
  },
  {
   "cell_type": "code",
   "execution_count": 43,
   "metadata": {},
   "outputs": [],
   "source": [
    "orgper['pred_label'] = orgper.apply(convert_probs_to_label, axis=1)\n",
    "perorg['pred_label'] = perorg.apply(convert_probs_to_label, axis=1)"
   ]
  },
  {
   "cell_type": "code",
   "execution_count": 44,
   "metadata": {},
   "outputs": [],
   "source": [
    "test.iloc[orgper.index] = orgper\n",
    "test.iloc[perorg.index] = perorg"
   ]
  },
  {
   "cell_type": "code",
   "execution_count": 45,
   "metadata": {},
   "outputs": [
    {
     "data": {
      "text/plain": [
       "id                                                              201\n",
       "sentence          춘신군은 아래에 식객(食客) 3천 인을 모아 거느리고 있었는데, 상객(上客)은 모두...\n",
       "subject_entity    {'word': '춘신군', 'start_idx': 0, 'end_idx': 2, ...\n",
       "object_entity     {'word': '식객', 'start_idx': 9, 'end_idx': 10, ...\n",
       "label                                                           100\n",
       "source                                                    wikipedia\n",
       "pred_label                                              no_relation\n",
       "probs             [0.038651756942272186, 0.9527184963226318, 0.0...\n",
       "Name: 201, dtype: object"
      ]
     },
     "execution_count": 45,
     "metadata": {},
     "output_type": "execute_result"
    }
   ],
   "source": [
    "test.iloc[201]"
   ]
  },
  {
   "cell_type": "code",
   "execution_count": 46,
   "metadata": {},
   "outputs": [],
   "source": [
    "new_pred = test.drop(['sentence', 'subject_entity', 'object_entity', 'label'], axis=1)"
   ]
  },
  {
   "cell_type": "code",
   "execution_count": 47,
   "metadata": {},
   "outputs": [
    {
     "data": {
      "text/html": [
       "<div>\n",
       "<style scoped>\n",
       "    .dataframe tbody tr th:only-of-type {\n",
       "        vertical-align: middle;\n",
       "    }\n",
       "\n",
       "    .dataframe tbody tr th {\n",
       "        vertical-align: top;\n",
       "    }\n",
       "\n",
       "    .dataframe thead th {\n",
       "        text-align: right;\n",
       "    }\n",
       "</style>\n",
       "<table border=\"1\" class=\"dataframe\">\n",
       "  <thead>\n",
       "    <tr style=\"text-align: right;\">\n",
       "      <th></th>\n",
       "      <th>id</th>\n",
       "      <th>source</th>\n",
       "      <th>pred_label</th>\n",
       "      <th>probs</th>\n",
       "    </tr>\n",
       "  </thead>\n",
       "  <tbody>\n",
       "    <tr>\n",
       "      <th>0</th>\n",
       "      <td>0</td>\n",
       "      <td>wikitree</td>\n",
       "      <td>org:product</td>\n",
       "      <td>[0.008137032389640808, 0.001768831629306078, 0...</td>\n",
       "    </tr>\n",
       "    <tr>\n",
       "      <th>1</th>\n",
       "      <td>1</td>\n",
       "      <td>wikipedia</td>\n",
       "      <td>per:title</td>\n",
       "      <td>[0.001582783879712224, 9.086904901778325e-05, ...</td>\n",
       "    </tr>\n",
       "    <tr>\n",
       "      <th>2</th>\n",
       "      <td>2</td>\n",
       "      <td>wikipedia</td>\n",
       "      <td>no_relation</td>\n",
       "      <td>[0.9991855025291443, 2.857174513337668e-05, 2....</td>\n",
       "    </tr>\n",
       "    <tr>\n",
       "      <th>3</th>\n",
       "      <td>3</td>\n",
       "      <td>wikipedia</td>\n",
       "      <td>no_relation</td>\n",
       "      <td>[0.9695386290550232, 0.0004900097264908254, 0....</td>\n",
       "    </tr>\n",
       "    <tr>\n",
       "      <th>4</th>\n",
       "      <td>4</td>\n",
       "      <td>wikitree</td>\n",
       "      <td>no_relation</td>\n",
       "      <td>[0.8111861348152161, 0.1833547204732895, 0.000...</td>\n",
       "    </tr>\n",
       "    <tr>\n",
       "      <th>...</th>\n",
       "      <td>...</td>\n",
       "      <td>...</td>\n",
       "      <td>...</td>\n",
       "      <td>...</td>\n",
       "    </tr>\n",
       "    <tr>\n",
       "      <th>7760</th>\n",
       "      <td>7760</td>\n",
       "      <td>wikitree</td>\n",
       "      <td>org:place_of_headquarters</td>\n",
       "      <td>[0.03805125132203102, 0.001047163619659841, 0....</td>\n",
       "    </tr>\n",
       "    <tr>\n",
       "      <th>7761</th>\n",
       "      <td>7761</td>\n",
       "      <td>wikitree</td>\n",
       "      <td>no_relation</td>\n",
       "      <td>[0.9983550906181335, 5.95265555602964e-05, 5.1...</td>\n",
       "    </tr>\n",
       "    <tr>\n",
       "      <th>7762</th>\n",
       "      <td>7762</td>\n",
       "      <td>wikitree</td>\n",
       "      <td>org:top_members/employees</td>\n",
       "      <td>[4.933789750793949e-05, 0.9991931319236755, 2....</td>\n",
       "    </tr>\n",
       "    <tr>\n",
       "      <th>7763</th>\n",
       "      <td>7763</td>\n",
       "      <td>wikipedia</td>\n",
       "      <td>no_relation</td>\n",
       "      <td>[0.9950843453407288, 6.866411422379315e-05, 4....</td>\n",
       "    </tr>\n",
       "    <tr>\n",
       "      <th>7764</th>\n",
       "      <td>7764</td>\n",
       "      <td>wikitree</td>\n",
       "      <td>no_relation</td>\n",
       "      <td>[0.9984822869300842, 8.631144009996206e-05, 3....</td>\n",
       "    </tr>\n",
       "  </tbody>\n",
       "</table>\n",
       "<p>7765 rows × 4 columns</p>\n",
       "</div>"
      ],
      "text/plain": [
       "        id     source                 pred_label  \\\n",
       "0        0   wikitree                org:product   \n",
       "1        1  wikipedia                  per:title   \n",
       "2        2  wikipedia                no_relation   \n",
       "3        3  wikipedia                no_relation   \n",
       "4        4   wikitree                no_relation   \n",
       "...    ...        ...                        ...   \n",
       "7760  7760   wikitree  org:place_of_headquarters   \n",
       "7761  7761   wikitree                no_relation   \n",
       "7762  7762   wikitree  org:top_members/employees   \n",
       "7763  7763  wikipedia                no_relation   \n",
       "7764  7764   wikitree                no_relation   \n",
       "\n",
       "                                                  probs  \n",
       "0     [0.008137032389640808, 0.001768831629306078, 0...  \n",
       "1     [0.001582783879712224, 9.086904901778325e-05, ...  \n",
       "2     [0.9991855025291443, 2.857174513337668e-05, 2....  \n",
       "3     [0.9695386290550232, 0.0004900097264908254, 0....  \n",
       "4     [0.8111861348152161, 0.1833547204732895, 0.000...  \n",
       "...                                                 ...  \n",
       "7760  [0.03805125132203102, 0.001047163619659841, 0....  \n",
       "7761  [0.9983550906181335, 5.95265555602964e-05, 5.1...  \n",
       "7762  [4.933789750793949e-05, 0.9991931319236755, 2....  \n",
       "7763  [0.9950843453407288, 6.866411422379315e-05, 4....  \n",
       "7764  [0.9984822869300842, 8.631144009996206e-05, 3....  \n",
       "\n",
       "[7765 rows x 4 columns]"
      ]
     },
     "execution_count": 47,
     "metadata": {},
     "output_type": "execute_result"
    }
   ],
   "source": [
    "new_pred"
   ]
  },
  {
   "cell_type": "code",
   "execution_count": 49,
   "metadata": {},
   "outputs": [],
   "source": [
    "new_pred.to_csv('./save_best/corrected.csv', index=False)"
   ]
  },
  {
   "cell_type": "code",
   "execution_count": null,
   "metadata": {},
   "outputs": [],
   "source": []
  }
 ],
 "metadata": {
  "kernelspec": {
   "display_name": "boostcamp-02",
   "language": "python",
   "name": "python3"
  },
  "language_info": {
   "codemirror_mode": {
    "name": "ipython",
    "version": 3
   },
   "file_extension": ".py",
   "mimetype": "text/x-python",
   "name": "python",
   "nbconvert_exporter": "python",
   "pygments_lexer": "ipython3",
   "version": "3.8.5"
  }
 },
 "nbformat": 4,
 "nbformat_minor": 2
}
