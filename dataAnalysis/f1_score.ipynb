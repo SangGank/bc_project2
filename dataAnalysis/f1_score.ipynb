{
 "cells": [
  {
   "cell_type": "code",
   "execution_count": 2,
   "metadata": {},
   "outputs": [
    {
     "name": "stderr",
     "output_type": "stream",
     "text": [
      "/opt/conda/lib/python3.8/site-packages/scipy/__init__.py:146: UserWarning: A NumPy version >=1.16.5 and <1.23.0 is required for this version of SciPy (detected version 1.24.4\n",
      "  warnings.warn(f\"A NumPy version >={np_minversion} and <{np_maxversion}\"\n"
     ]
    }
   ],
   "source": [
    "import pandas as pd\n",
    "import sklearn.metrics\n",
    "import numpy as np\n",
    "import os\n",
    "import pickle as pickle\n",
    "\n"
   ]
  },
  {
   "cell_type": "code",
   "execution_count": 3,
   "metadata": {},
   "outputs": [
    {
     "data": {
      "text/plain": [
       "<module 'sklearn.metrics' from '/opt/conda/lib/python3.8/site-packages/sklearn/metrics/__init__.py'>"
      ]
     },
     "execution_count": 3,
     "metadata": {},
     "output_type": "execute_result"
    }
   ],
   "source": [
    "sklearn.metrics"
   ]
  },
  {
   "cell_type": "code",
   "execution_count": null,
   "metadata": {},
   "outputs": [],
   "source": []
  },
  {
   "cell_type": "code",
   "execution_count": 4,
   "metadata": {},
   "outputs": [],
   "source": [
    "result = pd.read_csv('../data/dataset/test/dev_final.csv')\n"
   ]
  },
  {
   "cell_type": "code",
   "execution_count": 5,
   "metadata": {},
   "outputs": [],
   "source": [
    "def klue_re_micro_f1(preds, labels):\n",
    "    \"\"\"KLUE-RE micro f1 (except no_relation)\"\"\"\n",
    "    label_list = ['no_relation', 'org:top_members/employees', 'org:members',\n",
    "       'org:product', 'per:title', 'org:alternate_names',\n",
    "       'per:employee_of', 'org:place_of_headquarters', 'per:product',\n",
    "       'org:number_of_employees/members', 'per:children',\n",
    "       'per:place_of_residence', 'per:alternate_names',\n",
    "       'per:other_family', 'per:colleagues', 'per:origin', 'per:siblings',\n",
    "       'per:spouse', 'org:founded', 'org:political/religious_affiliation',\n",
    "       'org:member_of', 'per:parents', 'org:dissolved',\n",
    "       'per:schools_attended', 'per:date_of_death', 'per:date_of_birth',\n",
    "       'per:place_of_birth', 'per:place_of_death', 'org:founded_by',\n",
    "       'per:religion']\n",
    "    no_relation_label_idx = label_list.index(\"no_relation\")\n",
    "    preds = label_to_num(preds.values)\n",
    "    labels = label_to_num(labels.values)\n",
    "\n",
    "    label_indices = list(range(len(label_list)))\n",
    "    label_indices.remove(no_relation_label_idx)\n",
    "    return sklearn.metrics.f1_score(labels, preds, average=\"micro\", labels=label_indices) * 100.0\n",
    "\n",
    "\n",
    "def label_to_num(label):\n",
    "  num_label = []\n",
    "  with open('../code/dict_label_to_num.pkl', 'rb') as f:\n",
    "    dict_label_to_num = pickle.load(f)\n",
    "  for v in label:\n",
    "    num_label.append(dict_label_to_num[v])\n",
    "  \n",
    "  return num_label"
   ]
  },
  {
   "cell_type": "code",
   "execution_count": 6,
   "metadata": {},
   "outputs": [],
   "source": [
    "predict = pd.read_csv('../code/prediction/train_num6.csv')\n"
   ]
  },
  {
   "cell_type": "code",
   "execution_count": 7,
   "metadata": {},
   "outputs": [
    {
     "data": {
      "text/html": [
       "<div>\n",
       "<style scoped>\n",
       "    .dataframe tbody tr th:only-of-type {\n",
       "        vertical-align: middle;\n",
       "    }\n",
       "\n",
       "    .dataframe tbody tr th {\n",
       "        vertical-align: top;\n",
       "    }\n",
       "\n",
       "    .dataframe thead th {\n",
       "        text-align: right;\n",
       "    }\n",
       "</style>\n",
       "<table border=\"1\" class=\"dataframe\">\n",
       "  <thead>\n",
       "    <tr style=\"text-align: right;\">\n",
       "      <th></th>\n",
       "      <th>id</th>\n",
       "      <th>pred_label</th>\n",
       "      <th>probs</th>\n",
       "    </tr>\n",
       "  </thead>\n",
       "  <tbody>\n",
       "    <tr>\n",
       "      <th>0</th>\n",
       "      <td>0</td>\n",
       "      <td>org:alternate_names</td>\n",
       "      <td>[0.038510143756866455, 0.01255649235099554, 0....</td>\n",
       "    </tr>\n",
       "    <tr>\n",
       "      <th>1</th>\n",
       "      <td>1</td>\n",
       "      <td>per:alternate_names</td>\n",
       "      <td>[0.026050547137856483, 0.0008585403556935489, ...</td>\n",
       "    </tr>\n",
       "    <tr>\n",
       "      <th>2</th>\n",
       "      <td>2</td>\n",
       "      <td>no_relation</td>\n",
       "      <td>[0.98142009973526, 0.0005686503136530519, 0.00...</td>\n",
       "    </tr>\n",
       "    <tr>\n",
       "      <th>3</th>\n",
       "      <td>3</td>\n",
       "      <td>no_relation</td>\n",
       "      <td>[0.7977675795555115, 0.00031069599208422005, 0...</td>\n",
       "    </tr>\n",
       "    <tr>\n",
       "      <th>4</th>\n",
       "      <td>4</td>\n",
       "      <td>org:top_members/employees</td>\n",
       "      <td>[0.015762513503432274, 0.9825604557991028, 8.7...</td>\n",
       "    </tr>\n",
       "  </tbody>\n",
       "</table>\n",
       "</div>"
      ],
      "text/plain": [
       "   id                 pred_label  \\\n",
       "0   0        org:alternate_names   \n",
       "1   1        per:alternate_names   \n",
       "2   2                no_relation   \n",
       "3   3                no_relation   \n",
       "4   4  org:top_members/employees   \n",
       "\n",
       "                                               probs  \n",
       "0  [0.038510143756866455, 0.01255649235099554, 0....  \n",
       "1  [0.026050547137856483, 0.0008585403556935489, ...  \n",
       "2  [0.98142009973526, 0.0005686503136530519, 0.00...  \n",
       "3  [0.7977675795555115, 0.00031069599208422005, 0...  \n",
       "4  [0.015762513503432274, 0.9825604557991028, 8.7...  "
      ]
     },
     "execution_count": 7,
     "metadata": {},
     "output_type": "execute_result"
    }
   ],
   "source": [
    "predict.head()"
   ]
  },
  {
   "cell_type": "code",
   "execution_count": null,
   "metadata": {},
   "outputs": [],
   "source": []
  },
  {
   "cell_type": "code",
   "execution_count": 8,
   "metadata": {},
   "outputs": [
    {
     "data": {
      "text/plain": [
       "52.5219298245614"
      ]
     },
     "execution_count": 8,
     "metadata": {},
     "output_type": "execute_result"
    }
   ],
   "source": [
    "klue_re_micro_f1(predict.pred_label,result.label)"
   ]
  },
  {
   "cell_type": "code",
   "execution_count": 28,
   "metadata": {},
   "outputs": [
    {
     "data": {
      "text/plain": [
       "{'train_restart_checkpoint-5000.csv': 65.07560035576637,\n",
       " 'train_restart_type_checkpoint-7000.csv': 62.80667320902845,\n",
       " 'train_restart_checkpoint-7000.csv': 62.80667320902845,\n",
       " 'type_checkpoint-8000.csv': 62.766295707472175,\n",
       " 'train_restart_type_checkpoint-8000.csv': 62.766295707472175,\n",
       " 'type_checkpoint-12000.csv': 62.60869565217391,\n",
       " 'train_restart_checkpoint-11000.csv': 62.47877758913412,\n",
       " 'checkpoint-11000.csv': 62.47877758913412,\n",
       " 'train_restart_checkpoint-6000.csv': 62.47637051039698,\n",
       " 'train_restart_type_checkpoint-6000.csv': 62.47637051039698,\n",
       " 'checkpoint-9000.csv': 62.45130356607732,\n",
       " 'train_restart_checkpoint-3000.csv': 62.14738054116291,\n",
       " 'train_restart_checkpoint-4000.csv': 62.109656065620946,\n",
       " 'train_restart_type_checkpoint-4000.csv': 62.109656065620946,\n",
       " 'checkpoint-10000.csv': 62.0435716477447,\n",
       " 'type_checkpoint-10000.csv': 62.006698703946405,\n",
       " 'checkpoint-8000.csv': 62.00152788388083,\n",
       " 'train_restart_type_checkpoint-9000.csv': 61.71027440970006,\n",
       " 'type_checkpoint-9000.csv': 61.71027440970006,\n",
       " 'type_checkpoint-11000.csv': 61.56473144986029,\n",
       " 'checkpoint-7000.csv': 60.844558801271376,\n",
       " 'train_type_0.csv': 60.72807501378931,\n",
       " 'train_type.csv': 59.854240967591885,\n",
       " 'train_reform.csv': 59.72396486825596,\n",
       " 'train_restart_checkpoint-2000.csv': 59.42337736117028,\n",
       " 'train_dataTotal.csv': 58.345021037868165,\n",
       " 'train_dataX3.csv': 57.87478760946281,\n",
       " 'train_robertraLarge.csv': 57.86983761667307,\n",
       " 'train.csv': 57.49880210828942,\n",
       " 'train_1000.csv': 55.3512278697887,\n",
       " 'train_num3.csv': 55.244565217391305,\n",
       " 'train_dataEqual.csv': 55.08370044052864,\n",
       " 'train_change_load_data.csv': 55.054903445664515,\n",
       " 'train_argument_equal.csv': 54.62555066079295,\n",
       " 'tr_base-v3-naver-ner.csv': 54.36250159215387,\n",
       " 'train_changeword.csv': 54.26136363636363,\n",
       " 'tr_snunlp.csv': 53.55679702048417,\n",
       " 'train_restart_checkpoint-1000.csv': 53.48905972797162,\n",
       " 'train_5dev2.csv': 53.29332761823118,\n",
       " 'start_1000.csv': 52.55847953216375,\n",
       " 'train_num6.csv': 52.5219298245614,\n",
       " 'train_restart.csv': 51.3048521167601,\n",
       " 'train_changeword_metric.csv': 51.18725099601594,\n",
       " 'start.csv': 50.3179947624392,\n",
       " 'train_num2.csv': 48.58530051900218,\n",
       " 'train_not_equal.csv': 48.05974520427589,\n",
       " 'train_half_arg.csv': 47.817346352670874,\n",
       " 'train_half_arg_lr.csv': 45.51319648093841,\n",
       " 'train_num5.csv': 44.29666040190835,\n",
       " 'train_changeword_type.csv': 43.53855852069763,\n",
       " 'sample_submission.csv': 0.0}"
      ]
     },
     "execution_count": 28,
     "metadata": {},
     "output_type": "execute_result"
    }
   ],
   "source": [
    "file_list = os.listdir('../code/prediction')\n",
    "dic={}\n",
    "for file in file_list:\n",
    "    if file[:3] == 'dev' or file == '.ipynb_checkpoints':\n",
    "        continue\n",
    "    # if not 'checkpoint' in file:\n",
    "    #     continue\n",
    "    x= pd.read_csv(f'../code/prediction/{file}')\n",
    "    x= pd.concat([x,result],axis=1)\n",
    "    dic[file]=klue_re_micro_f1(x.pred_label,x.label)\n",
    "dic=dict(sorted(dic.items(), key=lambda x:-x[1]))\n",
    "dic"
   ]
  },
  {
   "cell_type": "code",
   "execution_count": 23,
   "metadata": {},
   "outputs": [
    {
     "data": {
      "text/plain": [
       "59.42337736117028"
      ]
     },
     "execution_count": 23,
     "metadata": {},
     "output_type": "execute_result"
    }
   ],
   "source": [
    "dic['train_restart_checkpoint-2000.csv']"
   ]
  },
  {
   "cell_type": "code",
   "execution_count": 10,
   "metadata": {},
   "outputs": [
    {
     "data": {
      "text/plain": [
       "id                0\n",
       "pred_label        0\n",
       "probs             0\n",
       "Unnamed: 0        0\n",
       "id                0\n",
       "sentence          0\n",
       "subject_entity    0\n",
       "object_entity     0\n",
       "label             0\n",
       "source            0\n",
       "dtype: int64"
      ]
     },
     "execution_count": 10,
     "metadata": {},
     "output_type": "execute_result"
    }
   ],
   "source": [
    "x.isna().sum()"
   ]
  }
 ],
 "metadata": {
  "kernelspec": {
   "display_name": "base",
   "language": "python",
   "name": "python3"
  },
  "language_info": {
   "codemirror_mode": {
    "name": "ipython",
    "version": 3
   },
   "file_extension": ".py",
   "mimetype": "text/x-python",
   "name": "python",
   "nbconvert_exporter": "python",
   "pygments_lexer": "ipython3",
   "version": "3.8.5"
  }
 },
 "nbformat": 4,
 "nbformat_minor": 2
}
