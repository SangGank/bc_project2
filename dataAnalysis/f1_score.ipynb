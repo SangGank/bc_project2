{
 "cells": [
  {
   "cell_type": "code",
   "execution_count": 1,
   "metadata": {},
   "outputs": [],
   "source": [
    "import pandas as pd\n",
    "import sklearn.metrics\n",
    "import numpy as np\n",
    "import os\n",
    "import pickle as pickle"
   ]
  },
  {
   "cell_type": "code",
   "execution_count": 2,
   "metadata": {},
   "outputs": [],
   "source": [
    "result = pd.read_csv('../data/dataset/test/dev_final.csv')\n"
   ]
  },
  {
   "cell_type": "code",
   "execution_count": 3,
   "metadata": {},
   "outputs": [],
   "source": [
    "def klue_re_micro_f1(preds, labels):\n",
    "    \"\"\"KLUE-RE micro f1 (except no_relation)\"\"\"\n",
    "    label_list = ['no_relation', 'org:top_members/employees', 'org:members',\n",
    "       'org:product', 'per:title', 'org:alternate_names',\n",
    "       'per:employee_of', 'org:place_of_headquarters', 'per:product',\n",
    "       'org:number_of_employees/members', 'per:children',\n",
    "       'per:place_of_residence', 'per:alternate_names',\n",
    "       'per:other_family', 'per:colleagues', 'per:origin', 'per:siblings',\n",
    "       'per:spouse', 'org:founded', 'org:political/religious_affiliation',\n",
    "       'org:member_of', 'per:parents', 'org:dissolved',\n",
    "       'per:schools_attended', 'per:date_of_death', 'per:date_of_birth',\n",
    "       'per:place_of_birth', 'per:place_of_death', 'org:founded_by',\n",
    "       'per:religion']\n",
    "    no_relation_label_idx = label_list.index(\"no_relation\")\n",
    "    preds = label_to_num(preds.values)\n",
    "    labels = label_to_num(labels.values)\n",
    "\n",
    "    label_indices = list(range(len(label_list)))\n",
    "    label_indices.remove(no_relation_label_idx)\n",
    "    return sklearn.metrics.f1_score(labels, preds, average=\"micro\", labels=label_indices) * 100.0\n",
    "\n",
    "\n",
    "def label_to_num(label):\n",
    "  num_label = []\n",
    "  with open('../code/dict_label_to_num.pkl', 'rb') as f:\n",
    "    dict_label_to_num = pickle.load(f)\n",
    "  for v in label:\n",
    "    num_label.append(dict_label_to_num[v])\n",
    "  \n",
    "  return num_label"
   ]
  },
  {
   "cell_type": "code",
   "execution_count": 4,
   "metadata": {},
   "outputs": [
    {
     "data": {
      "text/plain": [
       "{'train_19_roberta-large8379_checkpoint-6000_5_sub_57_4_5_19_roberta-large_lr_checkpoint-8000_21_roberta-large1_5_checkpoint-6000_1.csv': 75.70211423161881,\n",
       " 'ens_train_19_roberta-large_lr_checkpoint-8000_train_21_roberta-large1_5_checkpoint-6000.csv': 75.45310015898251,\n",
       " 'ens_train_21_roberta-large_train_19_roberta-large_lr.csv': 75.45310015898251,\n",
       " 'train_19_roberta-large_lr_checkpoint-8000_21_roberta-large1_5_checkpoint-6000.csv': 75.45310015898251,\n",
       " 'ens_train_21_roberta-large_train_21_seed_159.csv': 75.28179076043816,\n",
       " 'train_21_seed_159.csv': 74.80190174326465,\n",
       " 'train_19_roberta-large_lr_checkpoint-8000.csv': 74.58484896409932,\n",
       " 'train_19_large8379_warnmup_checkpoint-6000.csv': 74.3671900032041,\n",
       " 'train_21_seed_159_checkpoint-16000.csv': 74.34635496770224,\n",
       " 'train_21_roberta-large copy.csv': 74.31796801505173,\n",
       " 'train_21_roberta-large.csv': 74.31796801505173,\n",
       " 'train_21_roberta-large1_5_checkpoint-6000.csv': 74.31796801505173,\n",
       " 'train_19_roberta-large_lr_checkpoint-6000.csv': 74.31640625000001,\n",
       " 'train_19_large8379_warnmup_checkpoint-8000.csv': 74.18351477449455,\n",
       " 'train_19_seed_53_seed.csv': 74.18204372770973,\n",
       " 'train_19_seed_53_checkpoint-16000.csv': 74.18204372770973,\n",
       " 'train_19_seed_53_checkpoint-14000.csv': 74.04712952712319,\n",
       " 'train_21_roberta-large1_5_checkpoint-5000.csv': 74.01574803149606,\n",
       " 'train_19_focal_checkpoint-6000.csv': 73.92857142857142,\n",
       " 'train_21_roberta-large1_5.csv': 73.91304347826086,\n",
       " 'train_21_roberta-large1_5_checkpoint-8000.csv': 73.91304347826086,\n",
       " 'train_19_roberta-large8379_checkpoint-6000.csv': 73.83793969849246,\n",
       " 'train_19_roberta-large_lr_checkpoint-7000.csv': 73.83748238609677,\n",
       " 'train_19_roberta-large5_6000.csv': 73.81359887972616,\n",
       " 'train_19_roberta-large8379.csv': 73.77494014365521,\n",
       " 'train_19_roberta-large8379_checkpoint-8000.csv': 73.76390605686032,\n",
       " 'train_19_focal_checkpoint-8000.csv': 73.74213836477988,\n",
       " 'train_13_roberta-large.csv': 73.69914853358561,\n",
       " 'train_19_roberta-large_lr5000.csv': 73.67934698906515,\n",
       " 'train_19_roberta-large_lr_checkpoint-5000.csv': 73.67934698906515,\n",
       " 'train_19_large8379_warnmup_checkpoint-7000.csv': 73.66459627329192,\n",
       " 'train_15_roberta-large.csv': 73.50674373795762,\n",
       " 'train_21_roberta-large1_5_checkpoint-7000.csv': 73.46752058554438,\n",
       " 'train_14_roberta-large_checkpoint-6000.csv': 73.40305711987128,\n",
       " 'train_14_roberta-large copy 2.csv': 73.40305711987128,\n",
       " 'train_14_roberta-large copy.csv': 73.40305711987128,\n",
       " 'train_19_seed_53_checkpoint-12000.csv': 73.40088663711211,\n",
       " 'train_13_roberta-large_checkpoint-7000.csv': 73.36189116293829,\n",
       " 'train_19_roberta-large8379_checkpoint-7000.csv': 73.35084195890623,\n",
       " 'train_14_roberta-large_checkpoint-7000.csv': 73.29093799682035,\n",
       " 'train_14_roberta-large_checkpoint-8000.csv': 73.15394242803505,\n",
       " 'train_19_focal_checkpoint-7000.csv': 72.99906571161631,\n",
       " 'train_19_focal_checkpoint-5000.csv': 72.99757281553399,\n",
       " 'train_21_seed_159_checkpoint-14000.csv': 72.94007490636704,\n",
       " 'train_13_roberta-large_checkpoint-8000.csv': 72.93491864831039,\n",
       " 'train_14_roberta-large_checkpoint-4000.csv': 72.87853577371048,\n",
       " 'train_19_seed_53_checkpoint-10000.csv': 72.71648873072361,\n",
       " 'train_15_roberta-large_checkpoint-8000.csv': 72.66719118804092,\n",
       " 'train_19_large8379_warnmup_checkpoint-5000.csv': 72.59375,\n",
       " 'train_19_roberta-large5_7000.csv': 72.58662369057211,\n",
       " 'train_13_roberta-large_checkpoint-5000.csv': 72.43510506798518,\n",
       " 'train_21_seed_159_checkpoint-10000.csv': 72.40681883848599,\n",
       " 'train_14_roberta-large_checkpoint-5000.csv': 72.31833910034602,\n",
       " 'train_15_roberta-large_checkpoint-7000.csv': 72.24781572676726,\n",
       " 'train_15_roberta-large_checkpoint-5000.csv': 72.02755315962864,\n",
       " 'ens_train_16_roberta-large_train_14_roberta-large.csv': 70.80845570437307,\n",
       " 'ens_train_14_roberta-large_train_14.csv': 70.74960127591706,\n",
       " 'train_19_roberta-large5_checkpoint-8000.csv': 70.72534353800661,\n",
       " 'train_19_roberta-large.csv': 70.23607467983337,\n",
       " 'ens_train_14_roberta-large_train_sub_20.csv': 70.21546261089988,\n",
       " 'train_20_roberta-large_checkpoint-8000.csv': 69.80721393034825,\n",
       " 'train_18_roberta-large_checkpoint-8000.csv': 69.52869808679421,\n",
       " 'train_18_roberta-large.csv': 69.52869808679421,\n",
       " 'train_19_roberta-large5_checkpoint-9000.csv': 69.50988822012039,\n",
       " 'train_20_roberta-large.csv': 69.43812926274765,\n",
       " 'train_19_roberta-large1_5cst.csv': 69.29206251915414,\n",
       " 'train_16_roberta-large.csv': 69.22213311948677,\n",
       " 'train_16_roberta-large_checkpoint-8000.csv': 69.12602913236226,\n",
       " 'train_15_roberta-large_specialtoken_not_source.csv': 68.9894419306184,\n",
       " 'train_18_roberta-large_checkpoint-7000.csv': 68.97196261682244,\n",
       " 'train_16_roberta-large6000.csv': 68.9677213167146,\n",
       " 'train_18_roberta-large_checkpoint-6000.csv': 68.69738251951631,\n",
       " 'train_14_roberta-large.csv': 68.60687022900764,\n",
       " 'train_20_roberta-large_checkpoint-7000.csv': 68.38910505836576,\n",
       " 'train_17_roberta-large.csv': 68.17613991255466,\n",
       " 'train_sub_20.csv': 68.04219671113869,\n",
       " 'train_15_checkpoint-6000.csv': 67.82027929568912,\n",
       " 'train_14.csv': 67.6169817167648,\n",
       " 'train_15_checkpoint-8000.csv': 67.29701335734653,\n",
       " 'train_roberta_large_checkpoint-8000.csv': 67.2522730775158,\n",
       " 'train_19_lr_constant.csv': 66.75055048757473,\n",
       " 'train_18_roberta-large_checkpoint-5000.csv': 66.68572245247964,\n",
       " 'train_15_checkpoint-7000.csv': 66.53806202700699,\n",
       " 'train_15_checkpoint-4000.csv': 66.34844868735084,\n",
       " 'train_19_lr_change.csv': 66.30562060889929,\n",
       " 'train_19_lr_change_decay.csv': 66.30562060889929,\n",
       " 'train_13.csv': 66.20649985619788,\n",
       " 'train_15_split_2.csv': 66.17305458768872,\n",
       " 'checkpoint-5000.csv': 65.90839225330464,\n",
       " 'train_roberta_large_checkpoint-7000.csv': 65.65359477124183,\n",
       " 'train_15_checkpoint-5000.csv': 65.64795768439612,\n",
       " 'train_9_300_1.csv': 65.27069844331174,\n",
       " 'train_19_roberta-large2.csv': 65.25573192239858,\n",
       " 'train_restart_type.csv': 65.07560035576637,\n",
       " 'train_9.csv': 64.80930484176359,\n",
       " 'train_9_100.csv': 64.63930178644485,\n",
       " 'train_11.csv': 64.42519453824694,\n",
       " 'train_roberta_large_checkpoint-6000.csv': 64.3029038986042,\n",
       " 'train_10.csv': 64.12795125666413,\n",
       " 'train_15_checkpoint-3000.csv': 63.99519735854721,\n",
       " 'train_roberta_large_checkpoint-5000.csv': 63.9294403892944,\n",
       " 'train_restart_type4.csv': 63.5725677830941,\n",
       " 'train_19_lr_change_checkpoint-7000.csv': 63.161523875193936,\n",
       " 'train_14_snu.csv': 63.10303752233472,\n",
       " 'train_19_lr_change_checkpoint-6000.csv': 62.86912458500786,\n",
       " 'train_19_lr_change_checkpoint-8000.csv': 62.657246251938645,\n",
       " 'train_restart.csv': 62.47877758913412,\n",
       " 'train_restart_type500.csv': 62.46867167919801,\n",
       " 'train_19_lr_change_checkpoint-5000.csv': 61.52794394120662,\n",
       " 'train_roberta_large_checkpoint-4000.csv': 59.39004815409309,\n",
       " 'train_8.csv': 58.13253012048193,\n",
       " 'train.csv': 57.49880210828942,\n",
       " 'train_restart_type3.csv': 47.308228730822876,\n",
       " 'train_roberta-base.csv': 9.289491837203956,\n",
       " 'sample_submission.csv': 0.0}"
      ]
     },
     "execution_count": 4,
     "metadata": {},
     "output_type": "execute_result"
    }
   ],
   "source": [
    "# file_list = os.listdir('../code/prediction')\n",
    "dir_name = './save_best'\n",
    "dir_name = '../code/prediction'\n",
    "file_list = os.listdir(f'{dir_name}')\n",
    "dic={}\n",
    "for file in file_list:\n",
    "    if file[:3] == 'dev' or file == '.ipynb_checkpoints':\n",
    "        continue\n",
    "    # if not 'train_21' in file:\n",
    "    #     continue\n",
    "    x= pd.read_csv(f'{dir_name}/{file}')\n",
    "    x= pd.concat([x,result],axis=1)\n",
    "    dic[file]=klue_re_micro_f1(x.pred_label,x.label)\n",
    "dic=dict(sorted(dic.items(), key=lambda x:-x[1]))\n",
    "dic"
   ]
  },
  {
   "cell_type": "code",
   "execution_count": 9,
   "metadata": {},
   "outputs": [
    {
     "ename": "KeyError",
     "evalue": "'train_13_roberta-large_checkpoint-8000.csv'",
     "output_type": "error",
     "traceback": [
      "\u001b[0;31m---------------------------------------------------------------------------\u001b[0m",
      "\u001b[0;31mKeyError\u001b[0m                                  Traceback (most recent call last)",
      "\u001b[0;32m<ipython-input-9-486903547203>\u001b[0m in \u001b[0;36m<module>\u001b[0;34m\u001b[0m\n\u001b[0;32m----> 1\u001b[0;31m \u001b[0mdic\u001b[0m\u001b[0;34m[\u001b[0m\u001b[0;34m'train_13_roberta-large_checkpoint-8000.csv'\u001b[0m\u001b[0;34m]\u001b[0m\u001b[0;34m\u001b[0m\u001b[0;34m\u001b[0m\u001b[0m\n\u001b[0m",
      "\u001b[0;31mKeyError\u001b[0m: 'train_13_roberta-large_checkpoint-8000.csv'"
     ]
    }
   ],
   "source": [
    "dic['train_13_roberta-large_checkpoint-8000.csv']"
   ]
  },
  {
   "cell_type": "code",
   "execution_count": 8,
   "metadata": {},
   "outputs": [
    {
     "data": {
      "text/plain": [
       "{'train_num3.csv': 55.244565217391305,\n",
       " 'train_num6.csv': 52.5219298245614,\n",
       " 'train_num2.csv': 48.58530051900218,\n",
       " 'train_num5.csv': 44.29666040190835}"
      ]
     },
     "execution_count": 8,
     "metadata": {},
     "output_type": "execute_result"
    }
   ],
   "source": [
    "# file_list = os.listdir('../code/prediction')\n",
    "dir_name = './save_best'\n",
    "dir_name = '../code/fail_pred'\n",
    "file_list = os.listdir(f'{dir_name}')\n",
    "dic={}\n",
    "for file in file_list:\n",
    "    if file[:3] == 'dev' or file == '.ipynb_checkpoints':\n",
    "        continue\n",
    "    if not 'train_num' in file:\n",
    "    # if not 'train_restart' in file:\n",
    "        continue\n",
    "    x= pd.read_csv(f'{dir_name}/{file}')\n",
    "    x= pd.concat([x,result],axis=1)\n",
    "    dic[file]=klue_re_micro_f1(x.pred_label,x.label)\n",
    "dic=dict(sorted(dic.items(), key=lambda x:-x[1]))\n",
    "dic"
   ]
  },
  {
   "cell_type": "code",
   "execution_count": 4,
   "metadata": {},
   "outputs": [
    {
     "data": {
      "text/plain": [
       "{'train_19_roberta-large8379_checkpoint-6000_5_sub_57_4_5_19_roberta-large_lr_checkpoint-8000_21_roberta-large1_5_checkpoint-6000_1.csv': 75.70211423161881,\n",
       " 'ens_train_19_roberta-large_lr_checkpoint-8000_train_21_roberta-large1_5_checkpoint-6000.csv': 75.45310015898251,\n",
       " 'ens_train_21_roberta-large_train_19_roberta-large_lr.csv': 75.45310015898251,\n",
       " 'train_19_roberta-large_lr_checkpoint-8000_21_roberta-large1_5_checkpoint-6000.csv': 75.45310015898251,\n",
       " 'train_19_roberta-large_lr_checkpoint-8000.csv': 74.58484896409932,\n",
       " 'train_19_large8379_warnmup_checkpoint-6000.csv': 74.3671900032041,\n",
       " 'train_19_roberta-large_lr_checkpoint-6000.csv': 74.31640625000001,\n",
       " 'train_19_large8379_warnmup_checkpoint-8000.csv': 74.18351477449455,\n",
       " 'train_19_seed_53_seed.csv': 74.18204372770973,\n",
       " 'train_19_seed_53_checkpoint-16000.csv': 74.18204372770973,\n",
       " 'train_19_seed_53_checkpoint-14000.csv': 74.04712952712319,\n",
       " 'train_19_focal_checkpoint-6000.csv': 73.92857142857142,\n",
       " 'train_19_roberta-large8379_checkpoint-6000.csv': 73.83793969849246,\n",
       " 'train_19_roberta-large_lr_checkpoint-7000.csv': 73.83748238609677,\n",
       " 'train_19_roberta-large5_6000.csv': 73.81359887972616,\n",
       " 'train_19_roberta-large8379.csv': 73.77494014365521,\n",
       " 'train_19_roberta-large8379_checkpoint-8000.csv': 73.76390605686032,\n",
       " 'train_19_focal_checkpoint-8000.csv': 73.74213836477988,\n",
       " 'train_19_roberta-large_lr5000.csv': 73.67934698906515,\n",
       " 'train_19_roberta-large_lr_checkpoint-5000.csv': 73.67934698906515,\n",
       " 'train_19_large8379_warnmup_checkpoint-7000.csv': 73.66459627329192,\n",
       " 'train_19_seed_53_checkpoint-12000.csv': 73.40088663711211,\n",
       " 'train_19_roberta-large8379_checkpoint-7000.csv': 73.35084195890623,\n",
       " 'train_19_focal_checkpoint-7000.csv': 72.99906571161631,\n",
       " 'train_19_focal_checkpoint-5000.csv': 72.99757281553399,\n",
       " 'train_19_seed_53_checkpoint-10000.csv': 72.71648873072361,\n",
       " 'train_19_large8379_warnmup_checkpoint-5000.csv': 72.59375,\n",
       " 'train_19_roberta-large5_7000.csv': 72.58662369057211,\n",
       " 'train_19_roberta-large5_checkpoint-8000.csv': 70.72534353800661,\n",
       " 'train_19_roberta-large.csv': 70.23607467983337,\n",
       " 'train_19_roberta-large5_checkpoint-9000.csv': 69.50988822012039,\n",
       " 'train_19_roberta-large1_5cst.csv': 69.29206251915414,\n",
       " 'train_19_lr_constant.csv': 66.75055048757473,\n",
       " 'train_19_lr_change.csv': 66.30562060889929,\n",
       " 'train_19_lr_change_decay.csv': 66.30562060889929,\n",
       " 'train_19_roberta-large2.csv': 65.25573192239858,\n",
       " 'train_19_lr_change_checkpoint-7000.csv': 63.161523875193936,\n",
       " 'train_19_lr_change_checkpoint-6000.csv': 62.86912458500786,\n",
       " 'train_19_lr_change_checkpoint-8000.csv': 62.657246251938645,\n",
       " 'train_19_lr_change_checkpoint-5000.csv': 61.52794394120662}"
      ]
     },
     "execution_count": 4,
     "metadata": {},
     "output_type": "execute_result"
    }
   ],
   "source": [
    "file_list = os.listdir('../code/prediction')\n",
    "dic={}\n",
    "for file in file_list:\n",
    "    if file[:3] == 'dev' or file == '.ipynb_checkpoints':\n",
    "        continue\n",
    "    # if 'checkpoint' in file:\n",
    "    #     continue\n",
    "    if not \"train_19\" in file:\n",
    "        continue\n",
    "    x= pd.read_csv(f'../code/prediction/{file}')\n",
    "    x= pd.concat([x,result],axis=1)\n",
    "    dic[file]=klue_re_micro_f1(x.pred_label,x.label)\n",
    "dic=dict(sorted(dic.items(), key=lambda x:-x[1]))\n",
    "dic"
   ]
  },
  {
   "cell_type": "code",
   "execution_count": 9,
   "metadata": {},
   "outputs": [
    {
     "data": {
      "text/plain": [
       "66.30562060889929"
      ]
     },
     "execution_count": 9,
     "metadata": {},
     "output_type": "execute_result"
    }
   ],
   "source": [
    "dic['train_19_lr_change_decay.csv']\n"
   ]
  },
  {
   "cell_type": "code",
   "execution_count": 38,
   "metadata": {},
   "outputs": [
    {
     "name": "stdout",
     "output_type": "stream",
     "text": [
      "['train_21_seed_159.csv', 'train_14_roberta-large.csv', 'train_seo_02.csv', 'final7655.csv', 'train_13_roberta-large.csv', 'train_19_roberta-large_lr.csv', 'train_sub_69.csv', 'train_seo_01.csv']\n"
     ]
    },
    {
     "data": {
      "text/plain": [
       "{'final7655.csv': 76.55425922966276,\n",
       " 'train_seo_02.csv': 74.90165224232886,\n",
       " 'train_21_seed_159.csv': 74.80190174326465,\n",
       " 'train_19_roberta-large_lr.csv': 74.58484896409932,\n",
       " 'train_seo_01.csv': 74.42155309033281,\n",
       " 'train_sub_69.csv': 73.96393546346093,\n",
       " 'train_13_roberta-large.csv': 73.69914853358561,\n",
       " 'train_14_roberta-large.csv': 73.40305711987128}"
      ]
     },
     "execution_count": 38,
     "metadata": {},
     "output_type": "execute_result"
    }
   ],
   "source": [
    "# dir_name = '../code/prediction'\n",
    "dir_name = './ensemble_soft'\n",
    "file_list = os.listdir(f'{dir_name}')\n",
    "print(file_list)\n",
    "# file_list = os.listdir('./ensemble/')\n",
    "dic={}\n",
    "for file in file_list:\n",
    "    if file[:3] == 'dev' or file == '.ipynb_checkpoints':\n",
    "        continue\n",
    "    # x= pd.read_csv(f'../code/prediction/{file}')\n",
    "    x= pd.read_csv(f'{dir_name}/{file}')\n",
    "    x= pd.concat([x,result],axis=1)\n",
    "    dic[file]=klue_re_micro_f1(x.pred_label,x.label)\n",
    "dic=dict(sorted(dic.items(), key=lambda x:-x[1]))\n",
    "dic"
   ]
  },
  {
   "cell_type": "code",
   "execution_count": 30,
   "metadata": {},
   "outputs": [
    {
     "data": {
      "text/plain": [
       "{'train_seo_02.csv': 74.90165224232886,\n",
       " 'train_21_seed_159.csv': 74.80190174326465,\n",
       " 'train_19_roberta-large_lr.csv': 74.58484896409932,\n",
       " 'train_seo_01.csv': 74.42155309033281,\n",
       " 'train_sub_69.csv': 73.96393546346093,\n",
       " 'train_13_roberta-large.csv': 73.69914853358561,\n",
       " 'train_14_roberta-large.csv': 73.40305711987128}"
      ]
     },
     "execution_count": 30,
     "metadata": {},
     "output_type": "execute_result"
    }
   ],
   "source": [
    "# file_list = os.listdir('../code/prediction')\n",
    "file_list = os.listdir('./ensemble_soft')\n",
    "dic={}\n",
    "for file in file_list:\n",
    "    if file[:3] == 'dev' or file == '.ipynb_checkpoints':\n",
    "        continue\n",
    "    x= pd.read_csv(f'./ensemble_soft/{file}')\n",
    "    x= pd.concat([x,result],axis=1)\n",
    "    dic[file]=klue_re_micro_f1(x.pred_label,x.label)\n",
    "dic=dict(sorted(dic.items(), key=lambda x:-x[1]))\n",
    "dic"
   ]
  },
  {
   "cell_type": "code",
   "execution_count": 32,
   "metadata": {},
   "outputs": [
    {
     "data": {
      "text/plain": [
       "{'train_19_roberta-large8379_checkpoint-6000_5_sub_57_4_5_19_roberta-large_lr_checkpoint-8000_21_roberta-large1_5_checkpoint-6000_1.csv': 75.70211423161881,\n",
       " 'train_19_roberta-large8379_checkpoint-6000_5_sub_57_4_5_19_roberta-large_lr_checkpoint-8000_2.csv': 75.61322994144643,\n",
       " 'train_19_roberta-large8379_checkpoint-6000_5_sub_57_4.csv': 75.55905511811022,\n",
       " 'train_19_roberta-large_lr_checkpoint-8000_21_roberta-large1_5_checkpoint-6000.csv': 75.45310015898251,\n",
       " 'train_19_roberta-large_lr_checkpoint-8000.csv': 74.58484896409932,\n",
       " 'train_19_roberta-large_lr.csv': 74.58484896409932,\n",
       " 'train_21_roberta-large1_5_checkpoint-6000.csv': 74.31796801505173,\n",
       " 'train_19_roberta-large8379_checkpoint-6000.csv': 73.83793969849246,\n",
       " 'train_sub_57.csv': 73.75754760798885}"
      ]
     },
     "execution_count": 32,
     "metadata": {},
     "output_type": "execute_result"
    }
   ],
   "source": [
    "# file_list = os.listdir('../code/prediction')\n",
    "file_list = os.listdir('./ensemble/')\n",
    "dic={}\n",
    "for file in file_list:\n",
    "    if file[:3] == 'dev' or file == '.ipynb_checkpoints':\n",
    "        continue\n",
    "    x= pd.read_csv(f'./ensemble/{file}')\n",
    "    x= pd.concat([x,result],axis=1)\n",
    "    dic[file]=klue_re_micro_f1(x.pred_label,x.label)\n",
    "dic=dict(sorted(dic.items(), key=lambda x:-x[1]))\n",
    "dic"
   ]
  }
 ],
 "metadata": {
  "kernelspec": {
   "display_name": "base",
   "language": "python",
   "name": "python3"
  },
  "language_info": {
   "codemirror_mode": {
    "name": "ipython",
    "version": 3
   },
   "file_extension": ".py",
   "mimetype": "text/x-python",
   "name": "python",
   "nbconvert_exporter": "python",
   "pygments_lexer": "ipython3",
   "version": "3.8.5"
  }
 },
 "nbformat": 4,
 "nbformat_minor": 2
}
