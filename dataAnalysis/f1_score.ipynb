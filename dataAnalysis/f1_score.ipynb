{
 "cells": [
  {
   "cell_type": "code",
   "execution_count": 1,
   "metadata": {},
   "outputs": [],
   "source": [
    "import pandas as pd\n",
    "import sklearn.metrics\n",
    "import numpy as np\n",
    "import os\n",
    "import pickle as pickle"
   ]
  },
  {
   "cell_type": "code",
   "execution_count": 2,
   "metadata": {},
   "outputs": [
    {
     "data": {
      "text/plain": [
       "<module 'sklearn.metrics' from '/opt/conda/lib/python3.8/site-packages/sklearn/metrics/__init__.py'>"
      ]
     },
     "execution_count": 2,
     "metadata": {},
     "output_type": "execute_result"
    }
   ],
   "source": [
    "sklearn.metrics"
   ]
  },
  {
   "cell_type": "code",
   "execution_count": null,
   "metadata": {},
   "outputs": [],
   "source": []
  },
  {
   "cell_type": "code",
   "execution_count": 3,
   "metadata": {},
   "outputs": [],
   "source": [
    "result = pd.read_csv('../data/dataset/test/dev_final.csv')\n"
   ]
  },
  {
   "cell_type": "code",
   "execution_count": 4,
   "metadata": {},
   "outputs": [],
   "source": [
    "def klue_re_micro_f1(preds, labels):\n",
    "    \"\"\"KLUE-RE micro f1 (except no_relation)\"\"\"\n",
    "    label_list = ['no_relation', 'org:top_members/employees', 'org:members',\n",
    "       'org:product', 'per:title', 'org:alternate_names',\n",
    "       'per:employee_of', 'org:place_of_headquarters', 'per:product',\n",
    "       'org:number_of_employees/members', 'per:children',\n",
    "       'per:place_of_residence', 'per:alternate_names',\n",
    "       'per:other_family', 'per:colleagues', 'per:origin', 'per:siblings',\n",
    "       'per:spouse', 'org:founded', 'org:political/religious_affiliation',\n",
    "       'org:member_of', 'per:parents', 'org:dissolved',\n",
    "       'per:schools_attended', 'per:date_of_death', 'per:date_of_birth',\n",
    "       'per:place_of_birth', 'per:place_of_death', 'org:founded_by',\n",
    "       'per:religion']\n",
    "    no_relation_label_idx = label_list.index(\"no_relation\")\n",
    "    preds = label_to_num(preds.values)\n",
    "    labels = label_to_num(labels.values)\n",
    "\n",
    "    label_indices = list(range(len(label_list)))\n",
    "    label_indices.remove(no_relation_label_idx)\n",
    "    return sklearn.metrics.f1_score(labels, preds, average=\"micro\", labels=label_indices) * 100.0\n",
    "\n",
    "\n",
    "def label_to_num(label):\n",
    "  num_label = []\n",
    "  with open('../code/dict_label_to_num.pkl', 'rb') as f:\n",
    "    dict_label_to_num = pickle.load(f)\n",
    "  for v in label:\n",
    "    num_label.append(dict_label_to_num[v])\n",
    "  \n",
    "  return num_label"
   ]
  },
  {
   "cell_type": "code",
   "execution_count": 23,
   "metadata": {},
   "outputs": [
    {
     "data": {
      "text/plain": [
       "{'train_seo_02.csv': 74.90165224232886,\n",
       " 'train_21_seed_159.csv': 74.80190174326465,\n",
       " 'train_19_roberta-large_lr.csv': 74.58484896409932,\n",
       " 'train_seo_01.csv': 74.42155309033281,\n",
       " 'train_sub_69.csv': 73.96393546346093,\n",
       " 'train_13_roberta-large.csv': 73.69914853358561,\n",
       " 'train_14_roberta-large.csv': 73.40305711987128}"
      ]
     },
     "execution_count": 23,
     "metadata": {},
     "output_type": "execute_result"
    }
   ],
   "source": [
    "# file_list = os.listdir('../code/prediction')\n",
    "file_list = os.listdir('./save_best')\n",
    "dic={}\n",
    "for file in file_list:\n",
    "    if file[:3] == 'dev' or file == '.ipynb_checkpoints':\n",
    "        continue\n",
    "    x= pd.read_csv(f'./save_best/{file}')\n",
    "    x= pd.concat([x,result],axis=1)\n",
    "    dic[file]=klue_re_micro_f1(x.pred_label,x.label)\n",
    "dic=dict(sorted(dic.items(), key=lambda x:-x[1]))\n",
    "dic"
   ]
  },
  {
   "cell_type": "code",
   "execution_count": 9,
   "metadata": {},
   "outputs": [
    {
     "ename": "KeyError",
     "evalue": "'train_13_roberta-large_checkpoint-8000.csv'",
     "output_type": "error",
     "traceback": [
      "\u001b[0;31m---------------------------------------------------------------------------\u001b[0m",
      "\u001b[0;31mKeyError\u001b[0m                                  Traceback (most recent call last)",
      "\u001b[0;32m<ipython-input-9-486903547203>\u001b[0m in \u001b[0;36m<module>\u001b[0;34m\u001b[0m\n\u001b[0;32m----> 1\u001b[0;31m \u001b[0mdic\u001b[0m\u001b[0;34m[\u001b[0m\u001b[0;34m'train_13_roberta-large_checkpoint-8000.csv'\u001b[0m\u001b[0;34m]\u001b[0m\u001b[0;34m\u001b[0m\u001b[0;34m\u001b[0m\u001b[0m\n\u001b[0m",
      "\u001b[0;31mKeyError\u001b[0m: 'train_13_roberta-large_checkpoint-8000.csv'"
     ]
    }
   ],
   "source": [
    "dic['train_13_roberta-large_checkpoint-8000.csv']"
   ]
  },
  {
   "cell_type": "code",
   "execution_count": 17,
   "metadata": {},
   "outputs": [
    {
     "data": {
      "text/plain": [
       "{'train_19_focal_checkpoint-6000.csv': 73.49171081866349,\n",
       " 'train_19_focal_checkpoint-5000.csv': 71.94416070820566,\n",
       " 'train_19_focal_checkpoint-8000.csv': 71.60323747201652,\n",
       " 'train_19_focal_checkpoint-7000.csv': 71.34916624557857}"
      ]
     },
     "execution_count": 17,
     "metadata": {},
     "output_type": "execute_result"
    }
   ],
   "source": [
    "file_list = os.listdir('../code/prediction')\n",
    "dic={}\n",
    "for file in file_list:\n",
    "    if file[:3] == 'dev' or file == '.ipynb_checkpoints':\n",
    "        continue\n",
    "    # if 'checkpoint' in file:\n",
    "    #     continue\n",
    "    if not \"train_19_focal\" in file:\n",
    "        continue\n",
    "    x= pd.read_csv(f'../code/prediction/{file}')\n",
    "    x= pd.concat([x,result],axis=1)\n",
    "    dic[file]=klue_re_micro_f1(x.pred_label,x.label)\n",
    "dic=dict(sorted(dic.items(), key=lambda x:-x[1]))\n",
    "dic"
   ]
  },
  {
   "cell_type": "code",
   "execution_count": 9,
   "metadata": {},
   "outputs": [
    {
     "data": {
      "text/plain": [
       "66.30562060889929"
      ]
     },
     "execution_count": 9,
     "metadata": {},
     "output_type": "execute_result"
    }
   ],
   "source": [
    "dic['train_19_lr_change_decay.csv']\n"
   ]
  },
  {
   "cell_type": "code",
   "execution_count": 15,
   "metadata": {},
   "outputs": [
    {
     "data": {
      "text/plain": [
       "{'train_19_roberta-large_lr_checkpoint-8000_21_roberta-large1_5_checkpoint-6000.csv': 75.45310015898251,\n",
       " 'train_19_roberta-large_lr_checkpoint-8000.csv': 74.58484896409932,\n",
       " 'train_21_roberta-large1_5_checkpoint-6000.csv': 74.31796801505173,\n",
       " 'train_19_roberta-large8379_checkpoint-6000.csv': 73.83793969849246}"
      ]
     },
     "execution_count": 15,
     "metadata": {},
     "output_type": "execute_result"
    }
   ],
   "source": [
    "# file_list = os.listdir('../code/prediction')\n",
    "file_list = os.listdir('./ensemble/')\n",
    "dic={}\n",
    "for file in file_list:\n",
    "    if file[:3] == 'dev' or file == '.ipynb_checkpoints':\n",
    "        continue\n",
    "    if not 'checkpoint' in file:\n",
    "        continue\n",
    "    # x= pd.read_csv(f'../code/prediction/{file}')\n",
    "    x= pd.read_csv(f'./ensemble/{file}')\n",
    "    x= pd.concat([x,result],axis=1)\n",
    "    dic[file]=klue_re_micro_f1(x.pred_label,x.label)\n",
    "dic=dict(sorted(dic.items(), key=lambda x:-x[1]))\n",
    "dic"
   ]
  },
  {
   "cell_type": "code",
   "execution_count": 20,
   "metadata": {},
   "outputs": [
    {
     "data": {
      "text/plain": [
       "{'train_19_roberta-large8379_checkpoint-6000_5_sub_57_4_5_19_roberta-large_lr_checkpoint-8000_21_roberta-large1_5_checkpoint-6000_1.csv': 75.70211423161881,\n",
       " 'train_19_roberta-large8379_checkpoint-6000_5_sub_57_4_5_19_roberta-large_lr_checkpoint-8000_2.csv': 75.61322994144643,\n",
       " 'train_19_roberta-large8379_checkpoint-6000_5_sub_57_4.csv': 75.55905511811022,\n",
       " 'train_19_roberta-large_lr_checkpoint-8000.csv': 74.58484896409932,\n",
       " 'train_21_roberta-large1_5_checkpoint-6000.csv': 74.31796801505173,\n",
       " 'train_19_roberta-large8379_checkpoint-6000.csv': 73.83793969849246}"
      ]
     },
     "execution_count": 20,
     "metadata": {},
     "output_type": "execute_result"
    }
   ],
   "source": [
    "# file_list = os.listdir('../code/prediction')\n",
    "file_list = os.listdir('./save_best/')\n",
    "dic={}\n",
    "for file in file_list:\n",
    "    if file[:3] == 'dev' or file == '.ipynb_checkpoints':\n",
    "        continue\n",
    "    x= pd.read_csv(f'./save_best/{file}')\n",
    "    x= pd.concat([x,result],axis=1)\n",
    "    dic[file]=klue_re_micro_f1(x.pred_label,x.label)\n",
    "dic=dict(sorted(dic.items(), key=lambda x:-x[1]))\n",
    "dic"
   ]
  },
  {
   "cell_type": "code",
   "execution_count": 32,
   "metadata": {},
   "outputs": [
    {
     "data": {
      "text/plain": [
       "{'train_19_roberta-large8379_checkpoint-6000_5_sub_57_4_5_19_roberta-large_lr_checkpoint-8000_21_roberta-large1_5_checkpoint-6000_1.csv': 75.70211423161881,\n",
       " 'train_19_roberta-large8379_checkpoint-6000_5_sub_57_4_5_19_roberta-large_lr_checkpoint-8000_2.csv': 75.61322994144643,\n",
       " 'train_19_roberta-large8379_checkpoint-6000_5_sub_57_4.csv': 75.55905511811022,\n",
       " 'train_19_roberta-large_lr_checkpoint-8000_21_roberta-large1_5_checkpoint-6000.csv': 75.45310015898251,\n",
       " 'train_19_roberta-large_lr_checkpoint-8000.csv': 74.58484896409932,\n",
       " 'train_19_roberta-large_lr.csv': 74.58484896409932,\n",
       " 'train_21_roberta-large1_5_checkpoint-6000.csv': 74.31796801505173,\n",
       " 'train_19_roberta-large8379_checkpoint-6000.csv': 73.83793969849246,\n",
       " 'train_sub_57.csv': 73.75754760798885}"
      ]
     },
     "execution_count": 32,
     "metadata": {},
     "output_type": "execute_result"
    }
   ],
   "source": [
    "# file_list = os.listdir('../code/prediction')\n",
    "file_list = os.listdir('./ensemble/')\n",
    "dic={}\n",
    "for file in file_list:\n",
    "    if file[:3] == 'dev' or file == '.ipynb_checkpoints':\n",
    "        continue\n",
    "    x= pd.read_csv(f'./ensemble/{file}')\n",
    "    x= pd.concat([x,result],axis=1)\n",
    "    dic[file]=klue_re_micro_f1(x.pred_label,x.label)\n",
    "dic=dict(sorted(dic.items(), key=lambda x:-x[1]))\n",
    "dic"
   ]
  }
 ],
 "metadata": {
  "kernelspec": {
   "display_name": "base",
   "language": "python",
   "name": "python3"
  },
  "language_info": {
   "codemirror_mode": {
    "name": "ipython",
    "version": 3
   },
   "file_extension": ".py",
   "mimetype": "text/x-python",
   "name": "python",
   "nbconvert_exporter": "python",
   "pygments_lexer": "ipython3",
   "version": "3.8.5"
  }
 },
 "nbformat": 4,
 "nbformat_minor": 2
}
