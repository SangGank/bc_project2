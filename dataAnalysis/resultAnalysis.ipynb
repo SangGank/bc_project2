{
 "cells": [
  {
   "cell_type": "code",
   "execution_count": 1,
   "metadata": {},
   "outputs": [
    {
     "name": "stderr",
     "output_type": "stream",
     "text": [
      "/opt/conda/lib/python3.8/site-packages/scipy/__init__.py:146: UserWarning: A NumPy version >=1.16.5 and <1.23.0 is required for this version of SciPy (detected version 1.24.4\n",
      "  warnings.warn(f\"A NumPy version >={np_minversion} and <{np_maxversion}\"\n"
     ]
    }
   ],
   "source": [
    "import matplotlib.pyplot as plt \n",
    "import pandas as pd \n",
    "from sklearn.model_selection import train_test_split\n",
    "import seaborn as sns\n",
    "import re\n",
    "from konlpy.tag import Kkma\n",
    "from sklearn.metrics import accuracy_score, recall_score, precision_score, f1_score\n",
    "import sklearn\n",
    "import pickle as pickle\n"
   ]
  },
  {
   "cell_type": "code",
   "execution_count": 46,
   "metadata": {},
   "outputs": [
    {
     "data": {
      "text/html": [
       "<div>\n",
       "<style scoped>\n",
       "    .dataframe tbody tr th:only-of-type {\n",
       "        vertical-align: middle;\n",
       "    }\n",
       "\n",
       "    .dataframe tbody tr th {\n",
       "        vertical-align: top;\n",
       "    }\n",
       "\n",
       "    .dataframe thead th {\n",
       "        text-align: right;\n",
       "    }\n",
       "</style>\n",
       "<table border=\"1\" class=\"dataframe\">\n",
       "  <thead>\n",
       "    <tr style=\"text-align: right;\">\n",
       "      <th></th>\n",
       "      <th>Unnamed: 0</th>\n",
       "      <th>id</th>\n",
       "      <th>sentence</th>\n",
       "      <th>subject_entity</th>\n",
       "      <th>object_entity</th>\n",
       "      <th>label</th>\n",
       "      <th>source</th>\n",
       "    </tr>\n",
       "  </thead>\n",
       "  <tbody>\n",
       "    <tr>\n",
       "      <th>0</th>\n",
       "      <td>25543</td>\n",
       "      <td>0</td>\n",
       "      <td>는 지난 16일 한국철도공사를 방문해 손병석 사장에게 전라선 KTX 증편과 동력분산...</td>\n",
       "      <td>{'word': '한국철도공사', 'start_idx': 9, 'end_idx': ...</td>\n",
       "      <td>{'word': '손병석', 'start_idx': 21, 'end_idx': 23...</td>\n",
       "      <td>org:top_members/employees</td>\n",
       "      <td>wikitree</td>\n",
       "    </tr>\n",
       "    <tr>\n",
       "      <th>1</th>\n",
       "      <td>14789</td>\n",
       "      <td>1</td>\n",
       "      <td>프레디 머큐리가 작곡한 곡들로 〈Bohemian Rhapsody〉, 〈We Are ...</td>\n",
       "      <td>{'word': '프레디 머큐리', 'start_idx': 0, 'end_idx':...</td>\n",
       "      <td>{'word': 'Killer Queen', 'start_idx': 136, 'en...</td>\n",
       "      <td>per:product</td>\n",
       "      <td>wikipedia</td>\n",
       "    </tr>\n",
       "    <tr>\n",
       "      <th>2</th>\n",
       "      <td>7185</td>\n",
       "      <td>2</td>\n",
       "      <td>지난 4일 방송된 SBS '동상이몽-너는 내 운명'에서는 최수종, 하희라 씨 부부가...</td>\n",
       "      <td>{'word': '최수종', 'start_idx': 32, 'end_idx': 34...</td>\n",
       "      <td>{'word': '하희라', 'start_idx': 37, 'end_idx': 39...</td>\n",
       "      <td>per:spouse</td>\n",
       "      <td>wikitree</td>\n",
       "    </tr>\n",
       "    <tr>\n",
       "      <th>3</th>\n",
       "      <td>12313</td>\n",
       "      <td>3</td>\n",
       "      <td>이날 이찬혁·이수현 씨 남매는 군대로 인해 떨어진 기간 동안 느꼈던 점, 목표 등에...</td>\n",
       "      <td>{'word': '이찬혁', 'start_idx': 3, 'end_idx': 5, ...</td>\n",
       "      <td>{'word': '이수현', 'start_idx': 7, 'end_idx': 9, ...</td>\n",
       "      <td>per:siblings</td>\n",
       "      <td>wikitree</td>\n",
       "    </tr>\n",
       "    <tr>\n",
       "      <th>4</th>\n",
       "      <td>31372</td>\n",
       "      <td>4</td>\n",
       "      <td>프란츠 카프카는 오스트리아-헝가리 제국의 유대계 소설가이다.</td>\n",
       "      <td>{'word': '카프카', 'start_idx': 4, 'end_idx': 6, ...</td>\n",
       "      <td>{'word': '오스트리아-헝가리 제국', 'start_idx': 9, 'end_...</td>\n",
       "      <td>per:origin</td>\n",
       "      <td>wikipedia</td>\n",
       "    </tr>\n",
       "  </tbody>\n",
       "</table>\n",
       "</div>"
      ],
      "text/plain": [
       "   Unnamed: 0  id                                           sentence  \\\n",
       "0       25543   0  는 지난 16일 한국철도공사를 방문해 손병석 사장에게 전라선 KTX 증편과 동력분산...   \n",
       "1       14789   1  프레디 머큐리가 작곡한 곡들로 〈Bohemian Rhapsody〉, 〈We Are ...   \n",
       "2        7185   2  지난 4일 방송된 SBS '동상이몽-너는 내 운명'에서는 최수종, 하희라 씨 부부가...   \n",
       "3       12313   3  이날 이찬혁·이수현 씨 남매는 군대로 인해 떨어진 기간 동안 느꼈던 점, 목표 등에...   \n",
       "4       31372   4                  프란츠 카프카는 오스트리아-헝가리 제국의 유대계 소설가이다.   \n",
       "\n",
       "                                      subject_entity  \\\n",
       "0  {'word': '한국철도공사', 'start_idx': 9, 'end_idx': ...   \n",
       "1  {'word': '프레디 머큐리', 'start_idx': 0, 'end_idx':...   \n",
       "2  {'word': '최수종', 'start_idx': 32, 'end_idx': 34...   \n",
       "3  {'word': '이찬혁', 'start_idx': 3, 'end_idx': 5, ...   \n",
       "4  {'word': '카프카', 'start_idx': 4, 'end_idx': 6, ...   \n",
       "\n",
       "                                       object_entity  \\\n",
       "0  {'word': '손병석', 'start_idx': 21, 'end_idx': 23...   \n",
       "1  {'word': 'Killer Queen', 'start_idx': 136, 'en...   \n",
       "2  {'word': '하희라', 'start_idx': 37, 'end_idx': 39...   \n",
       "3  {'word': '이수현', 'start_idx': 7, 'end_idx': 9, ...   \n",
       "4  {'word': '오스트리아-헝가리 제국', 'start_idx': 9, 'end_...   \n",
       "\n",
       "                       label     source  \n",
       "0  org:top_members/employees   wikitree  \n",
       "1                per:product  wikipedia  \n",
       "2                 per:spouse   wikitree  \n",
       "3               per:siblings   wikitree  \n",
       "4                 per:origin  wikipedia  "
      ]
     },
     "execution_count": 46,
     "metadata": {},
     "output_type": "execute_result"
    }
   ],
   "source": [
    "pred = pd.read_csv('../code/prediction/dev_train_half_arg.csv')\n",
    "labels = pd.read_csv('../data/dataset/train/dev_no_half_arg_equal.csv')\n",
    "labels.id=labels.index\n",
    "labels.head()"
   ]
  },
  {
   "cell_type": "code",
   "execution_count": 43,
   "metadata": {},
   "outputs": [],
   "source": [
    "def whatType(string):\n",
    "    dic = eval(string)\n",
    "    return dic['type']\n",
    "def whatIsWord(string):\n",
    "    dic = eval(string)\n",
    "    return dic['word']\n",
    "def when_start(ob_entity,sub_entity):\n",
    "    ob_idx = eval(ob_entity)['start_idx']\n",
    "    sub_idx = eval(sub_entity)['start_idx']\n",
    "    if ob_idx >sub_idx:\n",
    "        return 0\n",
    "    return 1"
   ]
  },
  {
   "cell_type": "code",
   "execution_count": 47,
   "metadata": {},
   "outputs": [],
   "source": [
    "pred = pd.read_csv('../code/prediction/dev_train_half_arg.csv')\n",
    "labels = pd.read_csv('../data/dataset/train/dev_no_half_arg_equal.csv')\n",
    "labels.id=labels.index\n",
    "labels['object_type'] = labels.object_entity.apply(lambda x: whatType(x))\n",
    "labels['subject_type'] = labels.subject_entity.apply(lambda x: whatType(x))\n",
    "labels['fast']= labels.id.apply(lambda x: when_start(labels['object_entity'].loc[x],labels['subject_entity'].loc[x]))\n"
   ]
  },
  {
   "cell_type": "code",
   "execution_count": 48,
   "metadata": {},
   "outputs": [
    {
     "data": {
      "text/html": [
       "<div>\n",
       "<style scoped>\n",
       "    .dataframe tbody tr th:only-of-type {\n",
       "        vertical-align: middle;\n",
       "    }\n",
       "\n",
       "    .dataframe tbody tr th {\n",
       "        vertical-align: top;\n",
       "    }\n",
       "\n",
       "    .dataframe thead th {\n",
       "        text-align: right;\n",
       "    }\n",
       "</style>\n",
       "<table border=\"1\" class=\"dataframe\">\n",
       "  <thead>\n",
       "    <tr style=\"text-align: right;\">\n",
       "      <th></th>\n",
       "      <th>Unnamed: 0</th>\n",
       "      <th>id</th>\n",
       "      <th>sentence</th>\n",
       "      <th>subject_entity</th>\n",
       "      <th>object_entity</th>\n",
       "      <th>label</th>\n",
       "      <th>source</th>\n",
       "      <th>object_type</th>\n",
       "      <th>subject_type</th>\n",
       "      <th>fast</th>\n",
       "    </tr>\n",
       "  </thead>\n",
       "  <tbody>\n",
       "    <tr>\n",
       "      <th>0</th>\n",
       "      <td>25543</td>\n",
       "      <td>0</td>\n",
       "      <td>는 지난 16일 한국철도공사를 방문해 손병석 사장에게 전라선 KTX 증편과 동력분산...</td>\n",
       "      <td>{'word': '한국철도공사', 'start_idx': 9, 'end_idx': ...</td>\n",
       "      <td>{'word': '손병석', 'start_idx': 21, 'end_idx': 23...</td>\n",
       "      <td>org:top_members/employees</td>\n",
       "      <td>wikitree</td>\n",
       "      <td>PER</td>\n",
       "      <td>ORG</td>\n",
       "      <td>0</td>\n",
       "    </tr>\n",
       "    <tr>\n",
       "      <th>1</th>\n",
       "      <td>14789</td>\n",
       "      <td>1</td>\n",
       "      <td>프레디 머큐리가 작곡한 곡들로 〈Bohemian Rhapsody〉, 〈We Are ...</td>\n",
       "      <td>{'word': '프레디 머큐리', 'start_idx': 0, 'end_idx':...</td>\n",
       "      <td>{'word': 'Killer Queen', 'start_idx': 136, 'en...</td>\n",
       "      <td>per:product</td>\n",
       "      <td>wikipedia</td>\n",
       "      <td>POH</td>\n",
       "      <td>PER</td>\n",
       "      <td>0</td>\n",
       "    </tr>\n",
       "    <tr>\n",
       "      <th>2</th>\n",
       "      <td>7185</td>\n",
       "      <td>2</td>\n",
       "      <td>지난 4일 방송된 SBS '동상이몽-너는 내 운명'에서는 최수종, 하희라 씨 부부가...</td>\n",
       "      <td>{'word': '최수종', 'start_idx': 32, 'end_idx': 34...</td>\n",
       "      <td>{'word': '하희라', 'start_idx': 37, 'end_idx': 39...</td>\n",
       "      <td>per:spouse</td>\n",
       "      <td>wikitree</td>\n",
       "      <td>PER</td>\n",
       "      <td>PER</td>\n",
       "      <td>0</td>\n",
       "    </tr>\n",
       "    <tr>\n",
       "      <th>3</th>\n",
       "      <td>12313</td>\n",
       "      <td>3</td>\n",
       "      <td>이날 이찬혁·이수현 씨 남매는 군대로 인해 떨어진 기간 동안 느꼈던 점, 목표 등에...</td>\n",
       "      <td>{'word': '이찬혁', 'start_idx': 3, 'end_idx': 5, ...</td>\n",
       "      <td>{'word': '이수현', 'start_idx': 7, 'end_idx': 9, ...</td>\n",
       "      <td>per:siblings</td>\n",
       "      <td>wikitree</td>\n",
       "      <td>PER</td>\n",
       "      <td>PER</td>\n",
       "      <td>0</td>\n",
       "    </tr>\n",
       "    <tr>\n",
       "      <th>4</th>\n",
       "      <td>31372</td>\n",
       "      <td>4</td>\n",
       "      <td>프란츠 카프카는 오스트리아-헝가리 제국의 유대계 소설가이다.</td>\n",
       "      <td>{'word': '카프카', 'start_idx': 4, 'end_idx': 6, ...</td>\n",
       "      <td>{'word': '오스트리아-헝가리 제국', 'start_idx': 9, 'end_...</td>\n",
       "      <td>per:origin</td>\n",
       "      <td>wikipedia</td>\n",
       "      <td>ORG</td>\n",
       "      <td>PER</td>\n",
       "      <td>0</td>\n",
       "    </tr>\n",
       "  </tbody>\n",
       "</table>\n",
       "</div>"
      ],
      "text/plain": [
       "   Unnamed: 0  id                                           sentence  \\\n",
       "0       25543   0  는 지난 16일 한국철도공사를 방문해 손병석 사장에게 전라선 KTX 증편과 동력분산...   \n",
       "1       14789   1  프레디 머큐리가 작곡한 곡들로 〈Bohemian Rhapsody〉, 〈We Are ...   \n",
       "2        7185   2  지난 4일 방송된 SBS '동상이몽-너는 내 운명'에서는 최수종, 하희라 씨 부부가...   \n",
       "3       12313   3  이날 이찬혁·이수현 씨 남매는 군대로 인해 떨어진 기간 동안 느꼈던 점, 목표 등에...   \n",
       "4       31372   4                  프란츠 카프카는 오스트리아-헝가리 제국의 유대계 소설가이다.   \n",
       "\n",
       "                                      subject_entity  \\\n",
       "0  {'word': '한국철도공사', 'start_idx': 9, 'end_idx': ...   \n",
       "1  {'word': '프레디 머큐리', 'start_idx': 0, 'end_idx':...   \n",
       "2  {'word': '최수종', 'start_idx': 32, 'end_idx': 34...   \n",
       "3  {'word': '이찬혁', 'start_idx': 3, 'end_idx': 5, ...   \n",
       "4  {'word': '카프카', 'start_idx': 4, 'end_idx': 6, ...   \n",
       "\n",
       "                                       object_entity  \\\n",
       "0  {'word': '손병석', 'start_idx': 21, 'end_idx': 23...   \n",
       "1  {'word': 'Killer Queen', 'start_idx': 136, 'en...   \n",
       "2  {'word': '하희라', 'start_idx': 37, 'end_idx': 39...   \n",
       "3  {'word': '이수현', 'start_idx': 7, 'end_idx': 9, ...   \n",
       "4  {'word': '오스트리아-헝가리 제국', 'start_idx': 9, 'end_...   \n",
       "\n",
       "                       label     source object_type subject_type  fast  \n",
       "0  org:top_members/employees   wikitree         PER          ORG     0  \n",
       "1                per:product  wikipedia         POH          PER     0  \n",
       "2                 per:spouse   wikitree         PER          PER     0  \n",
       "3               per:siblings   wikitree         PER          PER     0  \n",
       "4                 per:origin  wikipedia         ORG          PER     0  "
      ]
     },
     "execution_count": 48,
     "metadata": {},
     "output_type": "execute_result"
    }
   ],
   "source": [
    "labels.head()"
   ]
  },
  {
   "cell_type": "code",
   "execution_count": 4,
   "metadata": {},
   "outputs": [],
   "source": [
    "\n",
    "\n",
    "def label_to_num(label):\n",
    "  num_label = []\n",
    "  with open('../code/dict_label_to_num.pkl', 'rb') as f:\n",
    "    dict_label_to_num = pickle.load(f)\n",
    "  for v in label:\n",
    "    num_label.append(dict_label_to_num[v])\n",
    "  \n",
    "  return num_label"
   ]
  },
  {
   "cell_type": "code",
   "execution_count": 5,
   "metadata": {},
   "outputs": [
    {
     "data": {
      "text/html": [
       "<div>\n",
       "<style scoped>\n",
       "    .dataframe tbody tr th:only-of-type {\n",
       "        vertical-align: middle;\n",
       "    }\n",
       "\n",
       "    .dataframe tbody tr th {\n",
       "        vertical-align: top;\n",
       "    }\n",
       "\n",
       "    .dataframe thead th {\n",
       "        text-align: right;\n",
       "    }\n",
       "</style>\n",
       "<table border=\"1\" class=\"dataframe\">\n",
       "  <thead>\n",
       "    <tr style=\"text-align: right;\">\n",
       "      <th></th>\n",
       "      <th>id</th>\n",
       "      <th>label</th>\n",
       "      <th>pred_label</th>\n",
       "    </tr>\n",
       "  </thead>\n",
       "  <tbody>\n",
       "    <tr>\n",
       "      <th>0</th>\n",
       "      <td>25543</td>\n",
       "      <td>1</td>\n",
       "      <td>1</td>\n",
       "    </tr>\n",
       "    <tr>\n",
       "      <th>1</th>\n",
       "      <td>14789</td>\n",
       "      <td>8</td>\n",
       "      <td>8</td>\n",
       "    </tr>\n",
       "    <tr>\n",
       "      <th>2</th>\n",
       "      <td>7185</td>\n",
       "      <td>17</td>\n",
       "      <td>17</td>\n",
       "    </tr>\n",
       "    <tr>\n",
       "      <th>3</th>\n",
       "      <td>12313</td>\n",
       "      <td>16</td>\n",
       "      <td>16</td>\n",
       "    </tr>\n",
       "    <tr>\n",
       "      <th>4</th>\n",
       "      <td>31372</td>\n",
       "      <td>15</td>\n",
       "      <td>15</td>\n",
       "    </tr>\n",
       "  </tbody>\n",
       "</table>\n",
       "</div>"
      ],
      "text/plain": [
       "      id  label  pred_label\n",
       "0  25543      1           1\n",
       "1  14789      8           8\n",
       "2   7185     17          17\n",
       "3  12313     16          16\n",
       "4  31372     15          15"
      ]
     },
     "execution_count": 5,
     "metadata": {},
     "output_type": "execute_result"
    }
   ],
   "source": [
    "compare = pd.concat([labels[['id','label']],pred.pred_label],axis=1)\n",
    "compare['label'] = label_to_num(compare.label.values)\n",
    "compare['pred_label'] = label_to_num(compare.pred_label.values)\n",
    "compare.head()\n"
   ]
  },
  {
   "cell_type": "code",
   "execution_count": 6,
   "metadata": {},
   "outputs": [
    {
     "data": {
      "text/plain": [
       "((499, 3), (101, 3))"
      ]
     },
     "execution_count": 6,
     "metadata": {},
     "output_type": "execute_result"
    }
   ],
   "source": [
    "compare[compare.label==compare.pred_label].shape, compare[compare.label!=compare.pred_label].shape"
   ]
  },
  {
   "cell_type": "code",
   "execution_count": 7,
   "metadata": {},
   "outputs": [
    {
     "data": {
      "text/plain": [
       "<Axes: xlabel='label', ylabel='pred_label'>"
      ]
     },
     "execution_count": 7,
     "metadata": {},
     "output_type": "execute_result"
    },
    {
     "data": {
      "image/png": "[encoded data removed]",
      "text/plain": [
       "<Figure size 720x720 with 1 Axes>"
      ]
     },
     "metadata": {
      "needs_background": "light"
     },
     "output_type": "display_data"
    }
   ],
   "source": [
    "plt.figure(figsize=(10,10))\n",
    "sns.scatterplot(x=compare.label, y= compare.pred_label)\n",
    "# plt.xticks(rotation=90)"
   ]
  },
  {
   "cell_type": "code",
   "execution_count": 8,
   "metadata": {},
   "outputs": [],
   "source": [
    "train_data = pd.read_csv('../data/dataset/train/train_no_half_arg_equal.csv')\n"
   ]
  },
  {
   "cell_type": "code",
   "execution_count": 59,
   "metadata": {},
   "outputs": [
    {
     "data": {
      "text/plain": [
       "<Axes: xlabel='label'>"
      ]
     },
     "execution_count": 59,
     "metadata": {},
     "output_type": "execute_result"
    },
    {
     "data": {
      "image/png": "[encoded data removed]",
      "text/plain": [
       "<Figure size 432x288 with 1 Axes>"
      ]
     },
     "metadata": {
      "needs_background": "light"
     },
     "output_type": "display_data"
    }
   ],
   "source": [
    "compare = pd.concat([labels[['id','label','subject_type','object_type','fast']],pred.pred_label],axis=1)\n",
    "\n",
    "compare[compare.label!=compare.pred_label]['label'].value_counts().plot(kind='bar')"
   ]
  },
  {
   "cell_type": "code",
   "execution_count": 36,
   "metadata": {},
   "outputs": [
    {
     "data": {
      "text/plain": [
       "<Axes: xlabel='subject_type'>"
      ]
     },
     "execution_count": 36,
     "metadata": {},
     "output_type": "execute_result"
    },
    {
     "data": {
      "image/png": "[encoded data removed]",
      "text/plain": [
       "<Figure size 432x288 with 1 Axes>"
      ]
     },
     "metadata": {
      "needs_background": "light"
     },
     "output_type": "display_data"
    }
   ],
   "source": [
    "compare[compare.label!=compare.pred_label]['subject_type'].value_counts().plot(kind='bar')\n"
   ]
  },
  {
   "cell_type": "code",
   "execution_count": 49,
   "metadata": {},
   "outputs": [
    {
     "data": {
      "text/plain": [
       "<Axes: xlabel='subject_type'>"
      ]
     },
     "execution_count": 49,
     "metadata": {},
     "output_type": "execute_result"
    },
    {
     "data": {
      "image/png": "[encoded data removed]",
      "text/plain": [
       "<Figure size 432x288 with 1 Axes>"
      ]
     },
     "metadata": {
      "needs_background": "light"
     },
     "output_type": "display_data"
    }
   ],
   "source": [
    "compare[compare.label ==compare.pred_label]['subject_type'].value_counts().plot(kind='bar')\n"
   ]
  },
  {
   "cell_type": "code",
   "execution_count": 50,
   "metadata": {},
   "outputs": [
    {
     "data": {
      "text/plain": [
       "<Axes: xlabel='subject_type'>"
      ]
     },
     "execution_count": 50,
     "metadata": {},
     "output_type": "execute_result"
    },
    {
     "data": {
      "image/png": "[encoded data removed]",
      "text/plain": [
       "<Figure size 432x288 with 1 Axes>"
      ]
     },
     "metadata": {
      "needs_background": "light"
     },
     "output_type": "display_data"
    }
   ],
   "source": [
    "compare['subject_type'].value_counts().plot(kind='bar')\n"
   ]
  },
  {
   "cell_type": "code",
   "execution_count": 51,
   "metadata": {},
   "outputs": [
    {
     "data": {
      "text/plain": [
       "<Axes: xlabel='object_type'>"
      ]
     },
     "execution_count": 51,
     "metadata": {},
     "output_type": "execute_result"
    },
    {
     "data": {
      "image/png": "[encoded data removed]",
      "text/plain": [
       "<Figure size 432x288 with 1 Axes>"
      ]
     },
     "metadata": {
      "needs_background": "light"
     },
     "output_type": "display_data"
    }
   ],
   "source": [
    "compare[compare.label!=compare.pred_label]['object_type'].value_counts().plot(kind='bar')\n"
   ]
  },
  {
   "cell_type": "code",
   "execution_count": 52,
   "metadata": {},
   "outputs": [
    {
     "data": {
      "text/plain": [
       "<Axes: xlabel='object_type'>"
      ]
     },
     "execution_count": 52,
     "metadata": {},
     "output_type": "execute_result"
    },
    {
     "data": {
      "image/png": "[encoded data removed]",
      "text/plain": [
       "<Figure size 432x288 with 1 Axes>"
      ]
     },
     "metadata": {
      "needs_background": "light"
     },
     "output_type": "display_data"
    }
   ],
   "source": [
    "compare[compare.label==compare.pred_label]['object_type'].value_counts().plot(kind='bar')\n"
   ]
  },
  {
   "cell_type": "code",
   "execution_count": 10,
   "metadata": {},
   "outputs": [
    {
     "data": {
      "text/html": [
       "<div>\n",
       "<style scoped>\n",
       "    .dataframe tbody tr th:only-of-type {\n",
       "        vertical-align: middle;\n",
       "    }\n",
       "\n",
       "    .dataframe tbody tr th {\n",
       "        vertical-align: top;\n",
       "    }\n",
       "\n",
       "    .dataframe thead th {\n",
       "        text-align: right;\n",
       "    }\n",
       "</style>\n",
       "<table border=\"1\" class=\"dataframe\">\n",
       "  <thead>\n",
       "    <tr style=\"text-align: right;\">\n",
       "      <th></th>\n",
       "      <th>train</th>\n",
       "      <th>val_label</th>\n",
       "      <th>val_pred</th>\n",
       "      <th>correct</th>\n",
       "    </tr>\n",
       "  </thead>\n",
       "  <tbody>\n",
       "    <tr>\n",
       "      <th>org:top_members/employees</th>\n",
       "      <td>19.960</td>\n",
       "      <td>NaN</td>\n",
       "      <td>1.0</td>\n",
       "      <td>20</td>\n",
       "    </tr>\n",
       "    <tr>\n",
       "      <th>no_relation</th>\n",
       "      <td>18.980</td>\n",
       "      <td>7.0</td>\n",
       "      <td>21.0</td>\n",
       "      <td>13</td>\n",
       "    </tr>\n",
       "    <tr>\n",
       "      <th>per:employee_of</th>\n",
       "      <td>17.456</td>\n",
       "      <td>4.0</td>\n",
       "      <td>13.0</td>\n",
       "      <td>16</td>\n",
       "    </tr>\n",
       "    <tr>\n",
       "      <th>per:title</th>\n",
       "      <td>10.920</td>\n",
       "      <td>1.0</td>\n",
       "      <td>NaN</td>\n",
       "      <td>19</td>\n",
       "    </tr>\n",
       "    <tr>\n",
       "      <th>org:member_of</th>\n",
       "      <td>9.460</td>\n",
       "      <td>3.0</td>\n",
       "      <td>6.0</td>\n",
       "      <td>17</td>\n",
       "    </tr>\n",
       "  </tbody>\n",
       "</table>\n",
       "</div>"
      ],
      "text/plain": [
       "                            train  val_label  val_pred  correct\n",
       "org:top_members/employees  19.960        NaN       1.0       20\n",
       "no_relation                18.980        7.0      21.0       13\n",
       "per:employee_of            17.456        4.0      13.0       16\n",
       "per:title                  10.920        1.0       NaN       19\n",
       "org:member_of               9.460        3.0       6.0       17"
      ]
     },
     "execution_count": 10,
     "metadata": {},
     "output_type": "execute_result"
    }
   ],
   "source": [
    "count_train = pd.concat([train_data['label'].value_counts()/250,compare[compare.label!=compare.pred_label]['label'].value_counts(),\n",
    "                         compare[compare.label!=compare.pred_label]['pred_label'].value_counts(),compare[compare.label==compare.pred_label]['pred_label'].value_counts()],axis=1)\n",
    "count_train.columns=['train','val_label','val_pred','correct']\n",
    "count_train.head()\n"
   ]
  },
  {
   "cell_type": "code",
   "execution_count": 11,
   "metadata": {},
   "outputs": [
    {
     "data": {
      "text/plain": [
       "<Axes: >"
      ]
     },
     "execution_count": 11,
     "metadata": {},
     "output_type": "execute_result"
    },
    {
     "data": {
      "image/png": "[encoded data removed]",
      "text/plain": [
       "<Figure size 432x288 with 1 Axes>"
      ]
     },
     "metadata": {
      "needs_background": "light"
     },
     "output_type": "display_data"
    }
   ],
   "source": [
    "count_train[['train','correct']].plot(kind='bar')"
   ]
  },
  {
   "cell_type": "code",
   "execution_count": 12,
   "metadata": {},
   "outputs": [
    {
     "data": {
      "text/plain": [
       "<Axes: >"
      ]
     },
     "execution_count": 12,
     "metadata": {},
     "output_type": "execute_result"
    },
    {
     "data": {
      "image/png": "[encoded data removed]",
      "text/plain": [
       "<Figure size 432x288 with 1 Axes>"
      ]
     },
     "metadata": {
      "needs_background": "light"
     },
     "output_type": "display_data"
    }
   ],
   "source": [
    "count_train[['val_label','correct']].plot(kind='bar')\n"
   ]
  },
  {
   "cell_type": "code",
   "execution_count": 13,
   "metadata": {},
   "outputs": [
    {
     "data": {
      "text/plain": [
       "<Axes: >"
      ]
     },
     "execution_count": 13,
     "metadata": {},
     "output_type": "execute_result"
    },
    {
     "data": {
      "image/png": "[encoded data removed]",
      "text/plain": [
       "<Figure size 432x288 with 1 Axes>"
      ]
     },
     "metadata": {
      "needs_background": "light"
     },
     "output_type": "display_data"
    }
   ],
   "source": [
    "count_train[['val_label','train']].plot(kind='bar')\n"
   ]
  },
  {
   "cell_type": "code",
   "execution_count": 14,
   "metadata": {},
   "outputs": [
    {
     "data": {
      "text/plain": [
       "<Axes: xlabel='label'>"
      ]
     },
     "execution_count": 14,
     "metadata": {},
     "output_type": "execute_result"
    },
    {
     "data": {
      "image/png": "[encoded data removed]",
      "text/plain": [
       "<Figure size 432x288 with 1 Axes>"
      ]
     },
     "metadata": {
      "needs_background": "light"
     },
     "output_type": "display_data"
    }
   ],
   "source": [
    "compare['label'].value_counts().plot(kind='bar')"
   ]
  },
  {
   "cell_type": "code",
   "execution_count": 30,
   "metadata": {},
   "outputs": [],
   "source": [
    "def klue_re_micro_f1(preds, labels):\n",
    "    \"\"\"KLUE-RE micro f1 (except no_relation)\"\"\"\n",
    "    label_list = ['no_relation', 'org:top_members/employees', 'org:members',\n",
    "       'org:product', 'per:title', 'org:alternate_names',\n",
    "       'per:employee_of', 'org:place_of_headquarters', 'per:product',\n",
    "       'org:number_of_employees/members', 'per:children',\n",
    "       'per:place_of_residence', 'per:alternate_names',\n",
    "       'per:other_family', 'per:colleagues', 'per:origin', 'per:siblings',\n",
    "       'per:spouse', 'org:founded', 'org:political/religious_affiliation',\n",
    "       'org:member_of', 'per:parents', 'org:dissolved',\n",
    "       'per:schools_attended', 'per:date_of_death', 'per:date_of_birth',\n",
    "       'per:place_of_birth', 'per:place_of_death', 'org:founded_by',\n",
    "       'per:religion']\n",
    "    no_relation_label_idx = label_list.index(\"no_relation\")\n",
    "    preds = label_to_num(preds.values)\n",
    "    labels = label_to_num(labels.values)\n",
    "\n",
    "    label_indices = list(range(len(label_list)))\n",
    "    label_indices.remove(no_relation_label_idx)\n",
    "    return sklearn.metrics.f1_score(labels, preds, average=\"micro\", labels=label_indices) * 100.0\n",
    "\n",
    "\n",
    "def label_to_num(label):\n",
    "  num_label = []\n",
    "  with open('../code/dict_label_to_num.pkl', 'rb') as f:\n",
    "    dict_label_to_num = pickle.load(f)\n",
    "  for v in label:\n",
    "    num_label.append(dict_label_to_num[v])\n",
    "  \n",
    "  return num_label"
   ]
  },
  {
   "cell_type": "code",
   "execution_count": 27,
   "metadata": {},
   "outputs": [
    {
     "data": {
      "text/html": [
       "<div>\n",
       "<style scoped>\n",
       "    .dataframe tbody tr th:only-of-type {\n",
       "        vertical-align: middle;\n",
       "    }\n",
       "\n",
       "    .dataframe tbody tr th {\n",
       "        vertical-align: top;\n",
       "    }\n",
       "\n",
       "    .dataframe thead th {\n",
       "        text-align: right;\n",
       "    }\n",
       "</style>\n",
       "<table border=\"1\" class=\"dataframe\">\n",
       "  <thead>\n",
       "    <tr style=\"text-align: right;\">\n",
       "      <th></th>\n",
       "      <th>id</th>\n",
       "      <th>label</th>\n",
       "      <th>pred_label</th>\n",
       "    </tr>\n",
       "  </thead>\n",
       "  <tbody>\n",
       "    <tr>\n",
       "      <th>0</th>\n",
       "      <td>25543</td>\n",
       "      <td>org:top_members/employees</td>\n",
       "      <td>org:top_members/employees</td>\n",
       "    </tr>\n",
       "    <tr>\n",
       "      <th>1</th>\n",
       "      <td>14789</td>\n",
       "      <td>per:product</td>\n",
       "      <td>per:product</td>\n",
       "    </tr>\n",
       "    <tr>\n",
       "      <th>2</th>\n",
       "      <td>7185</td>\n",
       "      <td>per:spouse</td>\n",
       "      <td>per:spouse</td>\n",
       "    </tr>\n",
       "    <tr>\n",
       "      <th>3</th>\n",
       "      <td>12313</td>\n",
       "      <td>per:siblings</td>\n",
       "      <td>per:siblings</td>\n",
       "    </tr>\n",
       "    <tr>\n",
       "      <th>4</th>\n",
       "      <td>31372</td>\n",
       "      <td>per:origin</td>\n",
       "      <td>per:origin</td>\n",
       "    </tr>\n",
       "  </tbody>\n",
       "</table>\n",
       "</div>"
      ],
      "text/plain": [
       "      id                      label                 pred_label\n",
       "0  25543  org:top_members/employees  org:top_members/employees\n",
       "1  14789                per:product                per:product\n",
       "2   7185                 per:spouse                 per:spouse\n",
       "3  12313               per:siblings               per:siblings\n",
       "4  31372                 per:origin                 per:origin"
      ]
     },
     "execution_count": 27,
     "metadata": {},
     "output_type": "execute_result"
    }
   ],
   "source": [
    "compare.head()\n"
   ]
  },
  {
   "cell_type": "code",
   "execution_count": 16,
   "metadata": {},
   "outputs": [
    {
     "name": "stdout",
     "output_type": "stream",
     "text": [
      "83.16666666666667\n"
     ]
    }
   ],
   "source": [
    "compare = pd.concat([labels[['id','label']],pred.pred_label],axis=1)\n",
    "print((klue_re_micro_f1(compare.pred_label,compare.label)))"
   ]
  },
  {
   "cell_type": "code",
   "execution_count": 17,
   "metadata": {},
   "outputs": [
    {
     "name": "stdout",
     "output_type": "stream",
     "text": [
      "83.79310344827586\n"
     ]
    }
   ],
   "source": [
    "compare = pd.concat([labels[['id','label']],pred.pred_label],axis=1)\n",
    "compare=compare[compare.label != 'no_relation']\n",
    "print((klue_re_micro_f1(compare.pred_label,compare.label)))\n"
   ]
  },
  {
   "cell_type": "code",
   "execution_count": 18,
   "metadata": {},
   "outputs": [
    {
     "name": "stdout",
     "output_type": "stream",
     "text": [
      "85.86572438162544\n"
     ]
    }
   ],
   "source": [
    "compare = pd.concat([labels[['id','label']],pred.pred_label],axis=1)\n",
    "compare=compare[compare.pred_label != 'no_relation']\n",
    "print((klue_re_micro_f1(compare.pred_label,compare.label)))\n"
   ]
  },
  {
   "cell_type": "code",
   "execution_count": 19,
   "metadata": {},
   "outputs": [],
   "source": [
    "def whatType(string):\n",
    "    dic = eval(string)\n",
    "    return dic['type']"
   ]
  },
  {
   "cell_type": "code",
   "execution_count": 20,
   "metadata": {},
   "outputs": [],
   "source": [
    "test_data= pd.read_csv('../data/dataset/test/test_data.csv')\n",
    "test_data['object_type'] = test_data['object_entity'].apply(lambda x: whatType(x))\n",
    "test_data['subject_type'] = test_data['subject_entity'].apply(lambda x: whatType(x))"
   ]
  },
  {
   "cell_type": "code",
   "execution_count": 21,
   "metadata": {},
   "outputs": [
    {
     "data": {
      "text/html": [
       "<div>\n",
       "<style scoped>\n",
       "    .dataframe tbody tr th:only-of-type {\n",
       "        vertical-align: middle;\n",
       "    }\n",
       "\n",
       "    .dataframe tbody tr th {\n",
       "        vertical-align: top;\n",
       "    }\n",
       "\n",
       "    .dataframe thead th {\n",
       "        text-align: right;\n",
       "    }\n",
       "</style>\n",
       "<table border=\"1\" class=\"dataframe\">\n",
       "  <thead>\n",
       "    <tr style=\"text-align: right;\">\n",
       "      <th></th>\n",
       "      <th>id</th>\n",
       "      <th>pred_label</th>\n",
       "      <th>probs</th>\n",
       "      <th>object_type</th>\n",
       "      <th>subject_type</th>\n",
       "    </tr>\n",
       "  </thead>\n",
       "  <tbody>\n",
       "    <tr>\n",
       "      <th>0</th>\n",
       "      <td>0</td>\n",
       "      <td>org:alternate_names</td>\n",
       "      <td>[0.02041192166507244, 0.005389280617237091, 0....</td>\n",
       "      <td>ORG</td>\n",
       "      <td>ORG</td>\n",
       "    </tr>\n",
       "    <tr>\n",
       "      <th>1</th>\n",
       "      <td>1</td>\n",
       "      <td>per:alternate_names</td>\n",
       "      <td>[3.6237604945199564e-05, 2.641566788952332e-05...</td>\n",
       "      <td>POH</td>\n",
       "      <td>PER</td>\n",
       "    </tr>\n",
       "    <tr>\n",
       "      <th>2</th>\n",
       "      <td>2</td>\n",
       "      <td>no_relation</td>\n",
       "      <td>[0.998301088809967, 3.030454354302492e-05, 7.6...</td>\n",
       "      <td>DAT</td>\n",
       "      <td>ORG</td>\n",
       "    </tr>\n",
       "    <tr>\n",
       "      <th>3</th>\n",
       "      <td>3</td>\n",
       "      <td>no_relation</td>\n",
       "      <td>[0.7988805174827576, 0.00030542942113243043, 0...</td>\n",
       "      <td>PER</td>\n",
       "      <td>PER</td>\n",
       "    </tr>\n",
       "    <tr>\n",
       "      <th>4</th>\n",
       "      <td>4</td>\n",
       "      <td>no_relation</td>\n",
       "      <td>[0.7109772562980652, 0.23348800837993622, 0.00...</td>\n",
       "      <td>PER</td>\n",
       "      <td>ORG</td>\n",
       "    </tr>\n",
       "  </tbody>\n",
       "</table>\n",
       "</div>"
      ],
      "text/plain": [
       "   id           pred_label                                              probs  \\\n",
       "0   0  org:alternate_names  [0.02041192166507244, 0.005389280617237091, 0....   \n",
       "1   1  per:alternate_names  [3.6237604945199564e-05, 2.641566788952332e-05...   \n",
       "2   2          no_relation  [0.998301088809967, 3.030454354302492e-05, 7.6...   \n",
       "3   3          no_relation  [0.7988805174827576, 0.00030542942113243043, 0...   \n",
       "4   4          no_relation  [0.7109772562980652, 0.23348800837993622, 0.00...   \n",
       "\n",
       "  object_type subject_type  \n",
       "0         ORG          ORG  \n",
       "1         POH          PER  \n",
       "2         DAT          ORG  \n",
       "3         PER          PER  \n",
       "4         PER          ORG  "
      ]
     },
     "execution_count": 21,
     "metadata": {},
     "output_type": "execute_result"
    }
   ],
   "source": [
    "result = pd.read_csv('../code/prediction/train_half_arg.csv')\n",
    "result['object_type']= test_data['object_type']\n",
    "result['subject_type']= test_data['subject_type']\n",
    "# result['pred_label'].value_counts().plot(kind='bar')\n",
    "result.head()"
   ]
  },
  {
   "cell_type": "code",
   "execution_count": 22,
   "metadata": {},
   "outputs": [
    {
     "data": {
      "image/png": "[encoded data removed]",
      "text/plain": [
       "<Figure size 2160x6480 with 32 Axes>"
      ]
     },
     "metadata": {
      "needs_background": "light"
     },
     "output_type": "display_data"
    }
   ],
   "source": [
    "fig, axes = plt.subplots(8, 4, figsize=(30, 90))\n",
    "axes= axes.flatten()\n",
    "\n",
    "for num, label in enumerate(result.pred_label.unique()):\n",
    "    result[result.pred_label == label].groupby(['object_type']).count().id.plot(kind='bar',ax=axes[num])\n",
    "    axes[num].set_xlabel(label)"
   ]
  },
  {
   "cell_type": "code",
   "execution_count": 23,
   "metadata": {},
   "outputs": [
    {
     "data": {
      "text/plain": [
       "'org:alternate_names'"
      ]
     },
     "execution_count": 23,
     "metadata": {},
     "output_type": "execute_result"
    }
   ],
   "source": [
    "result.pred_label.unique()[0]"
   ]
  },
  {
   "cell_type": "code",
   "execution_count": 24,
   "metadata": {},
   "outputs": [
    {
     "data": {
      "image/png": "[encoded data removed]",
      "text/plain": [
       "<Figure size 1080x360 with 2 Axes>"
      ]
     },
     "metadata": {
      "needs_background": "light"
     },
     "output_type": "display_data"
    }
   ],
   "source": [
    "fig, axes = plt.subplots(1,2, figsize=(15,5))\n",
    "axes= axes.flatten()\n",
    "\n",
    "for num, label in enumerate(['no_relation']):\n",
    "    result[result.pred_label == label].groupby(['subject_type']).count().id.plot(kind='bar',ax=axes[num])\n",
    "    axes[num].set_xlabel(label)"
   ]
  },
  {
   "cell_type": "code",
   "execution_count": 25,
   "metadata": {},
   "outputs": [
    {
     "data": {
      "text/html": [
       "<div>\n",
       "<style scoped>\n",
       "    .dataframe tbody tr th:only-of-type {\n",
       "        vertical-align: middle;\n",
       "    }\n",
       "\n",
       "    .dataframe tbody tr th {\n",
       "        vertical-align: top;\n",
       "    }\n",
       "\n",
       "    .dataframe thead th {\n",
       "        text-align: right;\n",
       "    }\n",
       "</style>\n",
       "<table border=\"1\" class=\"dataframe\">\n",
       "  <thead>\n",
       "    <tr style=\"text-align: right;\">\n",
       "      <th></th>\n",
       "      <th>id</th>\n",
       "      <th>sentence</th>\n",
       "      <th>subject_entity</th>\n",
       "      <th>object_entity</th>\n",
       "      <th>label</th>\n",
       "      <th>source</th>\n",
       "      <th>object_type</th>\n",
       "      <th>subject_type</th>\n",
       "    </tr>\n",
       "  </thead>\n",
       "  <tbody>\n",
       "    <tr>\n",
       "      <th>6820</th>\n",
       "      <td>6820</td>\n",
       "      <td>1875년 시카고 빈민가에 교회를 설립했는데, 구두판매원출신다운 쉽고 설득력있는 무...</td>\n",
       "      <td>{'word': '시카고', 'start_idx': 6, 'end_idx': 8, ...</td>\n",
       "      <td>{'word': '1875년', 'start_idx': 0, 'end_idx': 4...</td>\n",
       "      <td>100</td>\n",
       "      <td>wikipedia</td>\n",
       "      <td>DAT</td>\n",
       "      <td>LOC</td>\n",
       "    </tr>\n",
       "  </tbody>\n",
       "</table>\n",
       "</div>"
      ],
      "text/plain": [
       "        id                                           sentence  \\\n",
       "6820  6820  1875년 시카고 빈민가에 교회를 설립했는데, 구두판매원출신다운 쉽고 설득력있는 무...   \n",
       "\n",
       "                                         subject_entity  \\\n",
       "6820  {'word': '시카고', 'start_idx': 6, 'end_idx': 8, ...   \n",
       "\n",
       "                                          object_entity  label     source  \\\n",
       "6820  {'word': '1875년', 'start_idx': 0, 'end_idx': 4...    100  wikipedia   \n",
       "\n",
       "     object_type subject_type  \n",
       "6820         DAT          LOC  "
      ]
     },
     "execution_count": 25,
     "metadata": {},
     "output_type": "execute_result"
    }
   ],
   "source": [
    "test_data[(test_data.subject_type != 'ORG') & (test_data.subject_type != 'PER')]"
   ]
  },
  {
   "cell_type": "code",
   "execution_count": 26,
   "metadata": {},
   "outputs": [
    {
     "data": {
      "text/html": [
       "<div>\n",
       "<style scoped>\n",
       "    .dataframe tbody tr th:only-of-type {\n",
       "        vertical-align: middle;\n",
       "    }\n",
       "\n",
       "    .dataframe tbody tr th {\n",
       "        vertical-align: top;\n",
       "    }\n",
       "\n",
       "    .dataframe thead th {\n",
       "        text-align: right;\n",
       "    }\n",
       "</style>\n",
       "<table border=\"1\" class=\"dataframe\">\n",
       "  <thead>\n",
       "    <tr style=\"text-align: right;\">\n",
       "      <th></th>\n",
       "      <th>id</th>\n",
       "      <th>label</th>\n",
       "      <th>pred_label</th>\n",
       "    </tr>\n",
       "  </thead>\n",
       "  <tbody>\n",
       "  </tbody>\n",
       "</table>\n",
       "</div>"
      ],
      "text/plain": [
       "Empty DataFrame\n",
       "Columns: [id, label, pred_label]\n",
       "Index: []"
      ]
     },
     "execution_count": 26,
     "metadata": {},
     "output_type": "execute_result"
    }
   ],
   "source": [
    "compare[compare['id']==6820]"
   ]
  },
  {
   "cell_type": "code",
   "execution_count": 28,
   "metadata": {},
   "outputs": [],
   "source": [
    "compare_no_rel = compare.copy()\n",
    "compare_no_rel.pred_label = 'no_relation'"
   ]
  },
  {
   "cell_type": "code",
   "execution_count": 29,
   "metadata": {},
   "outputs": [
    {
     "data": {
      "text/html": [
       "<div>\n",
       "<style scoped>\n",
       "    .dataframe tbody tr th:only-of-type {\n",
       "        vertical-align: middle;\n",
       "    }\n",
       "\n",
       "    .dataframe tbody tr th {\n",
       "        vertical-align: top;\n",
       "    }\n",
       "\n",
       "    .dataframe thead th {\n",
       "        text-align: right;\n",
       "    }\n",
       "</style>\n",
       "<table border=\"1\" class=\"dataframe\">\n",
       "  <thead>\n",
       "    <tr style=\"text-align: right;\">\n",
       "      <th></th>\n",
       "      <th>id</th>\n",
       "      <th>label</th>\n",
       "      <th>pred_label</th>\n",
       "    </tr>\n",
       "  </thead>\n",
       "  <tbody>\n",
       "    <tr>\n",
       "      <th>0</th>\n",
       "      <td>25543</td>\n",
       "      <td>org:top_members/employees</td>\n",
       "      <td>no_relation</td>\n",
       "    </tr>\n",
       "    <tr>\n",
       "      <th>1</th>\n",
       "      <td>14789</td>\n",
       "      <td>per:product</td>\n",
       "      <td>no_relation</td>\n",
       "    </tr>\n",
       "    <tr>\n",
       "      <th>2</th>\n",
       "      <td>7185</td>\n",
       "      <td>per:spouse</td>\n",
       "      <td>no_relation</td>\n",
       "    </tr>\n",
       "    <tr>\n",
       "      <th>3</th>\n",
       "      <td>12313</td>\n",
       "      <td>per:siblings</td>\n",
       "      <td>no_relation</td>\n",
       "    </tr>\n",
       "    <tr>\n",
       "      <th>4</th>\n",
       "      <td>31372</td>\n",
       "      <td>per:origin</td>\n",
       "      <td>no_relation</td>\n",
       "    </tr>\n",
       "    <tr>\n",
       "      <th>...</th>\n",
       "      <td>...</td>\n",
       "      <td>...</td>\n",
       "      <td>...</td>\n",
       "    </tr>\n",
       "    <tr>\n",
       "      <th>595</th>\n",
       "      <td>8230</td>\n",
       "      <td>per:place_of_birth</td>\n",
       "      <td>no_relation</td>\n",
       "    </tr>\n",
       "    <tr>\n",
       "      <th>596</th>\n",
       "      <td>22170</td>\n",
       "      <td>org:member_of</td>\n",
       "      <td>no_relation</td>\n",
       "    </tr>\n",
       "    <tr>\n",
       "      <th>597</th>\n",
       "      <td>22857</td>\n",
       "      <td>org:founded</td>\n",
       "      <td>no_relation</td>\n",
       "    </tr>\n",
       "    <tr>\n",
       "      <th>598</th>\n",
       "      <td>13106</td>\n",
       "      <td>per:spouse</td>\n",
       "      <td>no_relation</td>\n",
       "    </tr>\n",
       "    <tr>\n",
       "      <th>599</th>\n",
       "      <td>13669</td>\n",
       "      <td>org:member_of</td>\n",
       "      <td>no_relation</td>\n",
       "    </tr>\n",
       "  </tbody>\n",
       "</table>\n",
       "<p>566 rows × 3 columns</p>\n",
       "</div>"
      ],
      "text/plain": [
       "        id                      label   pred_label\n",
       "0    25543  org:top_members/employees  no_relation\n",
       "1    14789                per:product  no_relation\n",
       "2     7185                 per:spouse  no_relation\n",
       "3    12313               per:siblings  no_relation\n",
       "4    31372                 per:origin  no_relation\n",
       "..     ...                        ...          ...\n",
       "595   8230         per:place_of_birth  no_relation\n",
       "596  22170              org:member_of  no_relation\n",
       "597  22857                org:founded  no_relation\n",
       "598  13106                 per:spouse  no_relation\n",
       "599  13669              org:member_of  no_relation\n",
       "\n",
       "[566 rows x 3 columns]"
      ]
     },
     "execution_count": 29,
     "metadata": {},
     "output_type": "execute_result"
    }
   ],
   "source": [
    "compare_no_rel"
   ]
  },
  {
   "cell_type": "code",
   "execution_count": 31,
   "metadata": {},
   "outputs": [
    {
     "name": "stdout",
     "output_type": "stream",
     "text": [
      "0.0\n"
     ]
    }
   ],
   "source": [
    "print((klue_re_micro_f1(compare_no_rel.pred_label,compare_no_rel.label)))"
   ]
  },
  {
   "cell_type": "code",
   "execution_count": 55,
   "metadata": {},
   "outputs": [
    {
     "name": "stdout",
     "output_type": "stream",
     "text": [
      "PER 85.45994065281899\n",
      "POH 90.05847953216374\n",
      "ORG 83.76068376068375\n",
      "NOH 90.0\n",
      "DAT 90.12345679012346\n",
      "LOC 75.24752475247524\n"
     ]
    }
   ],
   "source": [
    "for i in compare.object_type.unique():\n",
    "    print(i, klue_re_micro_f1(compare[compare.object_type==i].pred_label,compare[compare.object_type==i].label))"
   ]
  },
  {
   "cell_type": "code",
   "execution_count": 56,
   "metadata": {},
   "outputs": [
    {
     "name": "stdout",
     "output_type": "stream",
     "text": [
      "ORG 87.98185941043084\n",
      "PER 82.83687943262412\n"
     ]
    }
   ],
   "source": [
    "for i in compare.subject_type.unique():\n",
    "    print(i, klue_re_micro_f1(compare[compare.subject_type==i].pred_label,compare[compare.subject_type==i].label))"
   ]
  },
  {
   "cell_type": "code",
   "execution_count": 60,
   "metadata": {},
   "outputs": [
    {
     "name": "stdout",
     "output_type": "stream",
     "text": [
      "0 86.29737609329446\n",
      "1 82.6086956521739\n"
     ]
    }
   ],
   "source": [
    "for i in compare.fast.unique():\n",
    "    print(i, klue_re_micro_f1(compare[compare.fast==i].pred_label,compare[compare.fast==i].label))"
   ]
  },
  {
   "cell_type": "code",
   "execution_count": 68,
   "metadata": {},
   "outputs": [
    {
     "data": {
      "text/html": [
       "<div>\n",
       "<style scoped>\n",
       "    .dataframe tbody tr th:only-of-type {\n",
       "        vertical-align: middle;\n",
       "    }\n",
       "\n",
       "    .dataframe tbody tr th {\n",
       "        vertical-align: top;\n",
       "    }\n",
       "\n",
       "    .dataframe thead th {\n",
       "        text-align: right;\n",
       "    }\n",
       "</style>\n",
       "<table border=\"1\" class=\"dataframe\">\n",
       "  <thead>\n",
       "    <tr style=\"text-align: right;\">\n",
       "      <th></th>\n",
       "      <th>id</th>\n",
       "      <th>sentence</th>\n",
       "      <th>subject_entity</th>\n",
       "      <th>object_entity</th>\n",
       "      <th>label</th>\n",
       "      <th>source</th>\n",
       "      <th>object_type</th>\n",
       "      <th>subject_type</th>\n",
       "      <th>fast</th>\n",
       "    </tr>\n",
       "  </thead>\n",
       "  <tbody>\n",
       "    <tr>\n",
       "      <th>0</th>\n",
       "      <td>0</td>\n",
       "      <td>〈Something〉는 조지 해리슨이 쓰고 비틀즈가 1969년 앨범 《Abbey R...</td>\n",
       "      <td>{'word': '비틀즈', 'start_idx': 24, 'end_idx': 26...</td>\n",
       "      <td>{'word': '조지 해리슨', 'start_idx': 13, 'end_idx':...</td>\n",
       "      <td>no_relation</td>\n",
       "      <td>wikipedia</td>\n",
       "      <td>PER</td>\n",
       "      <td>ORG</td>\n",
       "      <td>1</td>\n",
       "    </tr>\n",
       "    <tr>\n",
       "      <th>1</th>\n",
       "      <td>1</td>\n",
       "      <td>호남이 기반인 바른미래당·대안신당·민주평화당이 우여곡절 끝에 합당해 민생당(가칭)으...</td>\n",
       "      <td>{'word': '민주평화당', 'start_idx': 19, 'end_idx': ...</td>\n",
       "      <td>{'word': '대안신당', 'start_idx': 14, 'end_idx': 1...</td>\n",
       "      <td>no_relation</td>\n",
       "      <td>wikitree</td>\n",
       "      <td>ORG</td>\n",
       "      <td>ORG</td>\n",
       "      <td>1</td>\n",
       "    </tr>\n",
       "    <tr>\n",
       "      <th>2</th>\n",
       "      <td>2</td>\n",
       "      <td>K리그2에서 성적 1위를 달리고 있는 광주FC는 지난 26일 한국프로축구연맹으로부터...</td>\n",
       "      <td>{'word': '광주FC', 'start_idx': 21, 'end_idx': 2...</td>\n",
       "      <td>{'word': '한국프로축구연맹', 'start_idx': 34, 'end_idx...</td>\n",
       "      <td>org:member_of</td>\n",
       "      <td>wikitree</td>\n",
       "      <td>ORG</td>\n",
       "      <td>ORG</td>\n",
       "      <td>0</td>\n",
       "    </tr>\n",
       "    <tr>\n",
       "      <th>3</th>\n",
       "      <td>3</td>\n",
       "      <td>균일가 생활용품점 (주)아성다이소(대표 박정부)는 코로나19 바이러스로 어려움을 겪...</td>\n",
       "      <td>{'word': '아성다이소', 'start_idx': 13, 'end_idx': ...</td>\n",
       "      <td>{'word': '박정부', 'start_idx': 22, 'end_idx': 24...</td>\n",
       "      <td>org:top_members/employees</td>\n",
       "      <td>wikitree</td>\n",
       "      <td>PER</td>\n",
       "      <td>ORG</td>\n",
       "      <td>0</td>\n",
       "    </tr>\n",
       "    <tr>\n",
       "      <th>4</th>\n",
       "      <td>4</td>\n",
       "      <td>1967년 프로 야구 드래프트 1순위로 요미우리 자이언츠에게 입단하면서 등번호는 8...</td>\n",
       "      <td>{'word': '요미우리 자이언츠', 'start_idx': 22, 'end_id...</td>\n",
       "      <td>{'word': '1967', 'start_idx': 0, 'end_idx': 3,...</td>\n",
       "      <td>no_relation</td>\n",
       "      <td>wikipedia</td>\n",
       "      <td>DAT</td>\n",
       "      <td>ORG</td>\n",
       "      <td>1</td>\n",
       "    </tr>\n",
       "  </tbody>\n",
       "</table>\n",
       "</div>"
      ],
      "text/plain": [
       "   id                                           sentence  \\\n",
       "0   0  〈Something〉는 조지 해리슨이 쓰고 비틀즈가 1969년 앨범 《Abbey R...   \n",
       "1   1  호남이 기반인 바른미래당·대안신당·민주평화당이 우여곡절 끝에 합당해 민생당(가칭)으...   \n",
       "2   2  K리그2에서 성적 1위를 달리고 있는 광주FC는 지난 26일 한국프로축구연맹으로부터...   \n",
       "3   3  균일가 생활용품점 (주)아성다이소(대표 박정부)는 코로나19 바이러스로 어려움을 겪...   \n",
       "4   4  1967년 프로 야구 드래프트 1순위로 요미우리 자이언츠에게 입단하면서 등번호는 8...   \n",
       "\n",
       "                                      subject_entity  \\\n",
       "0  {'word': '비틀즈', 'start_idx': 24, 'end_idx': 26...   \n",
       "1  {'word': '민주평화당', 'start_idx': 19, 'end_idx': ...   \n",
       "2  {'word': '광주FC', 'start_idx': 21, 'end_idx': 2...   \n",
       "3  {'word': '아성다이소', 'start_idx': 13, 'end_idx': ...   \n",
       "4  {'word': '요미우리 자이언츠', 'start_idx': 22, 'end_id...   \n",
       "\n",
       "                                       object_entity  \\\n",
       "0  {'word': '조지 해리슨', 'start_idx': 13, 'end_idx':...   \n",
       "1  {'word': '대안신당', 'start_idx': 14, 'end_idx': 1...   \n",
       "2  {'word': '한국프로축구연맹', 'start_idx': 34, 'end_idx...   \n",
       "3  {'word': '박정부', 'start_idx': 22, 'end_idx': 24...   \n",
       "4  {'word': '1967', 'start_idx': 0, 'end_idx': 3,...   \n",
       "\n",
       "                       label     source object_type subject_type  fast  \n",
       "0                no_relation  wikipedia         PER          ORG     1  \n",
       "1                no_relation   wikitree         ORG          ORG     1  \n",
       "2              org:member_of   wikitree         ORG          ORG     0  \n",
       "3  org:top_members/employees   wikitree         PER          ORG     0  \n",
       "4                no_relation  wikipedia         DAT          ORG     1  "
      ]
     },
     "execution_count": 68,
     "metadata": {},
     "output_type": "execute_result"
    }
   ],
   "source": [
    "train_data = pd.read_csv('../data/dataset/train/train.csv')\n",
    "train_data2 = train_data.copy()\n",
    "train_data2['object_type'] = train_data2.object_entity.apply(lambda x: whatType(x))\n",
    "train_data2['subject_type'] = train_data2.subject_entity.apply(lambda x: whatType(x))\n",
    "train_data2['fast']= train_data2.id.apply(lambda x: when_start(train_data2['object_entity'].loc[x],train_data2['subject_entity'].loc[x]))\n",
    "\n",
    "train_data2.head()"
   ]
  },
  {
   "cell_type": "code",
   "execution_count": 65,
   "metadata": {},
   "outputs": [
    {
     "name": "stdout",
     "output_type": "stream",
     "text": [
      "0 - ORG - PER 23 100.0\n",
      "0 - ORG - POH 26 91.30434782608695\n",
      "0 - ORG - ORG 37 83.33333333333334\n",
      "0 - ORG - NOH 17 96.96969696969697\n",
      "0 - ORG - DAT 13 85.71428571428572\n",
      "0 - ORG - LOC 14 92.3076923076923\n",
      "0 - PER - PER 69 81.203007518797\n",
      "0 - PER - POH 27 93.87755102040816\n",
      "0 - PER - ORG 35 88.57142857142857\n",
      "0 - PER - NOH 1 0.0\n",
      "0 - PER - DAT 34 100.0\n",
      "0 - PER - LOC 61 71.66666666666666\n",
      "1 - ORG - PER 17 94.11764705882352\n",
      "1 - ORG - POH 20 91.8918918918919\n",
      "1 - ORG - ORG 19 83.33333333333333\n",
      "1 - ORG - NOH 4 80.0\n",
      "1 - ORG - DAT 33 78.68852459016394\n",
      "1 - ORG - LOC 13 75.0\n",
      "1 - PER - PER 65 82.25806451612904\n",
      "1 - PER - POH 20 82.05128205128204\n",
      "1 - PER - ORG 28 78.57142857142857\n",
      "1 - PER - NOH 0 0.0\n",
      "1 - PER - DAT 7 100.0\n",
      "1 - PER - LOC 17 75.00000000000001\n"
     ]
    },
    {
     "name": "stderr",
     "output_type": "stream",
     "text": [
      "/opt/conda/lib/python3.8/site-packages/sklearn/metrics/_classification.py:1495: UndefinedMetricWarning: F-score is ill-defined and being set to 0.0 due to no true nor predicted samples. Use `zero_division` parameter to control this behavior.\n",
      "  _warn_prf(\n"
     ]
    }
   ],
   "source": [
    "for i in compare.fast.unique():\n",
    "    for j in compare.subject_type.unique():\n",
    "        for k in compare.object_type.unique():\n",
    "            x= compare[(compare.fast==i) & (compare.subject_type==j) & (compare.object_type==k)]\n",
    "            print(f'{i} - {j} - {k}',x.shape[0], klue_re_micro_f1(x.pred_label, x.label))"
   ]
  },
  {
   "cell_type": "code",
   "execution_count": 93,
   "metadata": {},
   "outputs": [
    {
     "name": "stdout",
     "output_type": "stream",
     "text": [
      "ORG - PER 40 97.5\n",
      "ORG - POH 46 91.56626506024097\n",
      "ORG - ORG 56 83.33333333333334\n",
      "ORG - NOH 21 94.73684210526316\n",
      "ORG - DAT 46 80.48780487804876\n",
      "ORG - LOC 27 83.99999999999999\n",
      "PER - PER 134 81.71206225680933\n",
      "PER - POH 47 88.63636363636364\n",
      "PER - ORG 63 84.12698412698413\n",
      "PER - NOH 1 0.0\n",
      "PER - DAT 41 100.0\n",
      "PER - LOC 78 72.36842105263159\n"
     ]
    }
   ],
   "source": [
    "# for i in compare.fast.unique():\n",
    "for j in compare.subject_type.unique():\n",
    "    for k in compare.object_type.unique():\n",
    "        x= compare[(compare.object_type==k) & (compare.subject_type==j)]\n",
    "        print(f'{j} - {k}',x.shape[0], klue_re_micro_f1(x.pred_label, x.label))"
   ]
  },
  {
   "cell_type": "code",
   "execution_count": 103,
   "metadata": {},
   "outputs": [
    {
     "name": "stdout",
     "output_type": "stream",
     "text": [
      "PER - NOH 1 0.0\n"
     ]
    }
   ],
   "source": [
    "# for i in compare.fast.unique():\n",
    "for j in compare.subject_type.unique():\n",
    "    for k in compare.object_type.unique():\n",
    "        x= compare[(compare.object_type==k) & (compare.subject_type==j)]\n",
    "        score = klue_re_micro_f1(x.pred_label, x.label)\n",
    "        if score <50:\n",
    "            print(f'{j} - {k}',x.shape[0], score)"
   ]
  },
  {
   "cell_type": "code",
   "execution_count": 107,
   "metadata": {},
   "outputs": [
    {
     "name": "stdout",
     "output_type": "stream",
     "text": [
      "0 - PER - NOH 1 0.0\n",
      "1 - PER - NOH 0 0.0\n"
     ]
    },
    {
     "name": "stderr",
     "output_type": "stream",
     "text": [
      "/opt/conda/lib/python3.8/site-packages/sklearn/metrics/_classification.py:1495: UndefinedMetricWarning: F-score is ill-defined and being set to 0.0 due to no true nor predicted samples. Use `zero_division` parameter to control this behavior.\n",
      "  _warn_prf(\n"
     ]
    }
   ],
   "source": [
    "for i in compare.fast.unique():\n",
    "    for j in compare.subject_type.unique():\n",
    "        for k in compare.object_type.unique():\n",
    "            x= compare[(compare.fast==i) & (compare.subject_type==j) & (compare.object_type==k)]\n",
    "\n",
    "            score = klue_re_micro_f1(x.pred_label, x.label)\n",
    "            if score <50:\n",
    "                print(f'{i} - {j} - {k}',x.shape[0], score)"
   ]
  },
  {
   "cell_type": "code",
   "execution_count": 106,
   "metadata": {},
   "outputs": [
    {
     "name": "stdout",
     "output_type": "stream",
     "text": [
      "0 - ORG - PER 3043\n",
      "0 - ORG - POH 921\n",
      "0 - ORG - ORG 2542\n",
      "0 - ORG - NOH 202\n",
      "0 - ORG - DAT 651\n",
      "0 - ORG - LOC 868\n",
      "0 - PER - PER 2685\n",
      "0 - PER - POH 1800\n",
      "0 - PER - ORG 2135\n",
      "0 - PER - NOH 95\n",
      "0 - PER - DAT 1694\n",
      "0 - PER - LOC 1085\n",
      "1 - ORG - PER 1736\n",
      "1 - ORG - POH 738\n",
      "1 - ORG - ORG 2558\n",
      "1 - ORG - NOH 58\n",
      "1 - ORG - DAT 1459\n",
      "1 - ORG - LOC 908\n",
      "1 - PER - PER 2324\n",
      "1 - PER - POH 1654\n",
      "1 - PER - ORG 2111\n",
      "1 - PER - NOH 58\n",
      "1 - PER - DAT 445\n",
      "1 - PER - LOC 700\n"
     ]
    }
   ],
   "source": [
    "for i in compare.fast.unique():\n",
    "    for j in compare.subject_type.unique():\n",
    "        for k in compare.object_type.unique():\n",
    "            x= train_data2[(train_data2.fast==i) & (train_data2.subject_type==j) & (train_data2.object_type==k)]\n",
    "            print(f'{i} - {j} - {k}',x.shape[0])"
   ]
  },
  {
   "cell_type": "code",
   "execution_count": null,
   "metadata": {},
   "outputs": [],
   "source": []
  },
  {
   "cell_type": "code",
   "execution_count": 102,
   "metadata": {},
   "outputs": [
    {
     "name": "stdout",
     "output_type": "stream",
     "text": [
      "(240, 9) (32230, 6)\n"
     ]
    }
   ],
   "source": [
    "dev = train_data2.groupby(['object_type','subject_type']).sample(n=20, random_state=777)\n",
    "# dev = train_data2.iloc[dev_index]\n",
    "train = train_data.drop(dev.index)\n",
    "train= train.sample(frac=1, random_state=777)\n",
    "print(dev.shape,train.shape)\n",
    "dev.to_csv('../data/dataset/train/dev_type.csv')\n",
    "train.to_csv('../data/dataset/train/train_type.csv')"
   ]
  },
  {
   "cell_type": "code",
   "execution_count": 82,
   "metadata": {},
   "outputs": [
    {
     "name": "stdout",
     "output_type": "stream",
     "text": [
      "0 - ORG - DAT 195\n",
      "0 - ORG - LOC 261\n",
      "0 - ORG - NOH 60\n",
      "0 - ORG - ORG 763\n",
      "0 - ORG - PER 913\n",
      "0 - ORG - POH 276\n",
      "0 - PER - DAT 507\n",
      "0 - PER - LOC 327\n",
      "0 - PER - NOH 30\n",
      "0 - PER - ORG 641\n",
      "0 - PER - PER 806\n",
      "0 - PER - POH 540\n",
      "1 - ORG - DAT 437\n",
      "1 - ORG - LOC 272\n",
      "1 - ORG - NOH 18\n",
      "1 - ORG - ORG 768\n",
      "1 - ORG - PER 520\n",
      "1 - ORG - POH 222\n",
      "1 - PER - DAT 133\n",
      "1 - PER - LOC 211\n",
      "1 - PER - NOH 18\n",
      "1 - PER - ORG 634\n",
      "1 - PER - PER 697\n",
      "1 - PER - POH 496\n"
     ]
    }
   ],
   "source": [
    "for i in dev.fast.unique():\n",
    "    for j in dev.subject_type.unique():\n",
    "        for k in dev.object_type.unique():\n",
    "            x= dev[(dev.fast==i) & (dev.subject_type==j) & (dev.object_type==k)]\n",
    "            print(f'{i} - {j} - {k}',x.shape[0])\n",
    "            "
   ]
  },
  {
   "cell_type": "code",
   "execution_count": 91,
   "metadata": {},
   "outputs": [
    {
     "data": {
      "text/plain": [
       "1"
      ]
     },
     "execution_count": 91,
     "metadata": {},
     "output_type": "execute_result"
    }
   ],
   "source": [
    "train_data2.groupby(['label','object_type','subject_type','fast']).count().id.min()"
   ]
  },
  {
   "cell_type": "code",
   "execution_count": 116,
   "metadata": {},
   "outputs": [
    {
     "data": {
      "text/html": [
       "<div>\n",
       "<style scoped>\n",
       "    .dataframe tbody tr th:only-of-type {\n",
       "        vertical-align: middle;\n",
       "    }\n",
       "\n",
       "    .dataframe tbody tr th {\n",
       "        vertical-align: top;\n",
       "    }\n",
       "\n",
       "    .dataframe thead th {\n",
       "        text-align: right;\n",
       "    }\n",
       "</style>\n",
       "<table border=\"1\" class=\"dataframe\">\n",
       "  <thead>\n",
       "    <tr style=\"text-align: right;\">\n",
       "      <th></th>\n",
       "      <th>Unnamed: 0</th>\n",
       "      <th>id</th>\n",
       "      <th>sentence</th>\n",
       "      <th>subject_entity</th>\n",
       "      <th>object_entity</th>\n",
       "      <th>label</th>\n",
       "      <th>source</th>\n",
       "      <th>object_type</th>\n",
       "      <th>subject_type</th>\n",
       "      <th>fast</th>\n",
       "    </tr>\n",
       "  </thead>\n",
       "  <tbody>\n",
       "    <tr>\n",
       "      <th>0</th>\n",
       "      <td>2769</td>\n",
       "      <td>0</td>\n",
       "      <td>1997년 그와 함께 뉴욕 메츠에 입단했으나 부상으로 1999년에 방출된 이후 여러...</td>\n",
       "      <td>{'word': '뉴욕 메츠', 'start_idx': 12, 'end_idx': ...</td>\n",
       "      <td>{'word': '1999년', 'start_idx': 30, 'end_idx': ...</td>\n",
       "      <td>no_relation</td>\n",
       "      <td>wikipedia</td>\n",
       "      <td>DAT</td>\n",
       "      <td>ORG</td>\n",
       "      <td>0</td>\n",
       "    </tr>\n",
       "    <tr>\n",
       "      <th>1</th>\n",
       "      <td>25687</td>\n",
       "      <td>1</td>\n",
       "      <td>삼성 라이온즈에서만 현역 생활을 하다가 은퇴한 박승호는 1993년부터 1999년까지...</td>\n",
       "      <td>{'word': '삼성 라이온즈', 'start_idx': 0, 'end_idx':...</td>\n",
       "      <td>{'word': '1999년', 'start_idx': 39, 'end_idx': ...</td>\n",
       "      <td>no_relation</td>\n",
       "      <td>wikipedia</td>\n",
       "      <td>DAT</td>\n",
       "      <td>ORG</td>\n",
       "      <td>0</td>\n",
       "    </tr>\n",
       "    <tr>\n",
       "      <th>2</th>\n",
       "      <td>11797</td>\n",
       "      <td>2</td>\n",
       "      <td>서울과학기술대학교는 1909년 대한제국 순종황제의 실업학교령(칙령 제56호)이 반포...</td>\n",
       "      <td>{'word': '서울과학기술대학교', 'start_idx': 0, 'end_idx...</td>\n",
       "      <td>{'word': '1910년 4월 15일', 'start_idx': 49, 'end...</td>\n",
       "      <td>org:founded</td>\n",
       "      <td>wikipedia</td>\n",
       "      <td>DAT</td>\n",
       "      <td>ORG</td>\n",
       "      <td>0</td>\n",
       "    </tr>\n",
       "    <tr>\n",
       "      <th>3</th>\n",
       "      <td>4985</td>\n",
       "      <td>3</td>\n",
       "      <td>1815년 후에 네덜란드가 오라녜나사우가 아래 왕정이 될 때 어떤 위그노 가족들은 ...</td>\n",
       "      <td>{'word': '네덜란드', 'start_idx': 9, 'end_idx': 12...</td>\n",
       "      <td>{'word': '1815년', 'start_idx': 0, 'end_idx': 4...</td>\n",
       "      <td>no_relation</td>\n",
       "      <td>wikipedia</td>\n",
       "      <td>DAT</td>\n",
       "      <td>ORG</td>\n",
       "      <td>1</td>\n",
       "    </tr>\n",
       "    <tr>\n",
       "      <th>4</th>\n",
       "      <td>8748</td>\n",
       "      <td>4</td>\n",
       "      <td>동국대 체육교육학과 졸업 후 드래프트에서 지명을 받지 못했고, 동국대 체육교육학과 ...</td>\n",
       "      <td>{'word': '삼성 라이온즈', 'start_idx': 63, 'end_idx'...</td>\n",
       "      <td>{'word': '2006년', 'start_idx': 88, 'end_idx': ...</td>\n",
       "      <td>no_relation</td>\n",
       "      <td>wikipedia</td>\n",
       "      <td>DAT</td>\n",
       "      <td>ORG</td>\n",
       "      <td>0</td>\n",
       "    </tr>\n",
       "  </tbody>\n",
       "</table>\n",
       "</div>"
      ],
      "text/plain": [
       "   Unnamed: 0  id                                           sentence  \\\n",
       "0        2769   0  1997년 그와 함께 뉴욕 메츠에 입단했으나 부상으로 1999년에 방출된 이후 여러...   \n",
       "1       25687   1  삼성 라이온즈에서만 현역 생활을 하다가 은퇴한 박승호는 1993년부터 1999년까지...   \n",
       "2       11797   2  서울과학기술대학교는 1909년 대한제국 순종황제의 실업학교령(칙령 제56호)이 반포...   \n",
       "3        4985   3  1815년 후에 네덜란드가 오라녜나사우가 아래 왕정이 될 때 어떤 위그노 가족들은 ...   \n",
       "4        8748   4  동국대 체육교육학과 졸업 후 드래프트에서 지명을 받지 못했고, 동국대 체육교육학과 ...   \n",
       "\n",
       "                                      subject_entity  \\\n",
       "0  {'word': '뉴욕 메츠', 'start_idx': 12, 'end_idx': ...   \n",
       "1  {'word': '삼성 라이온즈', 'start_idx': 0, 'end_idx':...   \n",
       "2  {'word': '서울과학기술대학교', 'start_idx': 0, 'end_idx...   \n",
       "3  {'word': '네덜란드', 'start_idx': 9, 'end_idx': 12...   \n",
       "4  {'word': '삼성 라이온즈', 'start_idx': 63, 'end_idx'...   \n",
       "\n",
       "                                       object_entity        label     source  \\\n",
       "0  {'word': '1999년', 'start_idx': 30, 'end_idx': ...  no_relation  wikipedia   \n",
       "1  {'word': '1999년', 'start_idx': 39, 'end_idx': ...  no_relation  wikipedia   \n",
       "2  {'word': '1910년 4월 15일', 'start_idx': 49, 'end...  org:founded  wikipedia   \n",
       "3  {'word': '1815년', 'start_idx': 0, 'end_idx': 4...  no_relation  wikipedia   \n",
       "4  {'word': '2006년', 'start_idx': 88, 'end_idx': ...  no_relation  wikipedia   \n",
       "\n",
       "  object_type subject_type  fast  \n",
       "0         DAT          ORG     0  \n",
       "1         DAT          ORG     0  \n",
       "2         DAT          ORG     0  \n",
       "3         DAT          ORG     1  \n",
       "4         DAT          ORG     0  "
      ]
     },
     "execution_count": 116,
     "metadata": {},
     "output_type": "execute_result"
    }
   ],
   "source": [
    "pred2 = pd.read_csv('../code/prediction/dev_train_changeword_type.csv')\n",
    "labels2 = pd.read_csv('../data/dataset/train/dev_type.csv')\n",
    "# labels2.head()\n",
    "labels2.id=labels2.index\n",
    "labels2['object_type'] = labels2.object_entity.apply(lambda x: whatType(x))\n",
    "labels2['subject_type'] = labels2.subject_entity.apply(lambda x: whatType(x))\n",
    "labels2['fast']= labels2.id.apply(lambda x: when_start(labels2['object_entity'].loc[x],labels2['subject_entity'].loc[x]))\n",
    "labels2.head()\n",
    "compare2 = pd.concat([labels2[['id','label','subject_type','object_type','fast']],pred2.pred_label],axis=1)\n"
   ]
  },
  {
   "cell_type": "code",
   "execution_count": 120,
   "metadata": {},
   "outputs": [],
   "source": []
  },
  {
   "cell_type": "code",
   "execution_count": 122,
   "metadata": {},
   "outputs": [
    {
     "name": "stdout",
     "output_type": "stream",
     "text": [
      "0 - ORG - DAT 8 100.0\n",
      "0 - ORG - LOC 9 50.0\n",
      "0 - ORG - NOH 14 0.0\n",
      "0 - ORG - ORG 13 80.0\n",
      "0 - ORG - PER 10 94.73684210526316\n",
      "0 - ORG - POH 10 71.42857142857143\n",
      "0 - PER - DAT 17 26.66666666666667\n",
      "0 - PER - LOC 10 61.53846153846154\n",
      "0 - PER - NOH 14 0.0\n",
      "0 - PER - ORG 15 70.0\n",
      "0 - PER - PER 10 75.0\n",
      "0 - PER - POH 10 66.66666666666666\n",
      "1 - ORG - DAT 12 0.0\n",
      "1 - ORG - LOC 11 42.857142857142854\n",
      "1 - ORG - NOH 6 0.0\n",
      "1 - ORG - ORG 7 40.0\n",
      "1 - ORG - PER 10 71.42857142857143\n",
      "1 - ORG - POH 10 54.54545454545454\n",
      "1 - PER - DAT 3 0.0\n",
      "1 - PER - LOC 10 30.769230769230766\n",
      "1 - PER - NOH 6 66.66666666666666\n",
      "1 - PER - ORG 5 57.14285714285715\n",
      "1 - PER - PER 10 57.14285714285715\n",
      "1 - PER - POH 10 57.14285714285715\n"
     ]
    }
   ],
   "source": [
    "for i in compare2.fast.unique():\n",
    "    for j in compare2.subject_type.unique():\n",
    "        for k in compare2.object_type.unique():\n",
    "            x= compare2[(compare2.fast==i) & (compare2.subject_type==j) & (compare2.object_type==k)]\n",
    "            print(f'{i} - {j} - {k}',x.shape[0], klue_re_micro_f1(x.pred_label, x.label))"
   ]
  },
  {
   "cell_type": "code",
   "execution_count": 126,
   "metadata": {},
   "outputs": [
    {
     "name": "stdout",
     "output_type": "stream",
     "text": [
      "0 - ORG - LOC 9 50.0\n",
      "0 - ORG - NOH 14 0.0\n",
      "0 - PER - DAT 17 26.66666666666667\n",
      "0 - PER - LOC 10 61.53846153846154\n",
      "0 - PER - NOH 14 0.0\n",
      "0 - PER - POH 10 66.66666666666666\n",
      "1 - ORG - DAT 12 0.0\n",
      "1 - ORG - LOC 11 42.857142857142854\n",
      "1 - ORG - NOH 6 0.0\n",
      "1 - ORG - ORG 7 40.0\n",
      "1 - ORG - POH 10 54.54545454545454\n",
      "1 - PER - DAT 3 0.0\n",
      "1 - PER - LOC 10 30.769230769230766\n",
      "1 - PER - NOH 6 66.66666666666666\n",
      "1 - PER - ORG 5 57.14285714285715\n",
      "1 - PER - PER 10 57.14285714285715\n",
      "1 - PER - POH 10 57.14285714285715\n"
     ]
    }
   ],
   "source": [
    "for i in compare2.fast.unique():\n",
    "    for j in compare2.subject_type.unique():\n",
    "        for k in compare2.object_type.unique():\n",
    "            x= compare2[(compare2.fast==i) & (compare2.subject_type==j) & (compare2.object_type==k)]\n",
    "\n",
    "            score = klue_re_micro_f1(x.pred_label, x.label)\n",
    "            if score <70:\n",
    "                print(f'{i} - {j} - {k}',x.shape[0], score)"
   ]
  },
  {
   "cell_type": "code",
   "execution_count": 129,
   "metadata": {},
   "outputs": [
    {
     "name": "stdout",
     "output_type": "stream",
     "text": [
      "0 - ORG - DAT 8 100.0 ['no_relation' 'org:founded']\n",
      "0 - ORG - ORG 13 80.0 ['no_relation' 'org:alternate_names' 'org:members' 'org:member_of'\n",
      " 'org:product']\n",
      "0 - ORG - PER 10 94.73684210526316 ['org:top_members/employees']\n",
      "0 - ORG - POH 10 71.42857142857143 ['no_relation' 'org:product' 'org:member_of' 'org:top_members/employees']\n",
      "0 - PER - PER 10 75.0 ['per:spouse' 'per:parents' 'per:alternate_names' 'no_relation'\n",
      " 'per:employee_of' 'per:other_family' 'per:children']\n",
      "1 - ORG - PER 10 71.42857142857143 ['no_relation' 'org:top_members/employees' 'org:founded_by']\n"
     ]
    }
   ],
   "source": [
    "for i in compare2.fast.unique():\n",
    "    for j in compare2.subject_type.unique():\n",
    "        for k in compare2.object_type.unique():\n",
    "            x= compare2[(compare2.fast==i) & (compare2.subject_type==j) & (compare2.object_type==k)]\n",
    "\n",
    "            score = klue_re_micro_f1(x.pred_label, x.label)\n",
    "            if score >70:\n",
    "                print(f'{i} - {j} - {k}',x.shape[0], score,x.label.unique())"
   ]
  },
  {
   "cell_type": "code",
   "execution_count": 130,
   "metadata": {},
   "outputs": [],
   "source": [
    "pred3 = pd.read_csv('../code/prediction/dev_train_type.csv')\n",
    "labels3 = pd.read_csv('../data/dataset/train/dev_type.csv')\n",
    "# labels2.head()\n",
    "labels3.id=labels2.index\n",
    "labels3['object_type'] = labels3.object_entity.apply(lambda x: whatType(x))\n",
    "labels3['subject_type'] = labels3.subject_entity.apply(lambda x: whatType(x))\n",
    "labels3['fast']= labels3.id.apply(lambda x: when_start(labels3['object_entity'].loc[x],labels3['subject_entity'].loc[x]))\n",
    "labels3.head()\n",
    "compare3 = pd.concat([labels3[['id','label','subject_type','object_type','fast']],pred3.pred_label],axis=1)\n"
   ]
  },
  {
   "cell_type": "code",
   "execution_count": 133,
   "metadata": {},
   "outputs": [
    {
     "data": {
      "text/plain": [
       "77.81569965870307"
      ]
     },
     "execution_count": 133,
     "metadata": {},
     "output_type": "execute_result"
    }
   ],
   "source": [
    "klue_re_micro_f1(compare3.pred_label, compare3.label)"
   ]
  },
  {
   "cell_type": "code",
   "execution_count": 136,
   "metadata": {},
   "outputs": [
    {
     "name": "stdout",
     "output_type": "stream",
     "text": [
      "0 - ORG - DAT  size : 8    66.66666666666666\n",
      "0 - ORG - LOC  size : 9    66.66666666666666\n",
      "0 - ORG - NOH  size : 14    50.0\n",
      "0 - PER - NOH  size : 14    50.0\n",
      "1 - ORG - DAT  size : 12    0.0\n",
      "1 - ORG - LOC  size : 11    53.333333333333336\n",
      "1 - ORG - ORG  size : 7    50.0\n",
      "1 - ORG - POH  size : 10    61.53846153846153\n",
      "1 - PER - LOC  size : 10    42.10526315789474\n",
      "1 - PER - POH  size : 10    66.66666666666666\n"
     ]
    }
   ],
   "source": [
    "for i in compare3.fast.unique():\n",
    "    for j in compare3.subject_type.unique():\n",
    "        for k in compare3.object_type.unique():\n",
    "            x= compare3[(compare2.fast==i) & (compare3.subject_type==j) & (compare3.object_type==k)]\n",
    "\n",
    "            score = klue_re_micro_f1(x.pred_label, x.label)\n",
    "            if score <70:\n",
    "                print(f'{i} - {j} - {k}  size : {x.shape[0]}   ', score)"
   ]
  },
  {
   "cell_type": "code",
   "execution_count": 137,
   "metadata": {},
   "outputs": [
    {
     "name": "stdout",
     "output_type": "stream",
     "text": [
      "0 - ORG - ORG  size : 13    80.0\n",
      "0 - ORG - PER  size : 10    100.0\n",
      "0 - ORG - POH  size : 10    76.92307692307693\n",
      "0 - PER - DAT  size : 17    100.0\n",
      "0 - PER - LOC  size : 10    88.8888888888889\n",
      "0 - PER - ORG  size : 15    78.26086956521738\n",
      "0 - PER - PER  size : 10    88.88888888888889\n",
      "0 - PER - POH  size : 10    93.33333333333333\n",
      "1 - ORG - NOH  size : 6    100.0\n",
      "1 - ORG - PER  size : 10    94.11764705882352\n",
      "1 - PER - DAT  size : 3    100.0\n",
      "1 - PER - NOH  size : 6    80.0\n",
      "1 - PER - ORG  size : 5    85.71428571428571\n",
      "1 - PER - PER  size : 10    80.0\n"
     ]
    }
   ],
   "source": [
    "for i in compare3.fast.unique():\n",
    "    for j in compare3.subject_type.unique():\n",
    "        for k in compare3.object_type.unique():\n",
    "            x= compare3[(compare2.fast==i) & (compare3.subject_type==j) & (compare3.object_type==k)]\n",
    "\n",
    "            score = klue_re_micro_f1(x.pred_label, x.label)\n",
    "            if score >70:\n",
    "                print(f'{i} - {j} - {k}  size : {x.shape[0]}   ', score)"
   ]
  },
  {
   "cell_type": "code",
   "execution_count": 139,
   "metadata": {},
   "outputs": [
    {
     "name": "stdout",
     "output_type": "stream",
     "text": [
      "ORG - DAT  size : 20    44.44444444444444\n",
      "ORG - LOC  size : 20    59.25925925925925\n",
      "ORG - NOH  size : 20    66.66666666666666\n",
      "ORG - ORG  size : 20    73.68421052631578\n",
      "ORG - PER  size : 20    97.2972972972973\n",
      "ORG - POH  size : 20    69.23076923076924\n",
      "PER - DAT  size : 20    100.0\n",
      "PER - LOC  size : 20    64.86486486486486\n",
      "PER - NOH  size : 20    66.66666666666666\n",
      "PER - ORG  size : 20    80.00000000000001\n",
      "PER - PER  size : 20    84.84848484848484\n",
      "PER - POH  size : 20    80.00000000000001\n"
     ]
    }
   ],
   "source": [
    "\n",
    "for j in compare3.subject_type.unique():\n",
    "    for k in compare3.object_type.unique():\n",
    "        x= compare3[ (compare3.subject_type==j) & (compare3.object_type==k)]\n",
    "\n",
    "        score = klue_re_micro_f1(x.pred_label, x.label)\n",
    "        # if score >70:\n",
    "        print(f'{j} - {k}  size : {x.shape[0]}   ', score)"
   ]
  },
  {
   "cell_type": "code",
   "execution_count": 141,
   "metadata": {},
   "outputs": [
    {
     "name": "stdout",
     "output_type": "stream",
     "text": [
      "ORG - DAT  size : 20    44.44444444444444\n",
      "ORG - LOC  size : 20    59.25925925925925\n",
      "ORG - NOH  size : 20    66.66666666666666\n",
      "ORG - ORG  size : 20    73.68421052631578\n",
      "ORG - POH  size : 20    69.23076923076924\n",
      "PER - LOC  size : 20    64.86486486486486\n",
      "PER - NOH  size : 20    66.66666666666666\n"
     ]
    }
   ],
   "source": [
    "\n",
    "for j in compare3.subject_type.unique():\n",
    "    for k in compare3.object_type.unique():\n",
    "        x= compare3[ (compare3.subject_type==j) & (compare3.object_type==k)]\n",
    "\n",
    "        score = klue_re_micro_f1(x.pred_label, x.label)\n",
    "        if score <80:\n",
    "            print(f'{j} - {k}  size : {x.shape[0]}   ', score)"
   ]
  },
  {
   "cell_type": "code",
   "execution_count": 143,
   "metadata": {},
   "outputs": [
    {
     "data": {
      "text/plain": [
       "Index(['id', 'sentence', 'subject_entity', 'object_entity', 'label', 'source',\n",
       "       'object_type', 'subject_type', 'fast'],\n",
       "      dtype='object')"
      ]
     },
     "execution_count": 143,
     "metadata": {},
     "output_type": "execute_result"
    }
   ],
   "source": [
    "train_data2.columns"
   ]
  },
  {
   "cell_type": "code",
   "execution_count": 146,
   "metadata": {},
   "outputs": [
    {
     "data": {
      "text/html": [
       "<div>\n",
       "<style scoped>\n",
       "    .dataframe tbody tr th:only-of-type {\n",
       "        vertical-align: middle;\n",
       "    }\n",
       "\n",
       "    .dataframe tbody tr th {\n",
       "        vertical-align: top;\n",
       "    }\n",
       "\n",
       "    .dataframe thead th {\n",
       "        text-align: right;\n",
       "    }\n",
       "</style>\n",
       "<table border=\"1\" class=\"dataframe\">\n",
       "  <thead>\n",
       "    <tr style=\"text-align: right;\">\n",
       "      <th></th>\n",
       "      <th>id</th>\n",
       "      <th>sentence</th>\n",
       "      <th>subject_entity</th>\n",
       "      <th>object_entity</th>\n",
       "      <th>label</th>\n",
       "      <th>source</th>\n",
       "      <th>object_type</th>\n",
       "      <th>subject_type</th>\n",
       "      <th>fast</th>\n",
       "    </tr>\n",
       "  </thead>\n",
       "  <tbody>\n",
       "    <tr>\n",
       "      <th>30079</th>\n",
       "      <td>30079</td>\n",
       "      <td>이 시기에 ‘신사’라는 말과 ‘젠틀맨’이라는 말이 동일화된 직접적인 증거가 같은 해...</td>\n",
       "      <td>{'word': '동아일보', 'start_idx': 47, 'end_idx': 5...</td>\n",
       "      <td>{'word': '1920년', 'start_idx': 52, 'end_idx': ...</td>\n",
       "      <td>no_relation</td>\n",
       "      <td>wikipedia</td>\n",
       "      <td>DAT</td>\n",
       "      <td>ORG</td>\n",
       "      <td>0</td>\n",
       "    </tr>\n",
       "    <tr>\n",
       "      <th>13903</th>\n",
       "      <td>13903</td>\n",
       "      <td>현역 후반기에는 주로 좌완 원포인트 스페셜리스트 중간계투로 등판하였으며, 소속 팀 ...</td>\n",
       "      <td>{'word': '현대 유니콘스', 'start_idx': 46, 'end_idx'...</td>\n",
       "      <td>{'word': '2003년', 'start_idx': 71, 'end_idx': ...</td>\n",
       "      <td>no_relation</td>\n",
       "      <td>wikipedia</td>\n",
       "      <td>DAT</td>\n",
       "      <td>ORG</td>\n",
       "      <td>0</td>\n",
       "    </tr>\n",
       "    <tr>\n",
       "      <th>30109</th>\n",
       "      <td>30109</td>\n",
       "      <td>올리브영은 지난 1999년 11월에 1호점(신사점)을 열고, 국내 최초 헬스앤뷰티(...</td>\n",
       "      <td>{'word': '올리브영', 'start_idx': 0, 'end_idx': 3,...</td>\n",
       "      <td>{'word': '1999년', 'start_idx': 9, 'end_idx': 1...</td>\n",
       "      <td>no_relation</td>\n",
       "      <td>wikitree</td>\n",
       "      <td>DAT</td>\n",
       "      <td>ORG</td>\n",
       "      <td>0</td>\n",
       "    </tr>\n",
       "    <tr>\n",
       "      <th>31397</th>\n",
       "      <td>31397</td>\n",
       "      <td>2005년 8월 새롭게 창단된 경남 FC의 초대 감독으로 선임되었고 2007년 정규...</td>\n",
       "      <td>{'word': '경남 FC', 'start_idx': 17, 'end_idx': ...</td>\n",
       "      <td>{'word': '2007', 'start_idx': 38, 'end_idx': 4...</td>\n",
       "      <td>no_relation</td>\n",
       "      <td>wikipedia</td>\n",
       "      <td>DAT</td>\n",
       "      <td>ORG</td>\n",
       "      <td>0</td>\n",
       "    </tr>\n",
       "    <tr>\n",
       "      <th>12029</th>\n",
       "      <td>12029</td>\n",
       "      <td>정당으로는 독일 기독교 민주연합(CDU)과 그 자매당인 바이에른 기독교 사회연합(C...</td>\n",
       "      <td>{'word': '녹색당', 'start_idx': 135, 'end_idx': 1...</td>\n",
       "      <td>{'word': '1990년', 'start_idx': 174, 'end_idx':...</td>\n",
       "      <td>no_relation</td>\n",
       "      <td>wikipedia</td>\n",
       "      <td>DAT</td>\n",
       "      <td>ORG</td>\n",
       "      <td>0</td>\n",
       "    </tr>\n",
       "    <tr>\n",
       "      <th>...</th>\n",
       "      <td>...</td>\n",
       "      <td>...</td>\n",
       "      <td>...</td>\n",
       "      <td>...</td>\n",
       "      <td>...</td>\n",
       "      <td>...</td>\n",
       "      <td>...</td>\n",
       "      <td>...</td>\n",
       "      <td>...</td>\n",
       "    </tr>\n",
       "    <tr>\n",
       "      <th>3724</th>\n",
       "      <td>3724</td>\n",
       "      <td>가면라이더 아기토에서 츠가미 쇼이치를 연기한 카슈 토시키 가 우정 출연했다.</td>\n",
       "      <td>{'word': '츠가미 쇼이치', 'start_idx': 12, 'end_idx'...</td>\n",
       "      <td>{'word': '가면라이더 아기토', 'start_idx': 0, 'end_idx...</td>\n",
       "      <td>no_relation</td>\n",
       "      <td>wikipedia</td>\n",
       "      <td>POH</td>\n",
       "      <td>PER</td>\n",
       "      <td>1</td>\n",
       "    </tr>\n",
       "    <tr>\n",
       "      <th>12776</th>\n",
       "      <td>12776</td>\n",
       "      <td>「가면라이더 슈퍼1」에도 등장. 극중에서 게스트 출연한 이치몬지 하야토나 죠 시게루...</td>\n",
       "      <td>{'word': '이치몬지 하야토', 'start_idx': 31, 'end_idx...</td>\n",
       "      <td>{'word': '가면라이더', 'start_idx': 1, 'end_idx': 5...</td>\n",
       "      <td>no_relation</td>\n",
       "      <td>wikipedia</td>\n",
       "      <td>POH</td>\n",
       "      <td>PER</td>\n",
       "      <td>1</td>\n",
       "    </tr>\n",
       "    <tr>\n",
       "      <th>31575</th>\n",
       "      <td>31575</td>\n",
       "      <td>콩피에뉴는 제1차 세계 대전 당시 독일이 항복 협정을 맺은 장소였으며 히틀러는 이 ...</td>\n",
       "      <td>{'word': '히틀러', 'start_idx': 39, 'end_idx': 41...</td>\n",
       "      <td>{'word': '제1차 세계 대전', 'start_idx': 6, 'end_idx...</td>\n",
       "      <td>no_relation</td>\n",
       "      <td>wikipedia</td>\n",
       "      <td>POH</td>\n",
       "      <td>PER</td>\n",
       "      <td>1</td>\n",
       "    </tr>\n",
       "    <tr>\n",
       "      <th>6648</th>\n",
       "      <td>6648</td>\n",
       "      <td>미국 독립 전쟁에서 싸우고 조지 워싱턴과 가까이 복무한 그의 조부 윌리엄 콜팩스는 ...</td>\n",
       "      <td>{'word': '조지 워싱턴', 'start_idx': 15, 'end_idx':...</td>\n",
       "      <td>{'word': '미국 독립 전쟁', 'start_idx': 0, 'end_idx'...</td>\n",
       "      <td>no_relation</td>\n",
       "      <td>wikipedia</td>\n",
       "      <td>POH</td>\n",
       "      <td>PER</td>\n",
       "      <td>1</td>\n",
       "    </tr>\n",
       "    <tr>\n",
       "      <th>32011</th>\n",
       "      <td>32011</td>\n",
       "      <td>괴팅겐 7교수 사건으로 알려진 빌헬름 에두아르트 베버와 그림 형제, 수학에서는 카를...</td>\n",
       "      <td>{'word': '베르너 하이젠베르크', 'start_idx': 163, 'end_...</td>\n",
       "      <td>{'word': '물리학', 'start_idx': 156, 'end_idx': 1...</td>\n",
       "      <td>no_relation</td>\n",
       "      <td>wikipedia</td>\n",
       "      <td>POH</td>\n",
       "      <td>PER</td>\n",
       "      <td>1</td>\n",
       "    </tr>\n",
       "  </tbody>\n",
       "</table>\n",
       "<p>4769 rows × 9 columns</p>\n",
       "</div>"
      ],
      "text/plain": [
       "          id                                           sentence  \\\n",
       "30079  30079  이 시기에 ‘신사’라는 말과 ‘젠틀맨’이라는 말이 동일화된 직접적인 증거가 같은 해...   \n",
       "13903  13903  현역 후반기에는 주로 좌완 원포인트 스페셜리스트 중간계투로 등판하였으며, 소속 팀 ...   \n",
       "30109  30109  올리브영은 지난 1999년 11월에 1호점(신사점)을 열고, 국내 최초 헬스앤뷰티(...   \n",
       "31397  31397  2005년 8월 새롭게 창단된 경남 FC의 초대 감독으로 선임되었고 2007년 정규...   \n",
       "12029  12029  정당으로는 독일 기독교 민주연합(CDU)과 그 자매당인 바이에른 기독교 사회연합(C...   \n",
       "...      ...                                                ...   \n",
       "3724    3724         가면라이더 아기토에서 츠가미 쇼이치를 연기한 카슈 토시키 가 우정 출연했다.   \n",
       "12776  12776  「가면라이더 슈퍼1」에도 등장. 극중에서 게스트 출연한 이치몬지 하야토나 죠 시게루...   \n",
       "31575  31575  콩피에뉴는 제1차 세계 대전 당시 독일이 항복 협정을 맺은 장소였으며 히틀러는 이 ...   \n",
       "6648    6648  미국 독립 전쟁에서 싸우고 조지 워싱턴과 가까이 복무한 그의 조부 윌리엄 콜팩스는 ...   \n",
       "32011  32011  괴팅겐 7교수 사건으로 알려진 빌헬름 에두아르트 베버와 그림 형제, 수학에서는 카를...   \n",
       "\n",
       "                                          subject_entity  \\\n",
       "30079  {'word': '동아일보', 'start_idx': 47, 'end_idx': 5...   \n",
       "13903  {'word': '현대 유니콘스', 'start_idx': 46, 'end_idx'...   \n",
       "30109  {'word': '올리브영', 'start_idx': 0, 'end_idx': 3,...   \n",
       "31397  {'word': '경남 FC', 'start_idx': 17, 'end_idx': ...   \n",
       "12029  {'word': '녹색당', 'start_idx': 135, 'end_idx': 1...   \n",
       "...                                                  ...   \n",
       "3724   {'word': '츠가미 쇼이치', 'start_idx': 12, 'end_idx'...   \n",
       "12776  {'word': '이치몬지 하야토', 'start_idx': 31, 'end_idx...   \n",
       "31575  {'word': '히틀러', 'start_idx': 39, 'end_idx': 41...   \n",
       "6648   {'word': '조지 워싱턴', 'start_idx': 15, 'end_idx':...   \n",
       "32011  {'word': '베르너 하이젠베르크', 'start_idx': 163, 'end_...   \n",
       "\n",
       "                                           object_entity        label  \\\n",
       "30079  {'word': '1920년', 'start_idx': 52, 'end_idx': ...  no_relation   \n",
       "13903  {'word': '2003년', 'start_idx': 71, 'end_idx': ...  no_relation   \n",
       "30109  {'word': '1999년', 'start_idx': 9, 'end_idx': 1...  no_relation   \n",
       "31397  {'word': '2007', 'start_idx': 38, 'end_idx': 4...  no_relation   \n",
       "12029  {'word': '1990년', 'start_idx': 174, 'end_idx':...  no_relation   \n",
       "...                                                  ...          ...   \n",
       "3724   {'word': '가면라이더 아기토', 'start_idx': 0, 'end_idx...  no_relation   \n",
       "12776  {'word': '가면라이더', 'start_idx': 1, 'end_idx': 5...  no_relation   \n",
       "31575  {'word': '제1차 세계 대전', 'start_idx': 6, 'end_idx...  no_relation   \n",
       "6648   {'word': '미국 독립 전쟁', 'start_idx': 0, 'end_idx'...  no_relation   \n",
       "32011  {'word': '물리학', 'start_idx': 156, 'end_idx': 1...  no_relation   \n",
       "\n",
       "          source object_type subject_type  fast  \n",
       "30079  wikipedia         DAT          ORG     0  \n",
       "13903  wikipedia         DAT          ORG     0  \n",
       "30109   wikitree         DAT          ORG     0  \n",
       "31397  wikipedia         DAT          ORG     0  \n",
       "12029  wikipedia         DAT          ORG     0  \n",
       "...          ...         ...          ...   ...  \n",
       "3724   wikipedia         POH          PER     1  \n",
       "12776  wikipedia         POH          PER     1  \n",
       "31575  wikipedia         POH          PER     1  \n",
       "6648   wikipedia         POH          PER     1  \n",
       "32011  wikipedia         POH          PER     1  \n",
       "\n",
       "[4769 rows x 9 columns]"
      ]
     },
     "execution_count": 146,
     "metadata": {},
     "output_type": "execute_result"
    }
   ],
   "source": [
    "train_data2[train_data2['label']=='no_relation'].groupby(['object_type','subject_type','fast']).sample(frac=0.5, random_state=777)"
   ]
  },
  {
   "cell_type": "code",
   "execution_count": 147,
   "metadata": {},
   "outputs": [
    {
     "data": {
      "text/html": [
       "<div>\n",
       "<style scoped>\n",
       "    .dataframe tbody tr th:only-of-type {\n",
       "        vertical-align: middle;\n",
       "    }\n",
       "\n",
       "    .dataframe tbody tr th {\n",
       "        vertical-align: top;\n",
       "    }\n",
       "\n",
       "    .dataframe thead th {\n",
       "        text-align: right;\n",
       "    }\n",
       "</style>\n",
       "<table border=\"1\" class=\"dataframe\">\n",
       "  <thead>\n",
       "    <tr style=\"text-align: right;\">\n",
       "      <th></th>\n",
       "      <th>id</th>\n",
       "      <th>sentence</th>\n",
       "      <th>subject_entity</th>\n",
       "      <th>object_entity</th>\n",
       "      <th>label</th>\n",
       "      <th>source</th>\n",
       "      <th>object_type</th>\n",
       "      <th>subject_type</th>\n",
       "      <th>fast</th>\n",
       "    </tr>\n",
       "  </thead>\n",
       "  <tbody>\n",
       "    <tr>\n",
       "      <th>1</th>\n",
       "      <td>1</td>\n",
       "      <td>호남이 기반인 바른미래당·대안신당·민주평화당이 우여곡절 끝에 합당해 민생당(가칭)으...</td>\n",
       "      <td>{'word': '민주평화당', 'start_idx': 19, 'end_idx': ...</td>\n",
       "      <td>{'word': '대안신당', 'start_idx': 14, 'end_idx': 1...</td>\n",
       "      <td>no_relation</td>\n",
       "      <td>wikitree</td>\n",
       "      <td>ORG</td>\n",
       "      <td>ORG</td>\n",
       "      <td>1</td>\n",
       "    </tr>\n",
       "    <tr>\n",
       "      <th>2</th>\n",
       "      <td>2</td>\n",
       "      <td>K리그2에서 성적 1위를 달리고 있는 광주FC는 지난 26일 한국프로축구연맹으로부터...</td>\n",
       "      <td>{'word': '광주FC', 'start_idx': 21, 'end_idx': 2...</td>\n",
       "      <td>{'word': '한국프로축구연맹', 'start_idx': 34, 'end_idx...</td>\n",
       "      <td>org:member_of</td>\n",
       "      <td>wikitree</td>\n",
       "      <td>ORG</td>\n",
       "      <td>ORG</td>\n",
       "      <td>0</td>\n",
       "    </tr>\n",
       "    <tr>\n",
       "      <th>3</th>\n",
       "      <td>3</td>\n",
       "      <td>균일가 생활용품점 (주)아성다이소(대표 박정부)는 코로나19 바이러스로 어려움을 겪...</td>\n",
       "      <td>{'word': '아성다이소', 'start_idx': 13, 'end_idx': ...</td>\n",
       "      <td>{'word': '박정부', 'start_idx': 22, 'end_idx': 24...</td>\n",
       "      <td>org:top_members/employees</td>\n",
       "      <td>wikitree</td>\n",
       "      <td>PER</td>\n",
       "      <td>ORG</td>\n",
       "      <td>0</td>\n",
       "    </tr>\n",
       "    <tr>\n",
       "      <th>5</th>\n",
       "      <td>5</td>\n",
       "      <td>: 유엔, 유럽 의회, 북대서양 조약 기구 (NATO), 국제이주기구, 세계 보건 ...</td>\n",
       "      <td>{'word': '북대서양 조약 기구', 'start_idx': 13, 'end_i...</td>\n",
       "      <td>{'word': 'NATO', 'start_idx': 25, 'end_idx': 2...</td>\n",
       "      <td>org:alternate_names</td>\n",
       "      <td>wikipedia</td>\n",
       "      <td>ORG</td>\n",
       "      <td>ORG</td>\n",
       "      <td>0</td>\n",
       "    </tr>\n",
       "    <tr>\n",
       "      <th>6</th>\n",
       "      <td>6</td>\n",
       "      <td>그에 따라 나폴리와 계약을 연장한 마라도나는 1989년 팀을 UEFA컵 정상으로 인...</td>\n",
       "      <td>{'word': 'AC 밀란', 'start_idx': 64, 'end_idx': ...</td>\n",
       "      <td>{'word': '1989', 'start_idx': 25, 'end_idx': 2...</td>\n",
       "      <td>no_relation</td>\n",
       "      <td>wikipedia</td>\n",
       "      <td>DAT</td>\n",
       "      <td>ORG</td>\n",
       "      <td>1</td>\n",
       "    </tr>\n",
       "    <tr>\n",
       "      <th>...</th>\n",
       "      <td>...</td>\n",
       "      <td>...</td>\n",
       "      <td>...</td>\n",
       "      <td>...</td>\n",
       "      <td>...</td>\n",
       "      <td>...</td>\n",
       "      <td>...</td>\n",
       "      <td>...</td>\n",
       "      <td>...</td>\n",
       "    </tr>\n",
       "    <tr>\n",
       "      <th>32465</th>\n",
       "      <td>32465</td>\n",
       "      <td>한국당은 7일 오전 9시부터 오후 5시까지 진행된 원내대표 및 정책위의장 후보자 등...</td>\n",
       "      <td>{'word': '유기준', 'start_idx': 93, 'end_idx': 95...</td>\n",
       "      <td>{'word': '부산 서구·동구', 'start_idx': 100, 'end_id...</td>\n",
       "      <td>per:employee_of</td>\n",
       "      <td>wikitree</td>\n",
       "      <td>LOC</td>\n",
       "      <td>PER</td>\n",
       "      <td>0</td>\n",
       "    </tr>\n",
       "    <tr>\n",
       "      <th>32466</th>\n",
       "      <td>32466</td>\n",
       "      <td>법포는 다시 최시형, 서병학, 손병희 직계인 북접과 다시 서장옥, 전봉준, 김개남을...</td>\n",
       "      <td>{'word': '최시형', 'start_idx': 7, 'end_idx': 9, ...</td>\n",
       "      <td>{'word': '손병희', 'start_idx': 17, 'end_idx': 19...</td>\n",
       "      <td>per:colleagues</td>\n",
       "      <td>wikipedia</td>\n",
       "      <td>PER</td>\n",
       "      <td>PER</td>\n",
       "      <td>0</td>\n",
       "    </tr>\n",
       "    <tr>\n",
       "      <th>32467</th>\n",
       "      <td>32467</td>\n",
       "      <td>완도군(군수 신우철)이 국토교통부에서 실시한 '2019 교통문화지수 실태조사'에서 ...</td>\n",
       "      <td>{'word': '완도군', 'start_idx': 0, 'end_idx': 2, ...</td>\n",
       "      <td>{'word': '신우철', 'start_idx': 7, 'end_idx': 9, ...</td>\n",
       "      <td>org:top_members/employees</td>\n",
       "      <td>wikitree</td>\n",
       "      <td>PER</td>\n",
       "      <td>ORG</td>\n",
       "      <td>0</td>\n",
       "    </tr>\n",
       "    <tr>\n",
       "      <th>32468</th>\n",
       "      <td>32468</td>\n",
       "      <td>중앙일보, JTBC 회장을 지낸 이후 중앙홀딩스 회장, 재단법인 한반도평화만들기 이...</td>\n",
       "      <td>{'word': 'JTBC', 'start_idx': 6, 'end_idx': 9,...</td>\n",
       "      <td>{'word': '중앙홀딩스', 'start_idx': 21, 'end_idx': ...</td>\n",
       "      <td>no_relation</td>\n",
       "      <td>wikipedia</td>\n",
       "      <td>ORG</td>\n",
       "      <td>ORG</td>\n",
       "      <td>0</td>\n",
       "    </tr>\n",
       "    <tr>\n",
       "      <th>32469</th>\n",
       "      <td>32469</td>\n",
       "      <td>화순군(군수 구충곤)은 17일 동면의 이장 20여 명이 코로나 19 예방을 위해 버...</td>\n",
       "      <td>{'word': '화순군', 'start_idx': 0, 'end_idx': 2, ...</td>\n",
       "      <td>{'word': '구충곤', 'start_idx': 7, 'end_idx': 9, ...</td>\n",
       "      <td>org:top_members/employees</td>\n",
       "      <td>wikitree</td>\n",
       "      <td>PER</td>\n",
       "      <td>ORG</td>\n",
       "      <td>0</td>\n",
       "    </tr>\n",
       "  </tbody>\n",
       "</table>\n",
       "<p>27701 rows × 9 columns</p>\n",
       "</div>"
      ],
      "text/plain": [
       "          id                                           sentence  \\\n",
       "1          1  호남이 기반인 바른미래당·대안신당·민주평화당이 우여곡절 끝에 합당해 민생당(가칭)으...   \n",
       "2          2  K리그2에서 성적 1위를 달리고 있는 광주FC는 지난 26일 한국프로축구연맹으로부터...   \n",
       "3          3  균일가 생활용품점 (주)아성다이소(대표 박정부)는 코로나19 바이러스로 어려움을 겪...   \n",
       "5          5  : 유엔, 유럽 의회, 북대서양 조약 기구 (NATO), 국제이주기구, 세계 보건 ...   \n",
       "6          6  그에 따라 나폴리와 계약을 연장한 마라도나는 1989년 팀을 UEFA컵 정상으로 인...   \n",
       "...      ...                                                ...   \n",
       "32465  32465  한국당은 7일 오전 9시부터 오후 5시까지 진행된 원내대표 및 정책위의장 후보자 등...   \n",
       "32466  32466  법포는 다시 최시형, 서병학, 손병희 직계인 북접과 다시 서장옥, 전봉준, 김개남을...   \n",
       "32467  32467  완도군(군수 신우철)이 국토교통부에서 실시한 '2019 교통문화지수 실태조사'에서 ...   \n",
       "32468  32468  중앙일보, JTBC 회장을 지낸 이후 중앙홀딩스 회장, 재단법인 한반도평화만들기 이...   \n",
       "32469  32469  화순군(군수 구충곤)은 17일 동면의 이장 20여 명이 코로나 19 예방을 위해 버...   \n",
       "\n",
       "                                          subject_entity  \\\n",
       "1      {'word': '민주평화당', 'start_idx': 19, 'end_idx': ...   \n",
       "2      {'word': '광주FC', 'start_idx': 21, 'end_idx': 2...   \n",
       "3      {'word': '아성다이소', 'start_idx': 13, 'end_idx': ...   \n",
       "5      {'word': '북대서양 조약 기구', 'start_idx': 13, 'end_i...   \n",
       "6      {'word': 'AC 밀란', 'start_idx': 64, 'end_idx': ...   \n",
       "...                                                  ...   \n",
       "32465  {'word': '유기준', 'start_idx': 93, 'end_idx': 95...   \n",
       "32466  {'word': '최시형', 'start_idx': 7, 'end_idx': 9, ...   \n",
       "32467  {'word': '완도군', 'start_idx': 0, 'end_idx': 2, ...   \n",
       "32468  {'word': 'JTBC', 'start_idx': 6, 'end_idx': 9,...   \n",
       "32469  {'word': '화순군', 'start_idx': 0, 'end_idx': 2, ...   \n",
       "\n",
       "                                           object_entity  \\\n",
       "1      {'word': '대안신당', 'start_idx': 14, 'end_idx': 1...   \n",
       "2      {'word': '한국프로축구연맹', 'start_idx': 34, 'end_idx...   \n",
       "3      {'word': '박정부', 'start_idx': 22, 'end_idx': 24...   \n",
       "5      {'word': 'NATO', 'start_idx': 25, 'end_idx': 2...   \n",
       "6      {'word': '1989', 'start_idx': 25, 'end_idx': 2...   \n",
       "...                                                  ...   \n",
       "32465  {'word': '부산 서구·동구', 'start_idx': 100, 'end_id...   \n",
       "32466  {'word': '손병희', 'start_idx': 17, 'end_idx': 19...   \n",
       "32467  {'word': '신우철', 'start_idx': 7, 'end_idx': 9, ...   \n",
       "32468  {'word': '중앙홀딩스', 'start_idx': 21, 'end_idx': ...   \n",
       "32469  {'word': '구충곤', 'start_idx': 7, 'end_idx': 9, ...   \n",
       "\n",
       "                           label     source object_type subject_type  fast  \n",
       "1                    no_relation   wikitree         ORG          ORG     1  \n",
       "2                  org:member_of   wikitree         ORG          ORG     0  \n",
       "3      org:top_members/employees   wikitree         PER          ORG     0  \n",
       "5            org:alternate_names  wikipedia         ORG          ORG     0  \n",
       "6                    no_relation  wikipedia         DAT          ORG     1  \n",
       "...                          ...        ...         ...          ...   ...  \n",
       "32465            per:employee_of   wikitree         LOC          PER     0  \n",
       "32466             per:colleagues  wikipedia         PER          PER     0  \n",
       "32467  org:top_members/employees   wikitree         PER          ORG     0  \n",
       "32468                no_relation  wikipedia         ORG          ORG     0  \n",
       "32469  org:top_members/employees   wikitree         PER          ORG     0  \n",
       "\n",
       "[27701 rows x 9 columns]"
      ]
     },
     "execution_count": 147,
     "metadata": {},
     "output_type": "execute_result"
    }
   ],
   "source": [
    "train_data3 = train_data2.drop(train_data2[train_data2['label']=='no_relation'].groupby(['object_type','subject_type','fast']).sample(frac=0.5, random_state=777).index)\n",
    "train_data3"
   ]
  },
  {
   "cell_type": "code",
   "execution_count": 148,
   "metadata": {},
   "outputs": [
    {
     "name": "stdout",
     "output_type": "stream",
     "text": [
      "(240, 9) (27461, 6)\n"
     ]
    }
   ],
   "source": [
    "dev = train_data3.groupby(['object_type','subject_type']).sample(n=20, random_state=777)\n",
    "# dev = train_data2.iloc[dev_index]\n",
    "train = train_data3.drop(dev.index)\n",
    "train = train[train_data.columns]\n",
    "train= train.sample(frac=1, random_state=777)\n",
    "print(dev.shape,train.shape)\n",
    "dev.to_csv('../data/dataset/train/dev_0.5rel_type.csv')\n",
    "train.to_csv('../data/dataset/train/train_0.5rel_type.csv')"
   ]
  }
 ],
 "metadata": {
  "kernelspec": {
   "display_name": "base",
   "language": "python",
   "name": "python3"
  },
  "language_info": {
   "codemirror_mode": {
    "name": "ipython",
    "version": 3
   },
   "file_extension": ".py",
   "mimetype": "text/x-python",
   "name": "python",
   "nbconvert_exporter": "python",
   "pygments_lexer": "ipython3",
   "version": "3.8.5"
  }
 },
 "nbformat": 4,
 "nbformat_minor": 2
}
